{
  "nbformat": 4,
  "nbformat_minor": 0,
  "metadata": {
    "colab": {
      "name": "tweets_sentiment_capstone.ipynb",
      "provenance": [],
      "collapsed_sections": []
    },
    "kernelspec": {
      "name": "python3",
      "display_name": "Python 3"
    },
    "language_info": {
      "name": "python"
    }
  },
  "cells": [
    {
      "cell_type": "code",
      "metadata": {
        "colab": {
          "base_uri": "https://localhost:8080/",
          "height": 391
        },
        "id": "i8tX2Xb5C3bH",
        "outputId": "74bb231f-5bec-4b99-c73d-b13faca1dedb"
      },
      "source": [
        "\n",
        "import pandas as pd\n",
        "import numpy as np\n",
        "from sklearn.ensemble import RandomForestClassifier\n",
        "from sklearn.datasets import make_classification\n",
        "from sklearn.metrics import accuracy_score\n",
        "from sklearn.model_selection import train_test_split\n",
        "from sklearn.metrics import mean_squared_error\n",
        "from sklearn.feature_extraction.text import CountVectorizer\n",
        "from sklearn.feature_extraction.text import TfidfTransformer\n",
        "from xgboost import XGBClassifier\n",
        "from sklearn.model_selection import train_test_split\n",
        "from sklearn.metrics import accuracy_score\n",
        "from sklearn.metrics import roc_auc_score\n",
        "from sklearn.model_selection import LeaveOneOut\n",
        "from sklearn.model_selection import cross_val_score\n",
        "from sklearn.linear_model import LinearRegression\n",
        "\n",
        "#pre trained vector instead of all of the words t5,bert based word embeddings \n",
        "\n",
        "# load data\n",
        "tweets= pd.read_csv('https://raw.githubusercontent.com/jpc45/Amazon/main/dataset1.csv')\n",
        "y_use= tweets.iloc[:, 13].values #ground truth of train\n",
        "\n",
        "\n",
        "\n",
        "tweets = tweets.drop(columns = ['Unnamed: 14'])\n",
        "presence = tweets[(tweets['Presence/Absence'] == 1)]\n",
        "extra_sample = presence.sample(n=28, random_state =1234)\n",
        "tweets = tweets.append(extra_sample)\n",
        "y_use= tweets.iloc[:, 13].values #ground truth of train\n",
        "tweets.head()\n"
      ],
      "execution_count": null,
      "outputs": [
        {
          "output_type": "execute_result",
          "data": {
            "text/html": [
              "<div>\n",
              "<style scoped>\n",
              "    .dataframe tbody tr th:only-of-type {\n",
              "        vertical-align: middle;\n",
              "    }\n",
              "\n",
              "    .dataframe tbody tr th {\n",
              "        vertical-align: top;\n",
              "    }\n",
              "\n",
              "    .dataframe thead th {\n",
              "        text-align: right;\n",
              "    }\n",
              "</style>\n",
              "<table border=\"1\" class=\"dataframe\">\n",
              "  <thead>\n",
              "    <tr style=\"text-align: right;\">\n",
              "      <th></th>\n",
              "      <th>Org name</th>\n",
              "      <th>Org type</th>\n",
              "      <th>Forbes rank</th>\n",
              "      <th>CSR rank</th>\n",
              "      <th>Sector</th>\n",
              "      <th>Text</th>\n",
              "      <th>tweet_type</th>\n",
              "      <th>CODED_hashtags</th>\n",
              "      <th>CODED_media</th>\n",
              "      <th>CODED_urls</th>\n",
              "      <th>favorite_count</th>\n",
              "      <th>retweet_count</th>\n",
              "      <th>Date</th>\n",
              "      <th>Presence/Absence</th>\n",
              "    </tr>\n",
              "  </thead>\n",
              "  <tbody>\n",
              "    <tr>\n",
              "      <th>0</th>\n",
              "      <td>United Parcel Service</td>\n",
              "      <td>profit</td>\n",
              "      <td>41</td>\n",
              "      <td>60</td>\n",
              "      <td>Transportation</td>\n",
              "      <td>@GreenSolarWind Lon, on #WorldEnvironmentDay, ...</td>\n",
              "      <td>original</td>\n",
              "      <td>1</td>\n",
              "      <td>1</td>\n",
              "      <td>1</td>\n",
              "      <td>1</td>\n",
              "      <td>0</td>\n",
              "      <td>6/5/19</td>\n",
              "      <td>1</td>\n",
              "    </tr>\n",
              "    <tr>\n",
              "      <th>1</th>\n",
              "      <td>United Parcel Service</td>\n",
              "      <td>profit</td>\n",
              "      <td>41</td>\n",
              "      <td>60</td>\n",
              "      <td>Transportation</td>\n",
              "      <td>@joelgehman  Joel, It‚Äôs #WorldEnvironmentDay...</td>\n",
              "      <td>original</td>\n",
              "      <td>1</td>\n",
              "      <td>1</td>\n",
              "      <td>1</td>\n",
              "      <td>0</td>\n",
              "      <td>0</td>\n",
              "      <td>6/5/19</td>\n",
              "      <td>1</td>\n",
              "    </tr>\n",
              "    <tr>\n",
              "      <th>2</th>\n",
              "      <td>United Parcel Service</td>\n",
              "      <td>profit</td>\n",
              "      <td>41</td>\n",
              "      <td>60</td>\n",
              "      <td>Transportation</td>\n",
              "      <td>@NelsonSwitzer Nelson, today is #WorldEnvironm...</td>\n",
              "      <td>original</td>\n",
              "      <td>1</td>\n",
              "      <td>1</td>\n",
              "      <td>1</td>\n",
              "      <td>0</td>\n",
              "      <td>1</td>\n",
              "      <td>6/5/19</td>\n",
              "      <td>0</td>\n",
              "    </tr>\n",
              "    <tr>\n",
              "      <th>3</th>\n",
              "      <td>United Parcel Service</td>\n",
              "      <td>profit</td>\n",
              "      <td>41</td>\n",
              "      <td>60</td>\n",
              "      <td>Transportation</td>\n",
              "      <td>@hdbyrne Today is #WorldEnvironmentDay! The th...</td>\n",
              "      <td>original</td>\n",
              "      <td>1</td>\n",
              "      <td>1</td>\n",
              "      <td>1</td>\n",
              "      <td>1</td>\n",
              "      <td>0</td>\n",
              "      <td>6/5/19</td>\n",
              "      <td>0</td>\n",
              "    </tr>\n",
              "    <tr>\n",
              "      <th>4</th>\n",
              "      <td>United Parcel Service</td>\n",
              "      <td>profit</td>\n",
              "      <td>41</td>\n",
              "      <td>60</td>\n",
              "      <td>Transportation</td>\n",
              "      <td>@JohnRSeydel On #WorldEnvironmentDay, UPS cont...</td>\n",
              "      <td>original</td>\n",
              "      <td>1</td>\n",
              "      <td>1</td>\n",
              "      <td>1</td>\n",
              "      <td>1</td>\n",
              "      <td>0</td>\n",
              "      <td>6/5/19</td>\n",
              "      <td>1</td>\n",
              "    </tr>\n",
              "  </tbody>\n",
              "</table>\n",
              "</div>"
            ],
            "text/plain": [
              "                Org name Org type  ...    Date  Presence/Absence\n",
              "0  United Parcel Service   profit  ...  6/5/19                 1\n",
              "1  United Parcel Service   profit  ...  6/5/19                 1\n",
              "2  United Parcel Service   profit  ...  6/5/19                 0\n",
              "3  United Parcel Service   profit  ...  6/5/19                 0\n",
              "4  United Parcel Service   profit  ...  6/5/19                 1\n",
              "\n",
              "[5 rows x 14 columns]"
            ]
          },
          "metadata": {
            "tags": []
          },
          "execution_count": 1
        }
      ]
    },
    {
      "cell_type": "code",
      "metadata": {
        "id": "juxGzOrQDnsf"
      },
      "source": [
        "%matplotlib inline\n",
        "import seaborn as sns"
      ],
      "execution_count": null,
      "outputs": []
    },
    {
      "cell_type": "markdown",
      "metadata": {
        "id": "nA-EeTegSqcV"
      },
      "source": [
        "##Exploratory Analysis"
      ]
    },
    {
      "cell_type": "code",
      "metadata": {
        "colab": {
          "base_uri": "https://localhost:8080/",
          "height": 298
        },
        "id": "mMjc65roDoqb",
        "outputId": "527ba19c-96cb-4032-c119-77341a2ec64a"
      },
      "source": [
        "# the number of positive, negative and neutral reviews\n",
        "sns.countplot(x='Presence/Absence', data=tweets)"
      ],
      "execution_count": null,
      "outputs": [
        {
          "output_type": "execute_result",
          "data": {
            "text/plain": [
              "<matplotlib.axes._subplots.AxesSubplot at 0x7fa42ec911d0>"
            ]
          },
          "metadata": {
            "tags": []
          },
          "execution_count": 4
        },
        {
          "output_type": "display_data",
          "data": {
            "image/png": "[encoded data removed]",
            "text/plain": [
              "<Figure size 432x288 with 1 Axes>"
            ]
          },
          "metadata": {
            "tags": [],
            "needs_background": "light"
          }
        }
      ]
    },
    {
      "cell_type": "code",
      "metadata": {
        "colab": {
          "base_uri": "https://localhost:8080/",
          "height": 800
        },
        "id": "xl8wyFobEepK",
        "outputId": "73af1713-882e-4f06-da19-c629a51309aa"
      },
      "source": [
        "plot=sns.countplot(x='Sector', data=tweets)\n",
        "plot.set_xticklabels(plot.get_xticklabels(), rotation=45, horizontalalignment='right')"
      ],
      "execution_count": null,
      "outputs": [
        {
          "output_type": "execute_result",
          "data": {
            "text/plain": [
              "[Text(0, 0, 'Transportation'),\n",
              " Text(0, 0, 'Household Products'),\n",
              " Text(0, 0, 'Financials'),\n",
              " Text(0, 0, 'Energy'),\n",
              " Text(0, 0, 'Motor Vehicles & Parts'),\n",
              " Text(0, 0, 'Health Care'),\n",
              " Text(0, 0, 'Technology'),\n",
              " Text(0, 0, 'Engineering & Construction'),\n",
              " Text(0, 0, 'Materials'),\n",
              " Text(0, 0, 'Apparel'),\n",
              " Text(0, 0, 'Business Services'),\n",
              " Text(0, 0, 'Wholesalers'),\n",
              " Text(0, 0, 'Aerospace & Defense'),\n",
              " Text(0, 0, 'Retailing'),\n",
              " Text(0, 0, 'Hotels, Restaurants & Leisure'),\n",
              " Text(0, 0, 'Food, Beverages & Tobacco'),\n",
              " Text(0, 0, 'Healthcare'),\n",
              " Text(0, 0, 'Industrials'),\n",
              " Text(0, 0, 'Medical Products and Equipment'),\n",
              " Text(0, 0, 'Wholesalers: Electronics and Office Equipment'),\n",
              " Text(0, 0, 'Telecommunications'),\n",
              " Text(0, 0, 'Media')]"
            ]
          },
          "metadata": {
            "tags": []
          },
          "execution_count": 18
        },
        {
          "output_type": "display_data",
          "data": {
            "image/png": "[encoded data removed]",
            "text/plain": [
              "<Figure size 432x288 with 1 Axes>"
            ]
          },
          "metadata": {
            "tags": [],
            "needs_background": "light"
          }
        }
      ]
    },
    {
      "cell_type": "code",
      "metadata": {
        "colab": {
          "base_uri": "https://localhost:8080/",
          "height": 800
        },
        "id": "YuYF2Nn-FFSb",
        "outputId": "b7de9c88-29cf-433c-f4f2-f51a95545fee"
      },
      "source": [
        "plot=sns.countplot(x='Sector', hue='Presence/Absence', data=tweets)\n",
        "plot.set_xticklabels(plot.get_xticklabels(), rotation=45, horizontalalignment='right')"
      ],
      "execution_count": null,
      "outputs": [
        {
          "output_type": "execute_result",
          "data": {
            "text/plain": [
              "[Text(0, 0, 'Transportation'),\n",
              " Text(0, 0, 'Household Products'),\n",
              " Text(0, 0, 'Financials'),\n",
              " Text(0, 0, 'Energy'),\n",
              " Text(0, 0, 'Motor Vehicles & Parts'),\n",
              " Text(0, 0, 'Health Care'),\n",
              " Text(0, 0, 'Technology'),\n",
              " Text(0, 0, 'Engineering & Construction'),\n",
              " Text(0, 0, 'Materials'),\n",
              " Text(0, 0, 'Apparel'),\n",
              " Text(0, 0, 'Business Services'),\n",
              " Text(0, 0, 'Wholesalers'),\n",
              " Text(0, 0, 'Aerospace & Defense'),\n",
              " Text(0, 0, 'Retailing'),\n",
              " Text(0, 0, 'Hotels, Restaurants & Leisure'),\n",
              " Text(0, 0, 'Food, Beverages & Tobacco'),\n",
              " Text(0, 0, 'Healthcare'),\n",
              " Text(0, 0, 'Industrials'),\n",
              " Text(0, 0, 'Medical Products and Equipment'),\n",
              " Text(0, 0, 'Wholesalers: Electronics and Office Equipment'),\n",
              " Text(0, 0, 'Telecommunications'),\n",
              " Text(0, 0, 'Media')]"
            ]
          },
          "metadata": {
            "tags": []
          },
          "execution_count": 5
        },
        {
          "output_type": "display_data",
          "data": {
            "image/png": "[encoded data removed]",
            "text/plain": [
              "<Figure size 432x288 with 1 Axes>"
            ]
          },
          "metadata": {
            "tags": [],
            "needs_background": "light"
          }
        }
      ]
    },
    {
      "cell_type": "code",
      "metadata": {
        "colab": {
          "base_uri": "https://localhost:8080/",
          "height": 306
        },
        "id": "HNqsOkJfDGyF",
        "outputId": "e55354c7-4c10-48c3-94a7-e6ad8da137a3"
      },
      "source": [
        "tweets = tweets.drop(columns = ['Presence/Absence'])\n",
        "tweets.head()"
      ],
      "execution_count": null,
      "outputs": [
        {
          "output_type": "execute_result",
          "data": {
            "text/html": [
              "<div>\n",
              "<style scoped>\n",
              "    .dataframe tbody tr th:only-of-type {\n",
              "        vertical-align: middle;\n",
              "    }\n",
              "\n",
              "    .dataframe tbody tr th {\n",
              "        vertical-align: top;\n",
              "    }\n",
              "\n",
              "    .dataframe thead th {\n",
              "        text-align: right;\n",
              "    }\n",
              "</style>\n",
              "<table border=\"1\" class=\"dataframe\">\n",
              "  <thead>\n",
              "    <tr style=\"text-align: right;\">\n",
              "      <th></th>\n",
              "      <th>Org name</th>\n",
              "      <th>Org type</th>\n",
              "      <th>Forbes rank</th>\n",
              "      <th>CSR rank</th>\n",
              "      <th>Sector</th>\n",
              "      <th>Text</th>\n",
              "      <th>tweet_type</th>\n",
              "      <th>CODED_hashtags</th>\n",
              "      <th>CODED_media</th>\n",
              "      <th>CODED_urls</th>\n",
              "      <th>favorite_count</th>\n",
              "      <th>retweet_count</th>\n",
              "      <th>Date</th>\n",
              "    </tr>\n",
              "  </thead>\n",
              "  <tbody>\n",
              "    <tr>\n",
              "      <th>0</th>\n",
              "      <td>United Parcel Service</td>\n",
              "      <td>profit</td>\n",
              "      <td>41</td>\n",
              "      <td>60</td>\n",
              "      <td>Transportation</td>\n",
              "      <td>@GreenSolarWind Lon, on #WorldEnvironmentDay, ...</td>\n",
              "      <td>original</td>\n",
              "      <td>1</td>\n",
              "      <td>1</td>\n",
              "      <td>1</td>\n",
              "      <td>1</td>\n",
              "      <td>0</td>\n",
              "      <td>6/5/19</td>\n",
              "    </tr>\n",
              "    <tr>\n",
              "      <th>1</th>\n",
              "      <td>United Parcel Service</td>\n",
              "      <td>profit</td>\n",
              "      <td>41</td>\n",
              "      <td>60</td>\n",
              "      <td>Transportation</td>\n",
              "      <td>@joelgehman  Joel, It‚Äôs #WorldEnvironmentDay...</td>\n",
              "      <td>original</td>\n",
              "      <td>1</td>\n",
              "      <td>1</td>\n",
              "      <td>1</td>\n",
              "      <td>0</td>\n",
              "      <td>0</td>\n",
              "      <td>6/5/19</td>\n",
              "    </tr>\n",
              "    <tr>\n",
              "      <th>2</th>\n",
              "      <td>United Parcel Service</td>\n",
              "      <td>profit</td>\n",
              "      <td>41</td>\n",
              "      <td>60</td>\n",
              "      <td>Transportation</td>\n",
              "      <td>@NelsonSwitzer Nelson, today is #WorldEnvironm...</td>\n",
              "      <td>original</td>\n",
              "      <td>1</td>\n",
              "      <td>1</td>\n",
              "      <td>1</td>\n",
              "      <td>0</td>\n",
              "      <td>1</td>\n",
              "      <td>6/5/19</td>\n",
              "    </tr>\n",
              "    <tr>\n",
              "      <th>3</th>\n",
              "      <td>United Parcel Service</td>\n",
              "      <td>profit</td>\n",
              "      <td>41</td>\n",
              "      <td>60</td>\n",
              "      <td>Transportation</td>\n",
              "      <td>@hdbyrne Today is #WorldEnvironmentDay! The th...</td>\n",
              "      <td>original</td>\n",
              "      <td>1</td>\n",
              "      <td>1</td>\n",
              "      <td>1</td>\n",
              "      <td>1</td>\n",
              "      <td>0</td>\n",
              "      <td>6/5/19</td>\n",
              "    </tr>\n",
              "    <tr>\n",
              "      <th>4</th>\n",
              "      <td>United Parcel Service</td>\n",
              "      <td>profit</td>\n",
              "      <td>41</td>\n",
              "      <td>60</td>\n",
              "      <td>Transportation</td>\n",
              "      <td>@JohnRSeydel On #WorldEnvironmentDay, UPS cont...</td>\n",
              "      <td>original</td>\n",
              "      <td>1</td>\n",
              "      <td>1</td>\n",
              "      <td>1</td>\n",
              "      <td>1</td>\n",
              "      <td>0</td>\n",
              "      <td>6/5/19</td>\n",
              "    </tr>\n",
              "  </tbody>\n",
              "</table>\n",
              "</div>"
            ],
            "text/plain": [
              "                Org name Org type  ...  retweet_count    Date\n",
              "0  United Parcel Service   profit  ...              0  6/5/19\n",
              "1  United Parcel Service   profit  ...              0  6/5/19\n",
              "2  United Parcel Service   profit  ...              1  6/5/19\n",
              "3  United Parcel Service   profit  ...              0  6/5/19\n",
              "4  United Parcel Service   profit  ...              0  6/5/19\n",
              "\n",
              "[5 rows x 13 columns]"
            ]
          },
          "metadata": {
            "tags": []
          },
          "execution_count": 2
        }
      ]
    },
    {
      "cell_type": "code",
      "metadata": {
        "colab": {
          "base_uri": "https://localhost:8080/"
        },
        "id": "cgiPtpvqHRyZ",
        "outputId": "d137a4c2-ee4c-4bdf-a57b-9769bd4527bc"
      },
      "source": [
        "X_use = tweets.iloc[:, 5].values \n",
        "#y= tweets.iloc[:, 12].values\n",
        "\n",
        "print(X_use[0:5])"
      ],
      "execution_count": null,
      "outputs": [
        {
          "output_type": "stream",
          "text": [
            "['@GreenSolarWind Lon, on #WorldEnvironmentDay, UPS continues work on its #sustainability goals. We recently made the largest purchase of RNG ever, reducing our #GHG emissions by more than 1M metric tons. Subscribe to our newsletter to learn more: https://t.co/oEtJZOrxKp https://t.co/ilQGCcD5Hm'\n",
            " '@joelgehman  Joel, It‚Äôs #WorldEnvironmentDay. Did you know UPS recently made the largest purchase of RNG ever from CleanEnergy to help combat emissions? UPS‚Äôs #sustainability newsletter highlights this initiative. You can subscribe here: https://t.co/oEtJZOrxKp https://t.co/xYSq5VGA15'\n",
            " '@NelsonSwitzer Nelson, today is #WorldEnvironmentDay! The theme this year is air pollution. Find out how UPS continues to work on its sustainability goals by subscribing to our newsletter. https://t.co/oEtJZOrxKp https://t.co/kQNGASqn9O'\n",
            " '@hdbyrne Today is #WorldEnvironmentDay! The theme this year is air pollution. Find out how UPS continues to work on its sustainability goals by subscribing to our newsletter. https://t.co/oEtJZOrxKp https://t.co/7NxeF8Cpxc'\n",
            " '@JohnRSeydel On #WorldEnvironmentDay, UPS continues work on its #sustainability goals. We recently made the largest purchase of RNG ever, reducing our #GHG emissions by more than 1M metric tons. Subscribe to our newsletter to learn more https://t.co/oEtJZOrxKp https://t.co/vVmqo1lqY3']\n"
          ],
          "name": "stdout"
        }
      ]
    },
    {
      "cell_type": "code",
      "metadata": {
        "colab": {
          "base_uri": "https://localhost:8080/"
        },
        "id": "ctDbJmOpH5-Q",
        "outputId": "fc40abab-dfd5-475a-a0c3-cf04a20f4e02"
      },
      "source": [
        "print(y_use[0:5])\n",
        "print(len(X_use))\n",
        "print(len(y_use))"
      ],
      "execution_count": null,
      "outputs": [
        {
          "output_type": "stream",
          "text": [
            "[1 1 0 0 1]\n",
            "230\n",
            "230\n"
          ],
          "name": "stdout"
        }
      ]
    },
    {
      "cell_type": "markdown",
      "metadata": {
        "id": "s1LM-MFhSujU"
      },
      "source": [
        "#pre processing"
      ]
    },
    {
      "cell_type": "code",
      "metadata": {
        "id": "Gb_bGySxIC_t"
      },
      "source": [
        "import re\n",
        "processed_tweets = []\n",
        "\n",
        "# remove special characters and empty spaces in order to have a clean dataset\n",
        "for tweet in range(0, len(X_use)):  \n",
        "    # Remove all the special characters\n",
        "    processed_tweet = re.sub(r'\\W', ' ', str(X_use[tweet]))\n",
        " \n",
        "    # remove all single characters\n",
        "    processed_tweet = re.sub(r'\\s+[a-zA-Z]\\s+', ' ', processed_tweet)\n",
        " \n",
        "    # Remove single characters from the start\n",
        "    processed_tweet = re.sub(r'\\^[a-zA-Z]\\s+', ' ', processed_tweet) \n",
        " \n",
        "    # Substituting multiple spaces with single space\n",
        "    processed_tweet= re.sub(r'\\s+', ' ', processed_tweet, flags=re.I)\n",
        " \n",
        "    # Removing prefixed 'b'\n",
        "    processed_tweet = re.sub(r'^b\\s+', '', processed_tweet)\n",
        " \n",
        "    # Converting to Lowercase\n",
        "    processed_tweet = processed_tweet.lower()\n",
        " \n",
        "    processed_tweets.append(processed_tweet)"
      ],
      "execution_count": null,
      "outputs": []
    },
    {
      "cell_type": "markdown",
      "metadata": {
        "id": "qFfRNcY9H5tq"
      },
      "source": [
        ""
      ]
    },
    {
      "cell_type": "code",
      "metadata": {
        "colab": {
          "base_uri": "https://localhost:8080/"
        },
        "id": "jPTntcUqI8_I",
        "outputId": "3083465f-5711-4a5f-8151-a83a7d6e75a9"
      },
      "source": [
        "print(processed_tweets[0:5])"
      ],
      "execution_count": null,
      "outputs": [
        {
          "output_type": "stream",
          "text": [
            "[' greensolarwind lon on worldenvironmentday ups continues work on its sustainability goals we recently made the largest purchase of rng ever reducing our ghg emissions by more than 1m metric tons subscribe to our newsletter to learn more https co oetjzorxkp https co ilqgccd5hm', ' joelgehman joel it äôs worldenvironmentday did you know ups recently made the largest purchase of rng ever from cleanenergy to help combat emissions ups äôs sustainability newsletter highlights this initiative you can subscribe here https co oetjzorxkp https co xysq5vga15', ' nelsonswitzer nelson today is worldenvironmentday the theme this year is air pollution find out how ups continues to work on its sustainability goals by subscribing to our newsletter https co oetjzorxkp https co kqngasqn9o', ' hdbyrne today is worldenvironmentday the theme this year is air pollution find out how ups continues to work on its sustainability goals by subscribing to our newsletter https co oetjzorxkp https co 7nxef8cpxc', ' johnrseydel on worldenvironmentday ups continues work on its sustainability goals we recently made the largest purchase of rng ever reducing our ghg emissions by more than 1m metric tons subscribe to our newsletter to learn more https co oetjzorxkp https co vvmqo1lqy3']\n"
          ],
          "name": "stdout"
        }
      ]
    },
    {
      "cell_type": "markdown",
      "metadata": {
        "id": "zTpce2gCO2Ay"
      },
      "source": [
        "currently, the processed_tweets stll in sentence format. We need to convert it to TF-IDF before we can apply classifiers such as SVM and Random Forest. We will use sklearn.feature_extraction.text.TfidfVectorizer to convert the texts to TF-IDF format. Please refer to https://scikit-learn.org/stable/modules/generated/sklearn.feature_extraction.text.TfidfVectorizer.html for more details."
      ]
    },
    {
      "cell_type": "code",
      "metadata": {
        "colab": {
          "base_uri": "https://localhost:8080/"
        },
        "id": "nlul2UBHQsiG",
        "outputId": "95406256-a67c-48c7-bd5f-4a45296ca53b"
      },
      "source": [
        "import nltk\n",
        "nltk.download('stopwords')\n",
        "from nltk.corpus import stopwords\n",
        "stopwords=stopwords.words('english')\n",
        "print(stopwords)"
      ],
      "execution_count": null,
      "outputs": [
        {
          "output_type": "stream",
          "text": [
            "[nltk_data] Downloading package stopwords to /root/nltk_data...\n",
            "[nltk_data]   Unzipping corpora/stopwords.zip.\n",
            "['i', 'me', 'my', 'myself', 'we', 'our', 'ours', 'ourselves', 'you', \"you're\", \"you've\", \"you'll\", \"you'd\", 'your', 'yours', 'yourself', 'yourselves', 'he', 'him', 'his', 'himself', 'she', \"she's\", 'her', 'hers', 'herself', 'it', \"it's\", 'its', 'itself', 'they', 'them', 'their', 'theirs', 'themselves', 'what', 'which', 'who', 'whom', 'this', 'that', \"that'll\", 'these', 'those', 'am', 'is', 'are', 'was', 'were', 'be', 'been', 'being', 'have', 'has', 'had', 'having', 'do', 'does', 'did', 'doing', 'a', 'an', 'the', 'and', 'but', 'if', 'or', 'because', 'as', 'until', 'while', 'of', 'at', 'by', 'for', 'with', 'about', 'against', 'between', 'into', 'through', 'during', 'before', 'after', 'above', 'below', 'to', 'from', 'up', 'down', 'in', 'out', 'on', 'off', 'over', 'under', 'again', 'further', 'then', 'once', 'here', 'there', 'when', 'where', 'why', 'how', 'all', 'any', 'both', 'each', 'few', 'more', 'most', 'other', 'some', 'such', 'no', 'nor', 'not', 'only', 'own', 'same', 'so', 'than', 'too', 'very', 's', 't', 'can', 'will', 'just', 'don', \"don't\", 'should', \"should've\", 'now', 'd', 'll', 'm', 'o', 're', 've', 'y', 'ain', 'aren', \"aren't\", 'couldn', \"couldn't\", 'didn', \"didn't\", 'doesn', \"doesn't\", 'hadn', \"hadn't\", 'hasn', \"hasn't\", 'haven', \"haven't\", 'isn', \"isn't\", 'ma', 'mightn', \"mightn't\", 'mustn', \"mustn't\", 'needn', \"needn't\", 'shan', \"shan't\", 'shouldn', \"shouldn't\", 'wasn', \"wasn't\", 'weren', \"weren't\", 'won', \"won't\", 'wouldn', \"wouldn't\"]\n"
          ],
          "name": "stdout"
        }
      ]
    },
    {
      "cell_type": "code",
      "metadata": {
        "id": "VzQGN23iRNz-"
      },
      "source": [
        "## TF-IDF Scheme for Text to Numeric Feature Generation, please refer to \n",
        "from sklearn.feature_extraction.text import TfidfVectorizer  \n",
        "tfidfconverter = TfidfVectorizer(max_features=1200, min_df=5, max_df=0.7, stop_words=stopwords)  \n",
        "X_first_model = tfidfconverter.fit_transform(processed_tweets).toarray()"
      ],
      "execution_count": null,
      "outputs": []
    },
    {
      "cell_type": "code",
      "metadata": {
        "id": "J1zr_BhYNJtk",
        "colab": {
          "base_uri": "https://localhost:8080/"
        },
        "outputId": "ec30d375-153e-4943-e06d-5c5245494fd4"
      },
      "source": [
        "print(X_first_model[0:5])"
      ],
      "execution_count": null,
      "outputs": [
        {
          "output_type": "stream",
          "text": [
            "[[0. 0. 0. ... 0. 0. 0.]\n",
            " [0. 0. 0. ... 0. 0. 0.]\n",
            " [0. 0. 0. ... 0. 0. 0.]\n",
            " [0. 0. 0. ... 0. 0. 0.]\n",
            " [0. 0. 0. ... 0. 0. 0.]]\n"
          ],
          "name": "stdout"
        }
      ]
    },
    {
      "cell_type": "code",
      "metadata": {
        "colab": {
          "base_uri": "https://localhost:8080/",
          "height": 198
        },
        "id": "Nv169gTri5ng",
        "outputId": "579a3321-4c9e-416a-8b64-bd5e3028a363"
      },
      "source": [
        "from numpy import std\n",
        "from sklearn.metrics import f1_score\n",
        "cv= LeaveOneOut()\n",
        "model=RandomForestClassifier()\n",
        "scores= cross_val_score(model, X_first_model, y_use, scoring='accuracy',\n",
        "                         cv=cv, n_jobs=-1)\n",
        "print('Accuracy: %.3f (%.3f)' % (mean(scores), std(scores)))"
      ],
      "execution_count": null,
      "outputs": [
        {
          "output_type": "error",
          "ename": "NameError",
          "evalue": "ignored",
          "traceback": [
            "\u001b[0;31m---------------------------------------------------------------------------\u001b[0m",
            "\u001b[0;31mNameError\u001b[0m                                 Traceback (most recent call last)",
            "\u001b[0;32m<ipython-input-9-032592a727bc>\u001b[0m in \u001b[0;36m<module>\u001b[0;34m()\u001b[0m\n\u001b[1;32m      5\u001b[0m scores= cross_val_score(model, X_first_model, y_use, scoring='accuracy',\n\u001b[1;32m      6\u001b[0m                          cv=cv, n_jobs=-1)\n\u001b[0;32m----> 7\u001b[0;31m \u001b[0mprint\u001b[0m\u001b[0;34m(\u001b[0m\u001b[0;34m'Accuracy: %.3f (%.3f)'\u001b[0m \u001b[0;34m%\u001b[0m \u001b[0;34m(\u001b[0m\u001b[0mmean\u001b[0m\u001b[0;34m(\u001b[0m\u001b[0mscores\u001b[0m\u001b[0;34m)\u001b[0m\u001b[0;34m,\u001b[0m \u001b[0mstd\u001b[0m\u001b[0;34m(\u001b[0m\u001b[0mscores\u001b[0m\u001b[0;34m)\u001b[0m\u001b[0;34m)\u001b[0m\u001b[0;34m)\u001b[0m\u001b[0;34m\u001b[0m\u001b[0;34m\u001b[0m\u001b[0m\n\u001b[0m",
            "\u001b[0;31mNameError\u001b[0m: name 'mean' is not defined"
          ]
        }
      ]
    },
    {
      "cell_type": "code",
      "metadata": {
        "colab": {
          "base_uri": "https://localhost:8080/"
        },
        "id": "muJ78BA1jS6c",
        "outputId": "14c071cc-e8e7-4408-f79f-2b1fb4f15042"
      },
      "source": [
        "from numpy import mean\n",
        "from numpy import absolute\n",
        "from numpy import sqrt\n",
        "sqrt(mean(absolute(scores)))"
      ],
      "execution_count": null,
      "outputs": [
        {
          "output_type": "execute_result",
          "data": {
            "text/plain": [
              "0.9184107255849995"
            ]
          },
          "metadata": {
            "tags": []
          },
          "execution_count": 11
        }
      ]
    },
    {
      "cell_type": "code",
      "metadata": {
        "id": "9WPzMnNwjwTA"
      },
      "source": [
        ""
      ],
      "execution_count": null,
      "outputs": []
    },
    {
      "cell_type": "code",
      "metadata": {
        "id": "e_jPRvwKjoB0"
      },
      "source": [
        ""
      ],
      "execution_count": null,
      "outputs": []
    },
    {
      "cell_type": "code",
      "metadata": {
        "id": "D4ORtVh7jkEo"
      },
      "source": [
        "tn, fp, fn, tp = confusion_matrix(y_use, ).ravel()"
      ],
      "execution_count": null,
      "outputs": []
    },
    {
      "cell_type": "code",
      "metadata": {
        "id": "KIcg-oF0Rta2"
      },
      "source": [
        "## Dividing Data to Training and Test Sets, with 20% as the test set #change to x firsty model\n",
        "\n",
        "X_train, X_test, y_train, y_test = train_test_split(X_first_model, y_use, test_size=0.2, random_state=0)"
      ],
      "execution_count": null,
      "outputs": []
    },
    {
      "cell_type": "markdown",
      "metadata": {
        "id": "Sf4Bii5vSyAC"
      },
      "source": [
        "## forest"
      ]
    },
    {
      "cell_type": "code",
      "metadata": {
        "colab": {
          "base_uri": "https://localhost:8080/"
        },
        "id": "LAVn-DowRt4D",
        "outputId": "54e98177-17cc-41dc-d018-eb7e653bbcbc"
      },
      "source": [
        "# the classifier of randomforest\n",
        "\n",
        "classifier_RandomForestClassifier = RandomForestClassifier(n_estimators=100, random_state=0)  \n",
        "classifier_RandomForestClassifier.fit(X_train, y_train)\n"
      ],
      "execution_count": null,
      "outputs": [
        {
          "output_type": "execute_result",
          "data": {
            "text/plain": [
              "RandomForestClassifier(bootstrap=True, ccp_alpha=0.0, class_weight=None,\n",
              "                       criterion='gini', max_depth=None, max_features='auto',\n",
              "                       max_leaf_nodes=None, max_samples=None,\n",
              "                       min_impurity_decrease=0.0, min_impurity_split=None,\n",
              "                       min_samples_leaf=1, min_samples_split=2,\n",
              "                       min_weight_fraction_leaf=0.0, n_estimators=100,\n",
              "                       n_jobs=None, oob_score=False, random_state=0, verbose=0,\n",
              "                       warm_start=False)"
            ]
          },
          "metadata": {
            "tags": []
          },
          "execution_count": 20
        }
      ]
    },
    {
      "cell_type": "code",
      "metadata": {
        "id": "Up0ffItDRuGT",
        "colab": {
          "base_uri": "https://localhost:8080/"
        },
        "outputId": "c48de51f-478a-4f1c-d48f-08fad3ee10fc"
      },
      "source": [
        "# make predictions on the test set\n",
        "predictions_RandomForestClassifier = classifier_RandomForestClassifier.predict(X_test)\n",
        "print(predictions_RandomForestClassifier)"
      ],
      "execution_count": null,
      "outputs": [
        {
          "output_type": "stream",
          "text": [
            "[0 0 1 0 1 0 1 0 1 0 1 0 0 1 0 0 0 1 0 0 1 0 1 1 1 1 1 0 1 1 1 1 0 1 0 1 1\n",
            " 1 1 0 1 1 0 0 1 1]\n"
          ],
          "name": "stdout"
        }
      ]
    },
    {
      "cell_type": "code",
      "metadata": {
        "colab": {
          "base_uri": "https://localhost:8080/"
        },
        "id": "fZfgjB74Sh6F",
        "outputId": "fd08bb74-c68c-4900-ac54-aadc4c886b9f"
      },
      "source": [
        "print(accuracy_score(y_test, predictions_RandomForestClassifier))\n"
      ],
      "execution_count": null,
      "outputs": [
        {
          "output_type": "stream",
          "text": [
            "0.8913043478260869\n"
          ],
          "name": "stdout"
        }
      ]
    },
    {
      "cell_type": "markdown",
      "metadata": {
        "id": "5sEzf8AGSmFn"
      },
      "source": [
        "##Perceptron"
      ]
    },
    {
      "cell_type": "code",
      "metadata": {
        "colab": {
          "base_uri": "https://localhost:8080/"
        },
        "id": "Gx5bkhbMSksl",
        "outputId": "dae58868-01a3-4ec4-8d07-e07fac24eb2d"
      },
      "source": [
        "# the classifier of # Multi-layer Perceptron classifier, simple version of neural networks\n",
        "from sklearn.neural_network import MLPClassifier\n",
        "classifier_MLPClassifier = MLPClassifier(alpha=1, max_iter=10)\n",
        "classifier_MLPClassifier.fit(X_train, y_train)\n",
        "predictions_MLPClassifier = classifier_MLPClassifier.predict(X_test)\n",
        "print(accuracy_score(y_test, predictions_MLPClassifier))"
      ],
      "execution_count": null,
      "outputs": [
        {
          "output_type": "stream",
          "text": [
            "0.3695652173913043\n"
          ],
          "name": "stdout"
        },
        {
          "output_type": "stream",
          "text": [
            "/usr/local/lib/python3.7/dist-packages/sklearn/neural_network/_multilayer_perceptron.py:571: ConvergenceWarning: Stochastic Optimizer: Maximum iterations (10) reached and the optimization hasn't converged yet.\n",
            "  % self.max_iter, ConvergenceWarning)\n"
          ],
          "name": "stderr"
        }
      ]
    },
    {
      "cell_type": "markdown",
      "metadata": {
        "id": "kYkxcDEzS6pY"
      },
      "source": [
        "##svm"
      ]
    },
    {
      "cell_type": "code",
      "metadata": {
        "colab": {
          "base_uri": "https://localhost:8080/"
        },
        "id": "sOWXUVcgS7u4",
        "outputId": "53ed6f06-731e-4503-accf-2d95e6f06115"
      },
      "source": [
        "from sklearn.svm import SVC\n",
        "classifier_SVC = SVC(kernel=\"linear\", C=0.025, max_iter=200)\n",
        "classifier_SVC.fit(X_train, y_train)\n",
        "predictions_SVC = classifier_SVC.predict(X_test)\n",
        "print(accuracy_score(y_test, predictions_SVC))"
      ],
      "execution_count": null,
      "outputs": [
        {
          "output_type": "stream",
          "text": [
            "0.3695652173913043\n"
          ],
          "name": "stdout"
        }
      ]
    },
    {
      "cell_type": "markdown",
      "metadata": {
        "id": "kU3glb4xTC6f"
      },
      "source": [
        "##bayes"
      ]
    },
    {
      "cell_type": "code",
      "metadata": {
        "colab": {
          "base_uri": "https://localhost:8080/"
        },
        "id": "GQnmRxmTTEsG",
        "outputId": "a26f408e-df7e-4e59-bfa3-739187c0405a"
      },
      "source": [
        "from sklearn.naive_bayes import MultinomialNB\n",
        "classifier_MNB = MultinomialNB()\n",
        "classifier_MNB.fit(X_train, y_train)\n",
        "predictions_MNB = classifier_MNB.predict(X_test)\n",
        "print(accuracy_score(y_test, predictions_MNB))"
      ],
      "execution_count": null,
      "outputs": [
        {
          "output_type": "stream",
          "text": [
            "0.7391304347826086\n"
          ],
          "name": "stdout"
        }
      ]
    },
    {
      "cell_type": "markdown",
      "metadata": {
        "id": "SS44SGNGUCVP"
      },
      "source": [
        "##xgb"
      ]
    },
    {
      "cell_type": "code",
      "metadata": {
        "colab": {
          "base_uri": "https://localhost:8080/"
        },
        "id": "hjIQPLgCTysS",
        "outputId": "4bf7244b-3844-4887-f310-837699ecbd69"
      },
      "source": [
        "classifier_XGB = XGBClassifier()\n",
        "classifier_XGB.fit(X_train, y_train)\n",
        "predictions_XGB = classifier_XGB.predict(X_test)\n",
        "print(predictions_XGB)\n",
        "\n",
        "print(accuracy_score(y_test,predictions_XGB))"
      ],
      "execution_count": null,
      "outputs": [
        {
          "output_type": "stream",
          "text": [
            "[0 0 0 0 1 0 1 0 1 0 1 0 0 1 0 0 0 1 0 0 1 0 1 0 1 0 0 0 1 1 1 0 0 1 0 1 1\n",
            " 1 1 0 0 1 0 0 1 0]\n",
            "0.7391304347826086\n"
          ],
          "name": "stdout"
        }
      ]
    },
    {
      "cell_type": "markdown",
      "metadata": {
        "id": "ermouxrQI6lr"
      },
      "source": [
        "attempting to use large dataset"
      ]
    },
    {
      "cell_type": "markdown",
      "metadata": {
        "id": "5CS94uDRu_jX"
      },
      "source": [
        "##Now using entire 200 labeled as train and testing on unlabeled random 200 row sample..."
      ]
    },
    {
      "cell_type": "code",
      "metadata": {
        "id": "yZ9-N7fLu_RW"
      },
      "source": [
        "#tweets= pd.read_csv('https://raw.githubusercontent.com/jpc45/Amazon/main/dataset1.csv')\n",
        "#tweets.head()"
      ],
      "execution_count": null,
      "outputs": []
    },
    {
      "cell_type": "code",
      "metadata": {
        "id": "TP85Br3uvuxz"
      },
      "source": [
        ""
      ],
      "execution_count": null,
      "outputs": []
    },
    {
      "cell_type": "markdown",
      "metadata": {
        "id": "gfuM5hjJwfUo"
      },
      "source": [
        "now for test data"
      ]
    },
    {
      "cell_type": "code",
      "metadata": {
        "colab": {
          "base_uri": "https://localhost:8080/",
          "height": 602
        },
        "id": "GLAdNnzSGCS8",
        "outputId": "e33bd06a-8f35-4f77-d61d-7c44f4e3a74a"
      },
      "source": [
        "#from google.colab import drive\n",
        "#drive.mount(\"/content/drive/\")\n",
        "#%cd '/content/drive/My Drive/Colab Notebooks/capstone'\n",
        "\n",
        "test_data = pd.read_csv('https://raw.githubusercontent.com/jpc45/Amazon/main/environmental%20tweets.csv')\n",
        "test_data = test_data.drop(columns = ['Unnamed: 13'])\n",
        "# read the data\n",
        "print('Loading data ...')\n",
        "#test_data = pd.read_csv('environmental tweets.csv')\n",
        "print('Done!')\n",
        "test_data\n"
      ],
      "execution_count": null,
      "outputs": [
        {
          "output_type": "stream",
          "text": [
            "Loading data ...\n",
            "Done!\n"
          ],
          "name": "stdout"
        },
        {
          "output_type": "execute_result",
          "data": {
            "text/html": [
              "<div>\n",
              "<style scoped>\n",
              "    .dataframe tbody tr th:only-of-type {\n",
              "        vertical-align: middle;\n",
              "    }\n",
              "\n",
              "    .dataframe tbody tr th {\n",
              "        vertical-align: top;\n",
              "    }\n",
              "\n",
              "    .dataframe thead th {\n",
              "        text-align: right;\n",
              "    }\n",
              "</style>\n",
              "<table border=\"1\" class=\"dataframe\">\n",
              "  <thead>\n",
              "    <tr style=\"text-align: right;\">\n",
              "      <th></th>\n",
              "      <th>Org name</th>\n",
              "      <th>Org type</th>\n",
              "      <th>Forbes rank</th>\n",
              "      <th>CSR rank</th>\n",
              "      <th>Sector</th>\n",
              "      <th>Text</th>\n",
              "      <th>tweet_type</th>\n",
              "      <th>CODED_hashtags</th>\n",
              "      <th>CODED_media</th>\n",
              "      <th>CODED_urls</th>\n",
              "      <th>favorite_count</th>\n",
              "      <th>retweet_count</th>\n",
              "      <th>Date</th>\n",
              "    </tr>\n",
              "  </thead>\n",
              "  <tbody>\n",
              "    <tr>\n",
              "      <th>0</th>\n",
              "      <td>CVS Health</td>\n",
              "      <td>profit</td>\n",
              "      <td>8</td>\n",
              "      <td>59.0</td>\n",
              "      <td>Healthcare</td>\n",
              "      <td>Barbershops are already the unofficial social ...</td>\n",
              "      <td>original</td>\n",
              "      <td>1</td>\n",
              "      <td>1</td>\n",
              "      <td>1</td>\n",
              "      <td>10</td>\n",
              "      <td>2</td>\n",
              "      <td>12/31/19</td>\n",
              "    </tr>\n",
              "    <tr>\n",
              "      <th>1</th>\n",
              "      <td>CVS Health</td>\n",
              "      <td>profit</td>\n",
              "      <td>8</td>\n",
              "      <td>59.0</td>\n",
              "      <td>Healthcare</td>\n",
              "      <td>We‚Äôre honored to be recognized in the @HACRO...</td>\n",
              "      <td>original</td>\n",
              "      <td>1</td>\n",
              "      <td>1</td>\n",
              "      <td>0</td>\n",
              "      <td>2</td>\n",
              "      <td>1</td>\n",
              "      <td>12/20/19</td>\n",
              "    </tr>\n",
              "    <tr>\n",
              "      <th>2</th>\n",
              "      <td>CVS Health</td>\n",
              "      <td>profit</td>\n",
              "      <td>8</td>\n",
              "      <td>59.0</td>\n",
              "      <td>Healthcare</td>\n",
              "      <td>In #Nashville, we sat down with the folks behi...</td>\n",
              "      <td>original</td>\n",
              "      <td>1</td>\n",
              "      <td>1</td>\n",
              "      <td>1</td>\n",
              "      <td>9</td>\n",
              "      <td>9</td>\n",
              "      <td>12/19/19</td>\n",
              "    </tr>\n",
              "    <tr>\n",
              "      <th>3</th>\n",
              "      <td>CVS Health</td>\n",
              "      <td>profit</td>\n",
              "      <td>8</td>\n",
              "      <td>59.0</td>\n",
              "      <td>Healthcare</td>\n",
              "      <td>A grant from @Aetna Better Health of #WestVirg...</td>\n",
              "      <td>original</td>\n",
              "      <td>1</td>\n",
              "      <td>0</td>\n",
              "      <td>1</td>\n",
              "      <td>4</td>\n",
              "      <td>1</td>\n",
              "      <td>12/18/19</td>\n",
              "    </tr>\n",
              "    <tr>\n",
              "      <th>4</th>\n",
              "      <td>CVS Health</td>\n",
              "      <td>profit</td>\n",
              "      <td>8</td>\n",
              "      <td>59.0</td>\n",
              "      <td>Healthcare</td>\n",
              "      <td>Mercy Care, an @Aetna-managed Medicaid program...</td>\n",
              "      <td>original</td>\n",
              "      <td>0</td>\n",
              "      <td>0</td>\n",
              "      <td>1</td>\n",
              "      <td>1</td>\n",
              "      <td>1</td>\n",
              "      <td>12/17/19</td>\n",
              "    </tr>\n",
              "    <tr>\n",
              "      <th>...</th>\n",
              "      <td>...</td>\n",
              "      <td>...</td>\n",
              "      <td>...</td>\n",
              "      <td>...</td>\n",
              "      <td>...</td>\n",
              "      <td>...</td>\n",
              "      <td>...</td>\n",
              "      <td>...</td>\n",
              "      <td>...</td>\n",
              "      <td>...</td>\n",
              "      <td>...</td>\n",
              "      <td>...</td>\n",
              "      <td>...</td>\n",
              "    </tr>\n",
              "    <tr>\n",
              "      <th>52790</th>\n",
              "      <td>General Dynamics</td>\n",
              "      <td>profit</td>\n",
              "      <td>92</td>\n",
              "      <td>51.0</td>\n",
              "      <td>Aerospace &amp; Defense</td>\n",
              "      <td>Attending #NSBE45 in Detroit next week? So are...</td>\n",
              "      <td>original</td>\n",
              "      <td>1</td>\n",
              "      <td>1</td>\n",
              "      <td>1</td>\n",
              "      <td>20</td>\n",
              "      <td>3</td>\n",
              "      <td>3/21/19</td>\n",
              "    </tr>\n",
              "    <tr>\n",
              "      <th>52791</th>\n",
              "      <td>General Dynamics</td>\n",
              "      <td>profit</td>\n",
              "      <td>92</td>\n",
              "      <td>51.0</td>\n",
              "      <td>Aerospace &amp; Defense</td>\n",
              "      <td>Now that‚Äôs a cover photo ‚Äì @NatGeoMag repo...</td>\n",
              "      <td>original</td>\n",
              "      <td>1</td>\n",
              "      <td>1</td>\n",
              "      <td>1</td>\n",
              "      <td>23</td>\n",
              "      <td>6</td>\n",
              "      <td>3/11/19</td>\n",
              "    </tr>\n",
              "    <tr>\n",
              "      <th>52792</th>\n",
              "      <td>General Dynamics</td>\n",
              "      <td>profit</td>\n",
              "      <td>92</td>\n",
              "      <td>51.0</td>\n",
              "      <td>Aerospace &amp; Defense</td>\n",
              "      <td>The agenda for #DC19Denver has been released ‚...</td>\n",
              "      <td>original</td>\n",
              "      <td>1</td>\n",
              "      <td>0</td>\n",
              "      <td>1</td>\n",
              "      <td>12</td>\n",
              "      <td>5</td>\n",
              "      <td>1/30/19</td>\n",
              "    </tr>\n",
              "    <tr>\n",
              "      <th>52793</th>\n",
              "      <td>General Dynamics</td>\n",
              "      <td>profit</td>\n",
              "      <td>92</td>\n",
              "      <td>51.0</td>\n",
              "      <td>Aerospace &amp; Defense</td>\n",
              "      <td>Scalable for any mission. Collect, analyze and...</td>\n",
              "      <td>original</td>\n",
              "      <td>0</td>\n",
              "      <td>1</td>\n",
              "      <td>1</td>\n",
              "      <td>13</td>\n",
              "      <td>3</td>\n",
              "      <td>1/30/19</td>\n",
              "    </tr>\n",
              "    <tr>\n",
              "      <th>52794</th>\n",
              "      <td>General Dynamics</td>\n",
              "      <td>profit</td>\n",
              "      <td>92</td>\n",
              "      <td>51.0</td>\n",
              "      <td>Aerospace &amp; Defense</td>\n",
              "      <td>‚ÄúI enjoy that General Dynamics has the resou...</td>\n",
              "      <td>original</td>\n",
              "      <td>0</td>\n",
              "      <td>1</td>\n",
              "      <td>1</td>\n",
              "      <td>15</td>\n",
              "      <td>3</td>\n",
              "      <td>1/8/19</td>\n",
              "    </tr>\n",
              "  </tbody>\n",
              "</table>\n",
              "<p>52795 rows × 13 columns</p>\n",
              "</div>"
            ],
            "text/plain": [
              "               Org name Org type  ...  retweet_count      Date\n",
              "0            CVS Health   profit  ...              2  12/31/19\n",
              "1            CVS Health   profit  ...              1  12/20/19\n",
              "2            CVS Health   profit  ...              9  12/19/19\n",
              "3            CVS Health   profit  ...              1  12/18/19\n",
              "4            CVS Health   profit  ...              1  12/17/19\n",
              "...                 ...      ...  ...            ...       ...\n",
              "52790  General Dynamics   profit  ...              3   3/21/19\n",
              "52791  General Dynamics   profit  ...              6   3/11/19\n",
              "52792  General Dynamics   profit  ...              5   1/30/19\n",
              "52793  General Dynamics   profit  ...              3   1/30/19\n",
              "52794  General Dynamics   profit  ...              3    1/8/19\n",
              "\n",
              "[52795 rows x 13 columns]"
            ]
          },
          "metadata": {
            "tags": []
          },
          "execution_count": 13
        }
      ]
    },
    {
      "cell_type": "code",
      "metadata": {
        "id": "79fzb6hLELXn"
      },
      "source": [
        "#tweets\n"
      ],
      "execution_count": null,
      "outputs": []
    },
    {
      "cell_type": "code",
      "metadata": {
        "colab": {
          "base_uri": "https://localhost:8080/",
          "height": 191
        },
        "id": "YE3Udn54H0Uv",
        "outputId": "3a41ca9b-e93a-4486-b9e4-0780b60a553d"
      },
      "source": [
        "test_data.head()"
      ],
      "execution_count": null,
      "outputs": [
        {
          "output_type": "execute_result",
          "data": {
            "text/html": [
              "<div>\n",
              "<style scoped>\n",
              "    .dataframe tbody tr th:only-of-type {\n",
              "        vertical-align: middle;\n",
              "    }\n",
              "\n",
              "    .dataframe tbody tr th {\n",
              "        vertical-align: top;\n",
              "    }\n",
              "\n",
              "    .dataframe thead th {\n",
              "        text-align: right;\n",
              "    }\n",
              "</style>\n",
              "<table border=\"1\" class=\"dataframe\">\n",
              "  <thead>\n",
              "    <tr style=\"text-align: right;\">\n",
              "      <th></th>\n",
              "      <th>Org name</th>\n",
              "      <th>Org type</th>\n",
              "      <th>Forbes rank</th>\n",
              "      <th>CSR rank</th>\n",
              "      <th>Sector</th>\n",
              "      <th>Text</th>\n",
              "      <th>tweet_type</th>\n",
              "      <th>CODED_hashtags</th>\n",
              "      <th>CODED_media</th>\n",
              "      <th>CODED_urls</th>\n",
              "      <th>favorite_count</th>\n",
              "      <th>retweet_count</th>\n",
              "      <th>Date</th>\n",
              "    </tr>\n",
              "  </thead>\n",
              "  <tbody>\n",
              "    <tr>\n",
              "      <th>0</th>\n",
              "      <td>CVS Health</td>\n",
              "      <td>profit</td>\n",
              "      <td>8</td>\n",
              "      <td>59.0</td>\n",
              "      <td>Healthcare</td>\n",
              "      <td>Barbershops are already the unofficial social ...</td>\n",
              "      <td>original</td>\n",
              "      <td>1</td>\n",
              "      <td>1</td>\n",
              "      <td>1</td>\n",
              "      <td>10</td>\n",
              "      <td>2</td>\n",
              "      <td>12/31/19</td>\n",
              "    </tr>\n",
              "    <tr>\n",
              "      <th>1</th>\n",
              "      <td>CVS Health</td>\n",
              "      <td>profit</td>\n",
              "      <td>8</td>\n",
              "      <td>59.0</td>\n",
              "      <td>Healthcare</td>\n",
              "      <td>We‚Äôre honored to be recognized in the @HACRO...</td>\n",
              "      <td>original</td>\n",
              "      <td>1</td>\n",
              "      <td>1</td>\n",
              "      <td>0</td>\n",
              "      <td>2</td>\n",
              "      <td>1</td>\n",
              "      <td>12/20/19</td>\n",
              "    </tr>\n",
              "    <tr>\n",
              "      <th>2</th>\n",
              "      <td>CVS Health</td>\n",
              "      <td>profit</td>\n",
              "      <td>8</td>\n",
              "      <td>59.0</td>\n",
              "      <td>Healthcare</td>\n",
              "      <td>In #Nashville, we sat down with the folks behi...</td>\n",
              "      <td>original</td>\n",
              "      <td>1</td>\n",
              "      <td>1</td>\n",
              "      <td>1</td>\n",
              "      <td>9</td>\n",
              "      <td>9</td>\n",
              "      <td>12/19/19</td>\n",
              "    </tr>\n",
              "    <tr>\n",
              "      <th>3</th>\n",
              "      <td>CVS Health</td>\n",
              "      <td>profit</td>\n",
              "      <td>8</td>\n",
              "      <td>59.0</td>\n",
              "      <td>Healthcare</td>\n",
              "      <td>A grant from @Aetna Better Health of #WestVirg...</td>\n",
              "      <td>original</td>\n",
              "      <td>1</td>\n",
              "      <td>0</td>\n",
              "      <td>1</td>\n",
              "      <td>4</td>\n",
              "      <td>1</td>\n",
              "      <td>12/18/19</td>\n",
              "    </tr>\n",
              "    <tr>\n",
              "      <th>4</th>\n",
              "      <td>CVS Health</td>\n",
              "      <td>profit</td>\n",
              "      <td>8</td>\n",
              "      <td>59.0</td>\n",
              "      <td>Healthcare</td>\n",
              "      <td>Mercy Care, an @Aetna-managed Medicaid program...</td>\n",
              "      <td>original</td>\n",
              "      <td>0</td>\n",
              "      <td>0</td>\n",
              "      <td>1</td>\n",
              "      <td>1</td>\n",
              "      <td>1</td>\n",
              "      <td>12/17/19</td>\n",
              "    </tr>\n",
              "  </tbody>\n",
              "</table>\n",
              "</div>"
            ],
            "text/plain": [
              "     Org name Org type  Forbes rank  ...  favorite_count retweet_count      Date\n",
              "0  CVS Health   profit            8  ...              10             2  12/31/19\n",
              "1  CVS Health   profit            8  ...               2             1  12/20/19\n",
              "2  CVS Health   profit            8  ...               9             9  12/19/19\n",
              "3  CVS Health   profit            8  ...               4             1  12/18/19\n",
              "4  CVS Health   profit            8  ...               1             1  12/17/19\n",
              "\n",
              "[5 rows x 13 columns]"
            ]
          },
          "metadata": {
            "tags": []
          },
          "execution_count": 14
        }
      ]
    },
    {
      "cell_type": "code",
      "metadata": {
        "colab": {
          "base_uri": "https://localhost:8080/",
          "height": 288
        },
        "id": "9lzlYWVxcLpE",
        "outputId": "91fb6ede-e642-4be5-97c0-1e98a22b3ad7"
      },
      "source": [
        "unlb_tweet_samp = test_data.sample(n=230,random_state=0) #same as labeled\n",
        "unlb_tweet_samp.head()"
      ],
      "execution_count": null,
      "outputs": [
        {
          "output_type": "execute_result",
          "data": {
            "text/html": [
              "<div>\n",
              "<style scoped>\n",
              "    .dataframe tbody tr th:only-of-type {\n",
              "        vertical-align: middle;\n",
              "    }\n",
              "\n",
              "    .dataframe tbody tr th {\n",
              "        vertical-align: top;\n",
              "    }\n",
              "\n",
              "    .dataframe thead th {\n",
              "        text-align: right;\n",
              "    }\n",
              "</style>\n",
              "<table border=\"1\" class=\"dataframe\">\n",
              "  <thead>\n",
              "    <tr style=\"text-align: right;\">\n",
              "      <th></th>\n",
              "      <th>Org name</th>\n",
              "      <th>Org type</th>\n",
              "      <th>Forbes rank</th>\n",
              "      <th>CSR rank</th>\n",
              "      <th>Sector</th>\n",
              "      <th>Text</th>\n",
              "      <th>tweet_type</th>\n",
              "      <th>CODED_hashtags</th>\n",
              "      <th>CODED_media</th>\n",
              "      <th>CODED_urls</th>\n",
              "      <th>favorite_count</th>\n",
              "      <th>retweet_count</th>\n",
              "      <th>Date</th>\n",
              "    </tr>\n",
              "  </thead>\n",
              "  <tbody>\n",
              "    <tr>\n",
              "      <th>12721</th>\n",
              "      <td>Duke Energy</td>\n",
              "      <td>profit</td>\n",
              "      <td>126</td>\n",
              "      <td>54.0</td>\n",
              "      <td>Energy</td>\n",
              "      <td>Rush hour commutes are the stuff of nightmares...</td>\n",
              "      <td>original</td>\n",
              "      <td>0</td>\n",
              "      <td>0</td>\n",
              "      <td>1</td>\n",
              "      <td>8</td>\n",
              "      <td>1</td>\n",
              "      <td>9/24/19</td>\n",
              "    </tr>\n",
              "    <tr>\n",
              "      <th>8863</th>\n",
              "      <td>Rite Aid</td>\n",
              "      <td>profit</td>\n",
              "      <td>107</td>\n",
              "      <td>44.0</td>\n",
              "      <td>Food &amp; Drug Stores</td>\n",
              "      <td>This holiday season, Rite Aid is FULL of Thank...</td>\n",
              "      <td>original</td>\n",
              "      <td>0</td>\n",
              "      <td>1</td>\n",
              "      <td>0</td>\n",
              "      <td>3</td>\n",
              "      <td>2</td>\n",
              "      <td>11/20/19</td>\n",
              "    </tr>\n",
              "    <tr>\n",
              "      <th>49391</th>\n",
              "      <td>Goldman Sachs Group</td>\n",
              "      <td>profit</td>\n",
              "      <td>62</td>\n",
              "      <td>55.0</td>\n",
              "      <td>Financials</td>\n",
              "      <td>Nearly half of all American smartphone users a...</td>\n",
              "      <td>original</td>\n",
              "      <td>0</td>\n",
              "      <td>1</td>\n",
              "      <td>1</td>\n",
              "      <td>29</td>\n",
              "      <td>9</td>\n",
              "      <td>11/29/19</td>\n",
              "    </tr>\n",
              "    <tr>\n",
              "      <th>48643</th>\n",
              "      <td>Lockheed Martin</td>\n",
              "      <td>profit</td>\n",
              "      <td>60</td>\n",
              "      <td>59.0</td>\n",
              "      <td>Aerospace &amp; Defense</td>\n",
              "      <td>Quantum tech could be the key to solving the #...</td>\n",
              "      <td>original</td>\n",
              "      <td>1</td>\n",
              "      <td>1</td>\n",
              "      <td>1</td>\n",
              "      <td>70</td>\n",
              "      <td>16</td>\n",
              "      <td>4/22/19</td>\n",
              "    </tr>\n",
              "    <tr>\n",
              "      <th>15504</th>\n",
              "      <td>Lennar</td>\n",
              "      <td>profit</td>\n",
              "      <td>154</td>\n",
              "      <td>44.0</td>\n",
              "      <td>Engineering &amp; Construction</td>\n",
              "      <td>Would there be a smile on your child's FACE if...</td>\n",
              "      <td>original</td>\n",
              "      <td>1</td>\n",
              "      <td>1</td>\n",
              "      <td>1</td>\n",
              "      <td>4</td>\n",
              "      <td>2</td>\n",
              "      <td>10/6/19</td>\n",
              "    </tr>\n",
              "  </tbody>\n",
              "</table>\n",
              "</div>"
            ],
            "text/plain": [
              "                  Org name Org type  ...  retweet_count      Date\n",
              "12721          Duke Energy   profit  ...              1   9/24/19\n",
              "8863              Rite Aid   profit  ...              2  11/20/19\n",
              "49391  Goldman Sachs Group   profit  ...              9  11/29/19\n",
              "48643      Lockheed Martin   profit  ...             16   4/22/19\n",
              "15504               Lennar   profit  ...              2   10/6/19\n",
              "\n",
              "[5 rows x 13 columns]"
            ]
          },
          "metadata": {
            "tags": []
          },
          "execution_count": 15
        }
      ]
    },
    {
      "cell_type": "code",
      "metadata": {
        "colab": {
          "base_uri": "https://localhost:8080/"
        },
        "id": "DUAfvMOZw4p7",
        "outputId": "be51f61b-5ced-45b8-e98e-53598d74d07c"
      },
      "source": [
        "X_test_unlb= unlb_tweet_samp.iloc[:, 5].values \n",
        "print(X_test_unlb[0:5])"
      ],
      "execution_count": null,
      "outputs": [
        {
          "output_type": "stream",
          "text": [
            "[\"Rush hour commutes are the stuff of nightmares, clogged highways, car exhaust, blaring horns. There has to be a better way. That's why we're testing an electric vehicle vanpool, w/ the goal of reducing the amount of gasoline-powered vehicles on the road. https://t.co/XmNDtneMGh\"\n",
            " 'This holiday season, Rite Aid is FULL of Thanks for KidCents charity @EQUIKIDS in Virginia Beach, VA for providing, promoting and supporting equine-assisted activities for individuals with mental, physical, social or learning disabilities. https://t.co/41QOGyjim2'\n",
            " 'Nearly half of all American smartphone users are gamers. $GS Research explains how mobile is driving the video game industry to new heights: https://t.co/wGlvcBbiZr https://t.co/HmGj3oyEEZ'\n",
            " 'Quantum tech could be the key to solving the #energy crisis. Explore how quantum can change the world:  https://t.co/SiYtsmOs6N #EarthDay2019 https://t.co/X9b4Snq6Tz'\n",
            " \"Would there be a smile on your child's FACE if they had this SPACE?! #childrensroom #homedecor https://t.co/8HKsrzFIBO https://t.co/Xy7MDZeleA\"]\n"
          ],
          "name": "stdout"
        }
      ]
    },
    {
      "cell_type": "code",
      "metadata": {
        "colab": {
          "base_uri": "https://localhost:8080/"
        },
        "id": "RC9R2MtHxYE9",
        "outputId": "9818041f-f580-47ef-e579-04efe57b04d9"
      },
      "source": [
        "#y_test_unlb= unlb_tweet_samp.iloc[:, 13].values\n",
        "\n",
        "#print(y_test_unlb[0:5])\n",
        "print(len(X_test_unlb))\n",
        "#print(len(y))"
      ],
      "execution_count": null,
      "outputs": [
        {
          "output_type": "stream",
          "text": [
            "230\n"
          ],
          "name": "stdout"
        }
      ]
    },
    {
      "cell_type": "code",
      "metadata": {
        "id": "ZmFtH87a-2IJ"
      },
      "source": [
        "\n",
        "#print(X_test)\n",
        "import re\n",
        "processed_tweets2 = []\n",
        "\n",
        "# remove special characters and empty spaces in order to have a clean dataset\n",
        "for tweet in range(0, len(X_test_unlb)):  \n",
        "    # Remove all the special characters\n",
        "    processed_tweet2 = re.sub(r'\\W', ' ', str(X_test_unlb[tweet]))\n",
        " \n",
        "    # remove all single characters\n",
        "    processed_tweet2 = re.sub(r'\\s+[a-zA-Z]\\s+', ' ', processed_tweet2)\n",
        " \n",
        "    # Remove single characters from the start\n",
        "    processed_tweet2 = re.sub(r'\\^[a-zA-Z]\\s+', ' ', processed_tweet2) \n",
        " \n",
        "    # Substituting multiple spaces with single space\n",
        "    processed_tweet2= re.sub(r'\\s+', ' ', processed_tweet2, flags=re.I)\n",
        " \n",
        "    # Removing prefixed 'b'\n",
        "    processed_tweet2 = re.sub(r'^b\\s+', '', processed_tweet2)\n",
        " \n",
        "    # Converting to Lowercase\n",
        "    processed_tweet2 = processed_tweet2.lower()\n",
        " \n",
        "    processed_tweets2.append(processed_tweet2)"
      ],
      "execution_count": null,
      "outputs": []
    },
    {
      "cell_type": "code",
      "metadata": {
        "colab": {
          "base_uri": "https://localhost:8080/"
        },
        "id": "IteP61wUbT7u",
        "outputId": "53e38ffe-46bb-493e-c86f-c9b7f8ab9a65"
      },
      "source": [
        "\n",
        "comb_text = processed_tweets+processed_tweets2\n",
        "print(comb_text[0:4])\n",
        "len(comb_text)"
      ],
      "execution_count": null,
      "outputs": [
        {
          "output_type": "stream",
          "text": [
            "[' greensolarwind lon on worldenvironmentday ups continues work on its sustainability goals we recently made the largest purchase of rng ever reducing our ghg emissions by more than 1m metric tons subscribe to our newsletter to learn more https co oetjzorxkp https co ilqgccd5hm', ' joelgehman joel it äôs worldenvironmentday did you know ups recently made the largest purchase of rng ever from cleanenergy to help combat emissions ups äôs sustainability newsletter highlights this initiative you can subscribe here https co oetjzorxkp https co xysq5vga15', ' nelsonswitzer nelson today is worldenvironmentday the theme this year is air pollution find out how ups continues to work on its sustainability goals by subscribing to our newsletter https co oetjzorxkp https co kqngasqn9o', ' hdbyrne today is worldenvironmentday the theme this year is air pollution find out how ups continues to work on its sustainability goals by subscribing to our newsletter https co oetjzorxkp https co 7nxef8cpxc']\n"
          ],
          "name": "stdout"
        },
        {
          "output_type": "execute_result",
          "data": {
            "text/plain": [
              "460"
            ]
          },
          "metadata": {
            "tags": []
          },
          "execution_count": 19
        }
      ]
    },
    {
      "cell_type": "code",
      "metadata": {
        "id": "ke1Go7QwbbeD"
      },
      "source": [
        "from sklearn.feature_extraction.text import TfidfVectorizer  \n",
        "tfidfconverter = TfidfVectorizer(comb_text,max_features=1200, min_df=5, max_df=0.7 ,stop_words=stopwords)  \n",
        "comb_feat= tfidfconverter.fit_transform(comb_text).toarray()"
      ],
      "execution_count": null,
      "outputs": []
    },
    {
      "cell_type": "code",
      "metadata": {
        "colab": {
          "base_uri": "https://localhost:8080/"
        },
        "id": "kGMJDt60OWhW",
        "outputId": "5be8f943-1543-4467-c1ae-1b279679e24a"
      },
      "source": [
        "print(comb_feat)\n",
        "type(comb_feat)\n",
        "train_test_split=np.split(comb_feat,2)\n",
        "train=train_test_split[0]\n",
        "\n",
        "test=train_test_split[1]\n"
      ],
      "execution_count": null,
      "outputs": [
        {
          "output_type": "stream",
          "text": [
            "[[0. 0. 0. ... 0. 0. 0.]\n",
            " [0. 0. 0. ... 0. 0. 0.]\n",
            " [0. 0. 0. ... 0. 0. 0.]\n",
            " ...\n",
            " [0. 0. 0. ... 0. 0. 0.]\n",
            " [0. 0. 0. ... 0. 0. 0.]\n",
            " [0. 0. 0. ... 0. 0. 0.]]\n"
          ],
          "name": "stdout"
        }
      ]
    },
    {
      "cell_type": "code",
      "metadata": {
        "id": "kejy-1aAcNeL"
      },
      "source": [
        "print(xxxx[0:6])"
      ],
      "execution_count": null,
      "outputs": []
    },
    {
      "cell_type": "code",
      "metadata": {
        "colab": {
          "base_uri": "https://localhost:8080/"
        },
        "id": "2jP-qKJMb61N",
        "outputId": "6bf7ae78-9ea1-48fb-952c-1891290e0031"
      },
      "source": [
        "#forest\n",
        "classifier_RandomForestClassifier = RandomForestClassifier(random_state=0)  \n",
        "classifier_RandomForestClassifier.fit(train,y_use)"
      ],
      "execution_count": null,
      "outputs": [
        {
          "output_type": "execute_result",
          "data": {
            "text/plain": [
              "RandomForestClassifier(bootstrap=True, ccp_alpha=0.0, class_weight=None,\n",
              "                       criterion='gini', max_depth=None, max_features='auto',\n",
              "                       max_leaf_nodes=None, max_samples=None,\n",
              "                       min_impurity_decrease=0.0, min_impurity_split=None,\n",
              "                       min_samples_leaf=1, min_samples_split=2,\n",
              "                       min_weight_fraction_leaf=0.0, n_estimators=100,\n",
              "                       n_jobs=None, oob_score=False, random_state=0, verbose=0,\n",
              "                       warm_start=False)"
            ]
          },
          "metadata": {
            "tags": []
          },
          "execution_count": 22
        }
      ]
    },
    {
      "cell_type": "code",
      "metadata": {
        "colab": {
          "base_uri": "https://localhost:8080/"
        },
        "id": "WDBIBEmEzU4v",
        "outputId": "55b49b31-8090-4be9-8470-0c48f8cdc3de"
      },
      "source": [
        "predictions_RandomForestClassifier = classifier_RandomForestClassifier.predict(test)\n",
        "print(predictions_RandomForestClassifier)"
      ],
      "execution_count": null,
      "outputs": [
        {
          "output_type": "stream",
          "text": [
            "[0 0 0 0 0 0 0 0 1 0 0 0 0 0 0 0 0 0 0 0 0 1 0 0 0 0 0 0 0 0 0 0 0 0 0 1 0\n",
            " 0 0 0 0 0 0 0 0 0 1 0 0 0 0 1 0 0 0 0 0 0 0 0 0 1 0 0 0 0 0 0 0 0 0 0 0 0\n",
            " 0 0 0 0 0 0 0 0 0 0 0 0 0 0 0 0 0 0 0 0 0 1 0 0 1 0 0 0 0 0 0 0 0 0 1 0 0\n",
            " 0 0 0 0 1 0 0 0 0 0 0 0 1 0 1 0 0 0 0 0 0 0 0 0 0 0 0 0 0 0 0 0 0 0 0 0 0\n",
            " 1 0 0 0 0 0 0 0 0 0 0 1 1 0 0 0 0 1 0 0 0 0 0 0 0 0 0 0 0 1 1 0 0 0 0 0 0\n",
            " 0 0 0 0 0 0 0 0 0 0 1 0 0 0 0 0 0 0 0 0 0 1 0 0 0 0 0 0 0 0 1 0 0 0 0 0 0\n",
            " 0 0 0 0 0 0 0 0]\n"
          ],
          "name": "stdout"
        }
      ]
    },
    {
      "cell_type": "code",
      "metadata": {
        "colab": {
          "base_uri": "https://localhost:8080/",
          "height": 288
        },
        "id": "gL4BrUkFImWn",
        "outputId": "2c59d5f9-cd61-4d5b-e521-8df9479083f4"
      },
      "source": [
        "unlb_tweet_samp['Pres/Abs Preds'] = predictions_RandomForestClassifier.tolist()\n",
        "\n",
        "unlb_tweet_samp.head()"
      ],
      "execution_count": null,
      "outputs": [
        {
          "output_type": "execute_result",
          "data": {
            "text/html": [
              "<div>\n",
              "<style scoped>\n",
              "    .dataframe tbody tr th:only-of-type {\n",
              "        vertical-align: middle;\n",
              "    }\n",
              "\n",
              "    .dataframe tbody tr th {\n",
              "        vertical-align: top;\n",
              "    }\n",
              "\n",
              "    .dataframe thead th {\n",
              "        text-align: right;\n",
              "    }\n",
              "</style>\n",
              "<table border=\"1\" class=\"dataframe\">\n",
              "  <thead>\n",
              "    <tr style=\"text-align: right;\">\n",
              "      <th></th>\n",
              "      <th>Org name</th>\n",
              "      <th>Org type</th>\n",
              "      <th>Forbes rank</th>\n",
              "      <th>CSR rank</th>\n",
              "      <th>Sector</th>\n",
              "      <th>Text</th>\n",
              "      <th>tweet_type</th>\n",
              "      <th>CODED_hashtags</th>\n",
              "      <th>CODED_media</th>\n",
              "      <th>CODED_urls</th>\n",
              "      <th>favorite_count</th>\n",
              "      <th>retweet_count</th>\n",
              "      <th>Date</th>\n",
              "      <th>Pres/Abs Preds</th>\n",
              "    </tr>\n",
              "  </thead>\n",
              "  <tbody>\n",
              "    <tr>\n",
              "      <th>12721</th>\n",
              "      <td>Duke Energy</td>\n",
              "      <td>profit</td>\n",
              "      <td>126</td>\n",
              "      <td>54.0</td>\n",
              "      <td>Energy</td>\n",
              "      <td>Rush hour commutes are the stuff of nightmares...</td>\n",
              "      <td>original</td>\n",
              "      <td>0</td>\n",
              "      <td>0</td>\n",
              "      <td>1</td>\n",
              "      <td>8</td>\n",
              "      <td>1</td>\n",
              "      <td>9/24/19</td>\n",
              "      <td>0</td>\n",
              "    </tr>\n",
              "    <tr>\n",
              "      <th>8863</th>\n",
              "      <td>Rite Aid</td>\n",
              "      <td>profit</td>\n",
              "      <td>107</td>\n",
              "      <td>44.0</td>\n",
              "      <td>Food &amp; Drug Stores</td>\n",
              "      <td>This holiday season, Rite Aid is FULL of Thank...</td>\n",
              "      <td>original</td>\n",
              "      <td>0</td>\n",
              "      <td>1</td>\n",
              "      <td>0</td>\n",
              "      <td>3</td>\n",
              "      <td>2</td>\n",
              "      <td>11/20/19</td>\n",
              "      <td>0</td>\n",
              "    </tr>\n",
              "    <tr>\n",
              "      <th>49391</th>\n",
              "      <td>Goldman Sachs Group</td>\n",
              "      <td>profit</td>\n",
              "      <td>62</td>\n",
              "      <td>55.0</td>\n",
              "      <td>Financials</td>\n",
              "      <td>Nearly half of all American smartphone users a...</td>\n",
              "      <td>original</td>\n",
              "      <td>0</td>\n",
              "      <td>1</td>\n",
              "      <td>1</td>\n",
              "      <td>29</td>\n",
              "      <td>9</td>\n",
              "      <td>11/29/19</td>\n",
              "      <td>0</td>\n",
              "    </tr>\n",
              "    <tr>\n",
              "      <th>48643</th>\n",
              "      <td>Lockheed Martin</td>\n",
              "      <td>profit</td>\n",
              "      <td>60</td>\n",
              "      <td>59.0</td>\n",
              "      <td>Aerospace &amp; Defense</td>\n",
              "      <td>Quantum tech could be the key to solving the #...</td>\n",
              "      <td>original</td>\n",
              "      <td>1</td>\n",
              "      <td>1</td>\n",
              "      <td>1</td>\n",
              "      <td>70</td>\n",
              "      <td>16</td>\n",
              "      <td>4/22/19</td>\n",
              "      <td>0</td>\n",
              "    </tr>\n",
              "    <tr>\n",
              "      <th>15504</th>\n",
              "      <td>Lennar</td>\n",
              "      <td>profit</td>\n",
              "      <td>154</td>\n",
              "      <td>44.0</td>\n",
              "      <td>Engineering &amp; Construction</td>\n",
              "      <td>Would there be a smile on your child's FACE if...</td>\n",
              "      <td>original</td>\n",
              "      <td>1</td>\n",
              "      <td>1</td>\n",
              "      <td>1</td>\n",
              "      <td>4</td>\n",
              "      <td>2</td>\n",
              "      <td>10/6/19</td>\n",
              "      <td>0</td>\n",
              "    </tr>\n",
              "  </tbody>\n",
              "</table>\n",
              "</div>"
            ],
            "text/plain": [
              "                  Org name Org type  ...      Date  Pres/Abs Preds\n",
              "12721          Duke Energy   profit  ...   9/24/19               0\n",
              "8863              Rite Aid   profit  ...  11/20/19               0\n",
              "49391  Goldman Sachs Group   profit  ...  11/29/19               0\n",
              "48643      Lockheed Martin   profit  ...   4/22/19               0\n",
              "15504               Lennar   profit  ...   10/6/19               0\n",
              "\n",
              "[5 rows x 14 columns]"
            ]
          },
          "metadata": {
            "tags": []
          },
          "execution_count": 27
        }
      ]
    }
  ]
}