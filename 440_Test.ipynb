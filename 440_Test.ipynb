{
  "nbformat": 4,
  "nbformat_minor": 0,
  "metadata": {
    "colab": {
      "name": "440_Test.ipynb",
      "provenance": [],
      "collapsed_sections": [],
      "machine_shape": "hm"
    },
    "kernelspec": {
      "name": "python3",
      "display_name": "Python 3"
    },
    "language_info": {
      "name": "python"
    },
    "widgets": {
      "application/vnd.jupyter.widget-state+json": {
        "ffec5717d1904f6e892d7f0b865ebcb6": {
          "model_module": "@jupyter-widgets/controls",
          "model_name": "HBoxModel",
          "state": {
            "_view_name": "HBoxView",
            "_dom_classes": [],
            "_model_name": "HBoxModel",
            "_view_module": "@jupyter-widgets/controls",
            "_model_module_version": "1.5.0",
            "_view_count": null,
            "_view_module_version": "1.5.0",
            "box_style": "",
            "layout": "IPY_MODEL_b6ae4dcdc11b4f5fa5a2c20f5d90a89d",
            "_model_module": "@jupyter-widgets/controls",
            "children": [
              "IPY_MODEL_5d5df06cb3fa488392b227e890d3d618",
              "IPY_MODEL_75162c0cc044447d862219a26d6b46f4"
            ]
          }
        },
        "b6ae4dcdc11b4f5fa5a2c20f5d90a89d": {
          "model_module": "@jupyter-widgets/base",
          "model_name": "LayoutModel",
          "state": {
            "_view_name": "LayoutView",
            "grid_template_rows": null,
            "right": null,
            "justify_content": null,
            "_view_module": "@jupyter-widgets/base",
            "overflow": null,
            "_model_module_version": "1.2.0",
            "_view_count": null,
            "flex_flow": null,
            "width": null,
            "min_width": null,
            "border": null,
            "align_items": null,
            "bottom": null,
            "_model_module": "@jupyter-widgets/base",
            "top": null,
            "grid_column": null,
            "overflow_y": null,
            "overflow_x": null,
            "grid_auto_flow": null,
            "grid_area": null,
            "grid_template_columns": null,
            "flex": null,
            "_model_name": "LayoutModel",
            "justify_items": null,
            "grid_row": null,
            "max_height": null,
            "align_content": null,
            "visibility": null,
            "align_self": null,
            "height": null,
            "min_height": null,
            "padding": null,
            "grid_auto_rows": null,
            "grid_gap": null,
            "max_width": null,
            "order": null,
            "_view_module_version": "1.2.0",
            "grid_template_areas": null,
            "object_position": null,
            "object_fit": null,
            "grid_auto_columns": null,
            "margin": null,
            "display": null,
            "left": null
          }
        },
        "5d5df06cb3fa488392b227e890d3d618": {
          "model_module": "@jupyter-widgets/controls",
          "model_name": "FloatProgressModel",
          "state": {
            "_view_name": "ProgressView",
            "style": "IPY_MODEL_3e565cf3904b44c5a3c2bfb9e49b0bf3",
            "_dom_classes": [],
            "description": "Downloading: 100%",
            "_model_name": "FloatProgressModel",
            "bar_style": "success",
            "max": 231508,
            "_view_module": "@jupyter-widgets/controls",
            "_model_module_version": "1.5.0",
            "value": 231508,
            "_view_count": null,
            "_view_module_version": "1.5.0",
            "orientation": "horizontal",
            "min": 0,
            "description_tooltip": null,
            "_model_module": "@jupyter-widgets/controls",
            "layout": "IPY_MODEL_d984be3ef9b842cb81ec72d82da40e91"
          }
        },
        "75162c0cc044447d862219a26d6b46f4": {
          "model_module": "@jupyter-widgets/controls",
          "model_name": "HTMLModel",
          "state": {
            "_view_name": "HTMLView",
            "style": "IPY_MODEL_3300eaed70cb48138f95fe3bcb0816cb",
            "_dom_classes": [],
            "description": "",
            "_model_name": "HTMLModel",
            "placeholder": "​",
            "_view_module": "@jupyter-widgets/controls",
            "_model_module_version": "1.5.0",
            "value": " 232k/232k [00:00&lt;00:00, 1.36MB/s]",
            "_view_count": null,
            "_view_module_version": "1.5.0",
            "description_tooltip": null,
            "_model_module": "@jupyter-widgets/controls",
            "layout": "IPY_MODEL_18995f724d0d47c79c3852795869cb9f"
          }
        },
        "3e565cf3904b44c5a3c2bfb9e49b0bf3": {
          "model_module": "@jupyter-widgets/controls",
          "model_name": "ProgressStyleModel",
          "state": {
            "_view_name": "StyleView",
            "_model_name": "ProgressStyleModel",
            "description_width": "initial",
            "_view_module": "@jupyter-widgets/base",
            "_model_module_version": "1.5.0",
            "_view_count": null,
            "_view_module_version": "1.2.0",
            "bar_color": null,
            "_model_module": "@jupyter-widgets/controls"
          }
        },
        "d984be3ef9b842cb81ec72d82da40e91": {
          "model_module": "@jupyter-widgets/base",
          "model_name": "LayoutModel",
          "state": {
            "_view_name": "LayoutView",
            "grid_template_rows": null,
            "right": null,
            "justify_content": null,
            "_view_module": "@jupyter-widgets/base",
            "overflow": null,
            "_model_module_version": "1.2.0",
            "_view_count": null,
            "flex_flow": null,
            "width": null,
            "min_width": null,
            "border": null,
            "align_items": null,
            "bottom": null,
            "_model_module": "@jupyter-widgets/base",
            "top": null,
            "grid_column": null,
            "overflow_y": null,
            "overflow_x": null,
            "grid_auto_flow": null,
            "grid_area": null,
            "grid_template_columns": null,
            "flex": null,
            "_model_name": "LayoutModel",
            "justify_items": null,
            "grid_row": null,
            "max_height": null,
            "align_content": null,
            "visibility": null,
            "align_self": null,
            "height": null,
            "min_height": null,
            "padding": null,
            "grid_auto_rows": null,
            "grid_gap": null,
            "max_width": null,
            "order": null,
            "_view_module_version": "1.2.0",
            "grid_template_areas": null,
            "object_position": null,
            "object_fit": null,
            "grid_auto_columns": null,
            "margin": null,
            "display": null,
            "left": null
          }
        },
        "3300eaed70cb48138f95fe3bcb0816cb": {
          "model_module": "@jupyter-widgets/controls",
          "model_name": "DescriptionStyleModel",
          "state": {
            "_view_name": "StyleView",
            "_model_name": "DescriptionStyleModel",
            "description_width": "",
            "_view_module": "@jupyter-widgets/base",
            "_model_module_version": "1.5.0",
            "_view_count": null,
            "_view_module_version": "1.2.0",
            "_model_module": "@jupyter-widgets/controls"
          }
        },
        "18995f724d0d47c79c3852795869cb9f": {
          "model_module": "@jupyter-widgets/base",
          "model_name": "LayoutModel",
          "state": {
            "_view_name": "LayoutView",
            "grid_template_rows": null,
            "right": null,
            "justify_content": null,
            "_view_module": "@jupyter-widgets/base",
            "overflow": null,
            "_model_module_version": "1.2.0",
            "_view_count": null,
            "flex_flow": null,
            "width": null,
            "min_width": null,
            "border": null,
            "align_items": null,
            "bottom": null,
            "_model_module": "@jupyter-widgets/base",
            "top": null,
            "grid_column": null,
            "overflow_y": null,
            "overflow_x": null,
            "grid_auto_flow": null,
            "grid_area": null,
            "grid_template_columns": null,
            "flex": null,
            "_model_name": "LayoutModel",
            "justify_items": null,
            "grid_row": null,
            "max_height": null,
            "align_content": null,
            "visibility": null,
            "align_self": null,
            "height": null,
            "min_height": null,
            "padding": null,
            "grid_auto_rows": null,
            "grid_gap": null,
            "max_width": null,
            "order": null,
            "_view_module_version": "1.2.0",
            "grid_template_areas": null,
            "object_position": null,
            "object_fit": null,
            "grid_auto_columns": null,
            "margin": null,
            "display": null,
            "left": null
          }
        },
        "a3112e68f7d94b2fb3dabfb35db2105a": {
          "model_module": "@jupyter-widgets/controls",
          "model_name": "HBoxModel",
          "state": {
            "_view_name": "HBoxView",
            "_dom_classes": [],
            "_model_name": "HBoxModel",
            "_view_module": "@jupyter-widgets/controls",
            "_model_module_version": "1.5.0",
            "_view_count": null,
            "_view_module_version": "1.5.0",
            "box_style": "",
            "layout": "IPY_MODEL_49cff1f814004a91a3b875eb96d68c95",
            "_model_module": "@jupyter-widgets/controls",
            "children": [
              "IPY_MODEL_da617bb4b65d48c99137725084696346",
              "IPY_MODEL_7174765b40eb411ebf7a468d9e5708ec"
            ]
          }
        },
        "49cff1f814004a91a3b875eb96d68c95": {
          "model_module": "@jupyter-widgets/base",
          "model_name": "LayoutModel",
          "state": {
            "_view_name": "LayoutView",
            "grid_template_rows": null,
            "right": null,
            "justify_content": null,
            "_view_module": "@jupyter-widgets/base",
            "overflow": null,
            "_model_module_version": "1.2.0",
            "_view_count": null,
            "flex_flow": null,
            "width": null,
            "min_width": null,
            "border": null,
            "align_items": null,
            "bottom": null,
            "_model_module": "@jupyter-widgets/base",
            "top": null,
            "grid_column": null,
            "overflow_y": null,
            "overflow_x": null,
            "grid_auto_flow": null,
            "grid_area": null,
            "grid_template_columns": null,
            "flex": null,
            "_model_name": "LayoutModel",
            "justify_items": null,
            "grid_row": null,
            "max_height": null,
            "align_content": null,
            "visibility": null,
            "align_self": null,
            "height": null,
            "min_height": null,
            "padding": null,
            "grid_auto_rows": null,
            "grid_gap": null,
            "max_width": null,
            "order": null,
            "_view_module_version": "1.2.0",
            "grid_template_areas": null,
            "object_position": null,
            "object_fit": null,
            "grid_auto_columns": null,
            "margin": null,
            "display": null,
            "left": null
          }
        },
        "da617bb4b65d48c99137725084696346": {
          "model_module": "@jupyter-widgets/controls",
          "model_name": "FloatProgressModel",
          "state": {
            "_view_name": "ProgressView",
            "style": "IPY_MODEL_8b7ce6af9dbf4b6889d4cc06e3767dcd",
            "_dom_classes": [],
            "description": "Downloading: 100%",
            "_model_name": "FloatProgressModel",
            "bar_style": "success",
            "max": 28,
            "_view_module": "@jupyter-widgets/controls",
            "_model_module_version": "1.5.0",
            "value": 28,
            "_view_count": null,
            "_view_module_version": "1.5.0",
            "orientation": "horizontal",
            "min": 0,
            "description_tooltip": null,
            "_model_module": "@jupyter-widgets/controls",
            "layout": "IPY_MODEL_a4f440f1e3484db6a47a8d10ba57eaab"
          }
        },
        "7174765b40eb411ebf7a468d9e5708ec": {
          "model_module": "@jupyter-widgets/controls",
          "model_name": "HTMLModel",
          "state": {
            "_view_name": "HTMLView",
            "style": "IPY_MODEL_8dbb4bbf5c8446f99284f16e7aacda70",
            "_dom_classes": [],
            "description": "",
            "_model_name": "HTMLModel",
            "placeholder": "​",
            "_view_module": "@jupyter-widgets/controls",
            "_model_module_version": "1.5.0",
            "value": " 28.0/28.0 [00:00&lt;00:00, 101B/s]",
            "_view_count": null,
            "_view_module_version": "1.5.0",
            "description_tooltip": null,
            "_model_module": "@jupyter-widgets/controls",
            "layout": "IPY_MODEL_711e0f640841499bb4e6956a24aa1dc9"
          }
        },
        "8b7ce6af9dbf4b6889d4cc06e3767dcd": {
          "model_module": "@jupyter-widgets/controls",
          "model_name": "ProgressStyleModel",
          "state": {
            "_view_name": "StyleView",
            "_model_name": "ProgressStyleModel",
            "description_width": "initial",
            "_view_module": "@jupyter-widgets/base",
            "_model_module_version": "1.5.0",
            "_view_count": null,
            "_view_module_version": "1.2.0",
            "bar_color": null,
            "_model_module": "@jupyter-widgets/controls"
          }
        },
        "a4f440f1e3484db6a47a8d10ba57eaab": {
          "model_module": "@jupyter-widgets/base",
          "model_name": "LayoutModel",
          "state": {
            "_view_name": "LayoutView",
            "grid_template_rows": null,
            "right": null,
            "justify_content": null,
            "_view_module": "@jupyter-widgets/base",
            "overflow": null,
            "_model_module_version": "1.2.0",
            "_view_count": null,
            "flex_flow": null,
            "width": null,
            "min_width": null,
            "border": null,
            "align_items": null,
            "bottom": null,
            "_model_module": "@jupyter-widgets/base",
            "top": null,
            "grid_column": null,
            "overflow_y": null,
            "overflow_x": null,
            "grid_auto_flow": null,
            "grid_area": null,
            "grid_template_columns": null,
            "flex": null,
            "_model_name": "LayoutModel",
            "justify_items": null,
            "grid_row": null,
            "max_height": null,
            "align_content": null,
            "visibility": null,
            "align_self": null,
            "height": null,
            "min_height": null,
            "padding": null,
            "grid_auto_rows": null,
            "grid_gap": null,
            "max_width": null,
            "order": null,
            "_view_module_version": "1.2.0",
            "grid_template_areas": null,
            "object_position": null,
            "object_fit": null,
            "grid_auto_columns": null,
            "margin": null,
            "display": null,
            "left": null
          }
        },
        "8dbb4bbf5c8446f99284f16e7aacda70": {
          "model_module": "@jupyter-widgets/controls",
          "model_name": "DescriptionStyleModel",
          "state": {
            "_view_name": "StyleView",
            "_model_name": "DescriptionStyleModel",
            "description_width": "",
            "_view_module": "@jupyter-widgets/base",
            "_model_module_version": "1.5.0",
            "_view_count": null,
            "_view_module_version": "1.2.0",
            "_model_module": "@jupyter-widgets/controls"
          }
        },
        "711e0f640841499bb4e6956a24aa1dc9": {
          "model_module": "@jupyter-widgets/base",
          "model_name": "LayoutModel",
          "state": {
            "_view_name": "LayoutView",
            "grid_template_rows": null,
            "right": null,
            "justify_content": null,
            "_view_module": "@jupyter-widgets/base",
            "overflow": null,
            "_model_module_version": "1.2.0",
            "_view_count": null,
            "flex_flow": null,
            "width": null,
            "min_width": null,
            "border": null,
            "align_items": null,
            "bottom": null,
            "_model_module": "@jupyter-widgets/base",
            "top": null,
            "grid_column": null,
            "overflow_y": null,
            "overflow_x": null,
            "grid_auto_flow": null,
            "grid_area": null,
            "grid_template_columns": null,
            "flex": null,
            "_model_name": "LayoutModel",
            "justify_items": null,
            "grid_row": null,
            "max_height": null,
            "align_content": null,
            "visibility": null,
            "align_self": null,
            "height": null,
            "min_height": null,
            "padding": null,
            "grid_auto_rows": null,
            "grid_gap": null,
            "max_width": null,
            "order": null,
            "_view_module_version": "1.2.0",
            "grid_template_areas": null,
            "object_position": null,
            "object_fit": null,
            "grid_auto_columns": null,
            "margin": null,
            "display": null,
            "left": null
          }
        },
        "2db3be53d9e044c3a3fd91283d2e500b": {
          "model_module": "@jupyter-widgets/controls",
          "model_name": "HBoxModel",
          "state": {
            "_view_name": "HBoxView",
            "_dom_classes": [],
            "_model_name": "HBoxModel",
            "_view_module": "@jupyter-widgets/controls",
            "_model_module_version": "1.5.0",
            "_view_count": null,
            "_view_module_version": "1.5.0",
            "box_style": "",
            "layout": "IPY_MODEL_c06d2a828b2e479fa2ea9c650cf4ae1d",
            "_model_module": "@jupyter-widgets/controls",
            "children": [
              "IPY_MODEL_6e514289f92f4f999f776661445707de",
              "IPY_MODEL_c7f6e4b73ec543e99c70f44add8468fa"
            ]
          }
        },
        "c06d2a828b2e479fa2ea9c650cf4ae1d": {
          "model_module": "@jupyter-widgets/base",
          "model_name": "LayoutModel",
          "state": {
            "_view_name": "LayoutView",
            "grid_template_rows": null,
            "right": null,
            "justify_content": null,
            "_view_module": "@jupyter-widgets/base",
            "overflow": null,
            "_model_module_version": "1.2.0",
            "_view_count": null,
            "flex_flow": null,
            "width": null,
            "min_width": null,
            "border": null,
            "align_items": null,
            "bottom": null,
            "_model_module": "@jupyter-widgets/base",
            "top": null,
            "grid_column": null,
            "overflow_y": null,
            "overflow_x": null,
            "grid_auto_flow": null,
            "grid_area": null,
            "grid_template_columns": null,
            "flex": null,
            "_model_name": "LayoutModel",
            "justify_items": null,
            "grid_row": null,
            "max_height": null,
            "align_content": null,
            "visibility": null,
            "align_self": null,
            "height": null,
            "min_height": null,
            "padding": null,
            "grid_auto_rows": null,
            "grid_gap": null,
            "max_width": null,
            "order": null,
            "_view_module_version": "1.2.0",
            "grid_template_areas": null,
            "object_position": null,
            "object_fit": null,
            "grid_auto_columns": null,
            "margin": null,
            "display": null,
            "left": null
          }
        },
        "6e514289f92f4f999f776661445707de": {
          "model_module": "@jupyter-widgets/controls",
          "model_name": "FloatProgressModel",
          "state": {
            "_view_name": "ProgressView",
            "style": "IPY_MODEL_eda79dd3eec449aaa6a6df744fe1dcd9",
            "_dom_classes": [],
            "description": "Downloading: 100%",
            "_model_name": "FloatProgressModel",
            "bar_style": "success",
            "max": 466062,
            "_view_module": "@jupyter-widgets/controls",
            "_model_module_version": "1.5.0",
            "value": 466062,
            "_view_count": null,
            "_view_module_version": "1.5.0",
            "orientation": "horizontal",
            "min": 0,
            "description_tooltip": null,
            "_model_module": "@jupyter-widgets/controls",
            "layout": "IPY_MODEL_d44ab38261d34cd3bf6ef6082725ca19"
          }
        },
        "c7f6e4b73ec543e99c70f44add8468fa": {
          "model_module": "@jupyter-widgets/controls",
          "model_name": "HTMLModel",
          "state": {
            "_view_name": "HTMLView",
            "style": "IPY_MODEL_7e35136b321242a4b4b9f6b684b5f5c2",
            "_dom_classes": [],
            "description": "",
            "_model_name": "HTMLModel",
            "placeholder": "​",
            "_view_module": "@jupyter-widgets/controls",
            "_model_module_version": "1.5.0",
            "value": " 466k/466k [00:00&lt;00:00, 3.72MB/s]",
            "_view_count": null,
            "_view_module_version": "1.5.0",
            "description_tooltip": null,
            "_model_module": "@jupyter-widgets/controls",
            "layout": "IPY_MODEL_a1ddd3bc4668401f81ff4bc478674e8f"
          }
        },
        "eda79dd3eec449aaa6a6df744fe1dcd9": {
          "model_module": "@jupyter-widgets/controls",
          "model_name": "ProgressStyleModel",
          "state": {
            "_view_name": "StyleView",
            "_model_name": "ProgressStyleModel",
            "description_width": "initial",
            "_view_module": "@jupyter-widgets/base",
            "_model_module_version": "1.5.0",
            "_view_count": null,
            "_view_module_version": "1.2.0",
            "bar_color": null,
            "_model_module": "@jupyter-widgets/controls"
          }
        },
        "d44ab38261d34cd3bf6ef6082725ca19": {
          "model_module": "@jupyter-widgets/base",
          "model_name": "LayoutModel",
          "state": {
            "_view_name": "LayoutView",
            "grid_template_rows": null,
            "right": null,
            "justify_content": null,
            "_view_module": "@jupyter-widgets/base",
            "overflow": null,
            "_model_module_version": "1.2.0",
            "_view_count": null,
            "flex_flow": null,
            "width": null,
            "min_width": null,
            "border": null,
            "align_items": null,
            "bottom": null,
            "_model_module": "@jupyter-widgets/base",
            "top": null,
            "grid_column": null,
            "overflow_y": null,
            "overflow_x": null,
            "grid_auto_flow": null,
            "grid_area": null,
            "grid_template_columns": null,
            "flex": null,
            "_model_name": "LayoutModel",
            "justify_items": null,
            "grid_row": null,
            "max_height": null,
            "align_content": null,
            "visibility": null,
            "align_self": null,
            "height": null,
            "min_height": null,
            "padding": null,
            "grid_auto_rows": null,
            "grid_gap": null,
            "max_width": null,
            "order": null,
            "_view_module_version": "1.2.0",
            "grid_template_areas": null,
            "object_position": null,
            "object_fit": null,
            "grid_auto_columns": null,
            "margin": null,
            "display": null,
            "left": null
          }
        },
        "7e35136b321242a4b4b9f6b684b5f5c2": {
          "model_module": "@jupyter-widgets/controls",
          "model_name": "DescriptionStyleModel",
          "state": {
            "_view_name": "StyleView",
            "_model_name": "DescriptionStyleModel",
            "description_width": "",
            "_view_module": "@jupyter-widgets/base",
            "_model_module_version": "1.5.0",
            "_view_count": null,
            "_view_module_version": "1.2.0",
            "_model_module": "@jupyter-widgets/controls"
          }
        },
        "a1ddd3bc4668401f81ff4bc478674e8f": {
          "model_module": "@jupyter-widgets/base",
          "model_name": "LayoutModel",
          "state": {
            "_view_name": "LayoutView",
            "grid_template_rows": null,
            "right": null,
            "justify_content": null,
            "_view_module": "@jupyter-widgets/base",
            "overflow": null,
            "_model_module_version": "1.2.0",
            "_view_count": null,
            "flex_flow": null,
            "width": null,
            "min_width": null,
            "border": null,
            "align_items": null,
            "bottom": null,
            "_model_module": "@jupyter-widgets/base",
            "top": null,
            "grid_column": null,
            "overflow_y": null,
            "overflow_x": null,
            "grid_auto_flow": null,
            "grid_area": null,
            "grid_template_columns": null,
            "flex": null,
            "_model_name": "LayoutModel",
            "justify_items": null,
            "grid_row": null,
            "max_height": null,
            "align_content": null,
            "visibility": null,
            "align_self": null,
            "height": null,
            "min_height": null,
            "padding": null,
            "grid_auto_rows": null,
            "grid_gap": null,
            "max_width": null,
            "order": null,
            "_view_module_version": "1.2.0",
            "grid_template_areas": null,
            "object_position": null,
            "object_fit": null,
            "grid_auto_columns": null,
            "margin": null,
            "display": null,
            "left": null
          }
        },
        "9de6d71cc2f84068a9802f84b08af687": {
          "model_module": "@jupyter-widgets/controls",
          "model_name": "HBoxModel",
          "state": {
            "_view_name": "HBoxView",
            "_dom_classes": [],
            "_model_name": "HBoxModel",
            "_view_module": "@jupyter-widgets/controls",
            "_model_module_version": "1.5.0",
            "_view_count": null,
            "_view_module_version": "1.5.0",
            "box_style": "",
            "layout": "IPY_MODEL_a80bea9737434953be87a68ff68394c0",
            "_model_module": "@jupyter-widgets/controls",
            "children": [
              "IPY_MODEL_ac309a4e55644907b0d604ae5b5cffee",
              "IPY_MODEL_a98ac81a70c04b7b9a9cd93bfa69824d"
            ]
          }
        },
        "a80bea9737434953be87a68ff68394c0": {
          "model_module": "@jupyter-widgets/base",
          "model_name": "LayoutModel",
          "state": {
            "_view_name": "LayoutView",
            "grid_template_rows": null,
            "right": null,
            "justify_content": null,
            "_view_module": "@jupyter-widgets/base",
            "overflow": null,
            "_model_module_version": "1.2.0",
            "_view_count": null,
            "flex_flow": null,
            "width": null,
            "min_width": null,
            "border": null,
            "align_items": null,
            "bottom": null,
            "_model_module": "@jupyter-widgets/base",
            "top": null,
            "grid_column": null,
            "overflow_y": null,
            "overflow_x": null,
            "grid_auto_flow": null,
            "grid_area": null,
            "grid_template_columns": null,
            "flex": null,
            "_model_name": "LayoutModel",
            "justify_items": null,
            "grid_row": null,
            "max_height": null,
            "align_content": null,
            "visibility": null,
            "align_self": null,
            "height": null,
            "min_height": null,
            "padding": null,
            "grid_auto_rows": null,
            "grid_gap": null,
            "max_width": null,
            "order": null,
            "_view_module_version": "1.2.0",
            "grid_template_areas": null,
            "object_position": null,
            "object_fit": null,
            "grid_auto_columns": null,
            "margin": null,
            "display": null,
            "left": null
          }
        },
        "ac309a4e55644907b0d604ae5b5cffee": {
          "model_module": "@jupyter-widgets/controls",
          "model_name": "FloatProgressModel",
          "state": {
            "_view_name": "ProgressView",
            "style": "IPY_MODEL_e33ebc82a60047c8a95210e391873b1b",
            "_dom_classes": [],
            "description": "Downloading: 100%",
            "_model_name": "FloatProgressModel",
            "bar_style": "success",
            "max": 570,
            "_view_module": "@jupyter-widgets/controls",
            "_model_module_version": "1.5.0",
            "value": 570,
            "_view_count": null,
            "_view_module_version": "1.5.0",
            "orientation": "horizontal",
            "min": 0,
            "description_tooltip": null,
            "_model_module": "@jupyter-widgets/controls",
            "layout": "IPY_MODEL_956cd61a212041b8a6ab7f4017cc9726"
          }
        },
        "a98ac81a70c04b7b9a9cd93bfa69824d": {
          "model_module": "@jupyter-widgets/controls",
          "model_name": "HTMLModel",
          "state": {
            "_view_name": "HTMLView",
            "style": "IPY_MODEL_8fc0d32db26d4033a4a8a9060baeeac5",
            "_dom_classes": [],
            "description": "",
            "_model_name": "HTMLModel",
            "placeholder": "​",
            "_view_module": "@jupyter-widgets/controls",
            "_model_module_version": "1.5.0",
            "value": " 570/570 [00:00&lt;00:00, 2.59kB/s]",
            "_view_count": null,
            "_view_module_version": "1.5.0",
            "description_tooltip": null,
            "_model_module": "@jupyter-widgets/controls",
            "layout": "IPY_MODEL_16bb34d51199435583c30ffca7a7466d"
          }
        },
        "e33ebc82a60047c8a95210e391873b1b": {
          "model_module": "@jupyter-widgets/controls",
          "model_name": "ProgressStyleModel",
          "state": {
            "_view_name": "StyleView",
            "_model_name": "ProgressStyleModel",
            "description_width": "initial",
            "_view_module": "@jupyter-widgets/base",
            "_model_module_version": "1.5.0",
            "_view_count": null,
            "_view_module_version": "1.2.0",
            "bar_color": null,
            "_model_module": "@jupyter-widgets/controls"
          }
        },
        "956cd61a212041b8a6ab7f4017cc9726": {
          "model_module": "@jupyter-widgets/base",
          "model_name": "LayoutModel",
          "state": {
            "_view_name": "LayoutView",
            "grid_template_rows": null,
            "right": null,
            "justify_content": null,
            "_view_module": "@jupyter-widgets/base",
            "overflow": null,
            "_model_module_version": "1.2.0",
            "_view_count": null,
            "flex_flow": null,
            "width": null,
            "min_width": null,
            "border": null,
            "align_items": null,
            "bottom": null,
            "_model_module": "@jupyter-widgets/base",
            "top": null,
            "grid_column": null,
            "overflow_y": null,
            "overflow_x": null,
            "grid_auto_flow": null,
            "grid_area": null,
            "grid_template_columns": null,
            "flex": null,
            "_model_name": "LayoutModel",
            "justify_items": null,
            "grid_row": null,
            "max_height": null,
            "align_content": null,
            "visibility": null,
            "align_self": null,
            "height": null,
            "min_height": null,
            "padding": null,
            "grid_auto_rows": null,
            "grid_gap": null,
            "max_width": null,
            "order": null,
            "_view_module_version": "1.2.0",
            "grid_template_areas": null,
            "object_position": null,
            "object_fit": null,
            "grid_auto_columns": null,
            "margin": null,
            "display": null,
            "left": null
          }
        },
        "8fc0d32db26d4033a4a8a9060baeeac5": {
          "model_module": "@jupyter-widgets/controls",
          "model_name": "DescriptionStyleModel",
          "state": {
            "_view_name": "StyleView",
            "_model_name": "DescriptionStyleModel",
            "description_width": "",
            "_view_module": "@jupyter-widgets/base",
            "_model_module_version": "1.5.0",
            "_view_count": null,
            "_view_module_version": "1.2.0",
            "_model_module": "@jupyter-widgets/controls"
          }
        },
        "16bb34d51199435583c30ffca7a7466d": {
          "model_module": "@jupyter-widgets/base",
          "model_name": "LayoutModel",
          "state": {
            "_view_name": "LayoutView",
            "grid_template_rows": null,
            "right": null,
            "justify_content": null,
            "_view_module": "@jupyter-widgets/base",
            "overflow": null,
            "_model_module_version": "1.2.0",
            "_view_count": null,
            "flex_flow": null,
            "width": null,
            "min_width": null,
            "border": null,
            "align_items": null,
            "bottom": null,
            "_model_module": "@jupyter-widgets/base",
            "top": null,
            "grid_column": null,
            "overflow_y": null,
            "overflow_x": null,
            "grid_auto_flow": null,
            "grid_area": null,
            "grid_template_columns": null,
            "flex": null,
            "_model_name": "LayoutModel",
            "justify_items": null,
            "grid_row": null,
            "max_height": null,
            "align_content": null,
            "visibility": null,
            "align_self": null,
            "height": null,
            "min_height": null,
            "padding": null,
            "grid_auto_rows": null,
            "grid_gap": null,
            "max_width": null,
            "order": null,
            "_view_module_version": "1.2.0",
            "grid_template_areas": null,
            "object_position": null,
            "object_fit": null,
            "grid_auto_columns": null,
            "margin": null,
            "display": null,
            "left": null
          }
        },
        "de9e6c796cfc4719a34ac37f99b3c575": {
          "model_module": "@jupyter-widgets/controls",
          "model_name": "HBoxModel",
          "state": {
            "_view_name": "HBoxView",
            "_dom_classes": [],
            "_model_name": "HBoxModel",
            "_view_module": "@jupyter-widgets/controls",
            "_model_module_version": "1.5.0",
            "_view_count": null,
            "_view_module_version": "1.5.0",
            "box_style": "",
            "layout": "IPY_MODEL_d8e610f8d6854cb78277b0ff6661c32e",
            "_model_module": "@jupyter-widgets/controls",
            "children": [
              "IPY_MODEL_4f299f6fdf714f8cb498d5dd7a889e3b",
              "IPY_MODEL_4065fde658b743fe8c39c0af3acc8b60"
            ]
          }
        },
        "d8e610f8d6854cb78277b0ff6661c32e": {
          "model_module": "@jupyter-widgets/base",
          "model_name": "LayoutModel",
          "state": {
            "_view_name": "LayoutView",
            "grid_template_rows": null,
            "right": null,
            "justify_content": null,
            "_view_module": "@jupyter-widgets/base",
            "overflow": null,
            "_model_module_version": "1.2.0",
            "_view_count": null,
            "flex_flow": null,
            "width": null,
            "min_width": null,
            "border": null,
            "align_items": null,
            "bottom": null,
            "_model_module": "@jupyter-widgets/base",
            "top": null,
            "grid_column": null,
            "overflow_y": null,
            "overflow_x": null,
            "grid_auto_flow": null,
            "grid_area": null,
            "grid_template_columns": null,
            "flex": null,
            "_model_name": "LayoutModel",
            "justify_items": null,
            "grid_row": null,
            "max_height": null,
            "align_content": null,
            "visibility": null,
            "align_self": null,
            "height": null,
            "min_height": null,
            "padding": null,
            "grid_auto_rows": null,
            "grid_gap": null,
            "max_width": null,
            "order": null,
            "_view_module_version": "1.2.0",
            "grid_template_areas": null,
            "object_position": null,
            "object_fit": null,
            "grid_auto_columns": null,
            "margin": null,
            "display": null,
            "left": null
          }
        },
        "4f299f6fdf714f8cb498d5dd7a889e3b": {
          "model_module": "@jupyter-widgets/controls",
          "model_name": "FloatProgressModel",
          "state": {
            "_view_name": "ProgressView",
            "style": "IPY_MODEL_ea3ce00a7f204ff6884c225a053b6593",
            "_dom_classes": [],
            "description": "Downloading: 100%",
            "_model_name": "FloatProgressModel",
            "bar_style": "success",
            "max": 440473133,
            "_view_module": "@jupyter-widgets/controls",
            "_model_module_version": "1.5.0",
            "value": 440473133,
            "_view_count": null,
            "_view_module_version": "1.5.0",
            "orientation": "horizontal",
            "min": 0,
            "description_tooltip": null,
            "_model_module": "@jupyter-widgets/controls",
            "layout": "IPY_MODEL_831d6f1b550a48a694c698569a9c01b3"
          }
        },
        "4065fde658b743fe8c39c0af3acc8b60": {
          "model_module": "@jupyter-widgets/controls",
          "model_name": "HTMLModel",
          "state": {
            "_view_name": "HTMLView",
            "style": "IPY_MODEL_d590b489de96491ca13eb845a00c4cb5",
            "_dom_classes": [],
            "description": "",
            "_model_name": "HTMLModel",
            "placeholder": "​",
            "_view_module": "@jupyter-widgets/controls",
            "_model_module_version": "1.5.0",
            "value": " 440M/440M [00:56&lt;00:00, 7.83MB/s]",
            "_view_count": null,
            "_view_module_version": "1.5.0",
            "description_tooltip": null,
            "_model_module": "@jupyter-widgets/controls",
            "layout": "IPY_MODEL_3fc15d5b8fba4736a967e5dde311a90a"
          }
        },
        "ea3ce00a7f204ff6884c225a053b6593": {
          "model_module": "@jupyter-widgets/controls",
          "model_name": "ProgressStyleModel",
          "state": {
            "_view_name": "StyleView",
            "_model_name": "ProgressStyleModel",
            "description_width": "initial",
            "_view_module": "@jupyter-widgets/base",
            "_model_module_version": "1.5.0",
            "_view_count": null,
            "_view_module_version": "1.2.0",
            "bar_color": null,
            "_model_module": "@jupyter-widgets/controls"
          }
        },
        "831d6f1b550a48a694c698569a9c01b3": {
          "model_module": "@jupyter-widgets/base",
          "model_name": "LayoutModel",
          "state": {
            "_view_name": "LayoutView",
            "grid_template_rows": null,
            "right": null,
            "justify_content": null,
            "_view_module": "@jupyter-widgets/base",
            "overflow": null,
            "_model_module_version": "1.2.0",
            "_view_count": null,
            "flex_flow": null,
            "width": null,
            "min_width": null,
            "border": null,
            "align_items": null,
            "bottom": null,
            "_model_module": "@jupyter-widgets/base",
            "top": null,
            "grid_column": null,
            "overflow_y": null,
            "overflow_x": null,
            "grid_auto_flow": null,
            "grid_area": null,
            "grid_template_columns": null,
            "flex": null,
            "_model_name": "LayoutModel",
            "justify_items": null,
            "grid_row": null,
            "max_height": null,
            "align_content": null,
            "visibility": null,
            "align_self": null,
            "height": null,
            "min_height": null,
            "padding": null,
            "grid_auto_rows": null,
            "grid_gap": null,
            "max_width": null,
            "order": null,
            "_view_module_version": "1.2.0",
            "grid_template_areas": null,
            "object_position": null,
            "object_fit": null,
            "grid_auto_columns": null,
            "margin": null,
            "display": null,
            "left": null
          }
        },
        "d590b489de96491ca13eb845a00c4cb5": {
          "model_module": "@jupyter-widgets/controls",
          "model_name": "DescriptionStyleModel",
          "state": {
            "_view_name": "StyleView",
            "_model_name": "DescriptionStyleModel",
            "description_width": "",
            "_view_module": "@jupyter-widgets/base",
            "_model_module_version": "1.5.0",
            "_view_count": null,
            "_view_module_version": "1.2.0",
            "_model_module": "@jupyter-widgets/controls"
          }
        },
        "3fc15d5b8fba4736a967e5dde311a90a": {
          "model_module": "@jupyter-widgets/base",
          "model_name": "LayoutModel",
          "state": {
            "_view_name": "LayoutView",
            "grid_template_rows": null,
            "right": null,
            "justify_content": null,
            "_view_module": "@jupyter-widgets/base",
            "overflow": null,
            "_model_module_version": "1.2.0",
            "_view_count": null,
            "flex_flow": null,
            "width": null,
            "min_width": null,
            "border": null,
            "align_items": null,
            "bottom": null,
            "_model_module": "@jupyter-widgets/base",
            "top": null,
            "grid_column": null,
            "overflow_y": null,
            "overflow_x": null,
            "grid_auto_flow": null,
            "grid_area": null,
            "grid_template_columns": null,
            "flex": null,
            "_model_name": "LayoutModel",
            "justify_items": null,
            "grid_row": null,
            "max_height": null,
            "align_content": null,
            "visibility": null,
            "align_self": null,
            "height": null,
            "min_height": null,
            "padding": null,
            "grid_auto_rows": null,
            "grid_gap": null,
            "max_width": null,
            "order": null,
            "_view_module_version": "1.2.0",
            "grid_template_areas": null,
            "object_position": null,
            "object_fit": null,
            "grid_auto_columns": null,
            "margin": null,
            "display": null,
            "left": null
          }
        }
      }
    }
  },
  "cells": [
    {
      "cell_type": "code",
      "metadata": {
        "id": "u1kKYLC_PA6M",
        "colab": {
          "base_uri": "https://localhost:8080/"
        },
        "outputId": "01e2a1ce-3414-42fe-d5f6-cbd69310a219"
      },
      "source": [
        "import pandas as pd\n",
        "import numpy as np\n",
        "from sklearn.ensemble import RandomForestClassifier\n",
        "from sklearn.datasets import make_classification\n",
        "from sklearn.metrics import accuracy_score\n",
        "from sklearn.model_selection import train_test_split\n",
        "from sklearn.metrics import mean_squared_error\n",
        "from sklearn.feature_extraction.text import CountVectorizer\n",
        "from sklearn.feature_extraction.text import TfidfTransformer\n",
        "from xgboost import XGBClassifier\n",
        "from sklearn.model_selection import train_test_split\n",
        "from sklearn.metrics import accuracy_score\n",
        "from sklearn.feature_extraction.text import TfidfVectorizer\n",
        "from sklearn.metrics import roc_auc_score \n",
        "from sklearn.model_selection import KFold\n",
        "from sklearn.metrics import f1_score\n",
        "from sklearn.metrics import confusion_matrix\n",
        "%pip install transformers\n",
        "from transformers import BertTokenizer, BertModel, BertForPreTraining"
      ],
      "execution_count": 1,
      "outputs": [
        {
          "output_type": "stream",
          "text": [
            "Collecting transformers\n",
            "\u001b[?25l  Downloading https://files.pythonhosted.org/packages/d8/b2/57495b5309f09fa501866e225c84532d1fd89536ea62406b2181933fb418/transformers-4.5.1-py3-none-any.whl (2.1MB)\n",
            "\u001b[K     |████████████████████████████████| 2.1MB 12.1MB/s \n",
            "\u001b[?25hRequirement already satisfied: regex!=2019.12.17 in /usr/local/lib/python3.7/dist-packages (from transformers) (2019.12.20)\n",
            "Collecting sacremoses\n",
            "\u001b[?25l  Downloading https://files.pythonhosted.org/packages/75/ee/67241dc87f266093c533a2d4d3d69438e57d7a90abb216fa076e7d475d4a/sacremoses-0.0.45-py3-none-any.whl (895kB)\n",
            "\u001b[K     |████████████████████████████████| 901kB 52.3MB/s \n",
            "\u001b[?25hCollecting tokenizers<0.11,>=0.10.1\n",
            "\u001b[?25l  Downloading https://files.pythonhosted.org/packages/ae/04/5b870f26a858552025a62f1649c20d29d2672c02ff3c3fb4c688ca46467a/tokenizers-0.10.2-cp37-cp37m-manylinux2010_x86_64.whl (3.3MB)\n",
            "\u001b[K     |████████████████████████████████| 3.3MB 40.3MB/s \n",
            "\u001b[?25hRequirement already satisfied: numpy>=1.17 in /usr/local/lib/python3.7/dist-packages (from transformers) (1.19.5)\n",
            "Requirement already satisfied: filelock in /usr/local/lib/python3.7/dist-packages (from transformers) (3.0.12)\n",
            "Requirement already satisfied: importlib-metadata; python_version < \"3.8\" in /usr/local/lib/python3.7/dist-packages (from transformers) (3.10.1)\n",
            "Requirement already satisfied: tqdm>=4.27 in /usr/local/lib/python3.7/dist-packages (from transformers) (4.41.1)\n",
            "Requirement already satisfied: packaging in /usr/local/lib/python3.7/dist-packages (from transformers) (20.9)\n",
            "Requirement already satisfied: requests in /usr/local/lib/python3.7/dist-packages (from transformers) (2.23.0)\n",
            "Requirement already satisfied: joblib in /usr/local/lib/python3.7/dist-packages (from sacremoses->transformers) (1.0.1)\n",
            "Requirement already satisfied: click in /usr/local/lib/python3.7/dist-packages (from sacremoses->transformers) (7.1.2)\n",
            "Requirement already satisfied: six in /usr/local/lib/python3.7/dist-packages (from sacremoses->transformers) (1.15.0)\n",
            "Requirement already satisfied: zipp>=0.5 in /usr/local/lib/python3.7/dist-packages (from importlib-metadata; python_version < \"3.8\"->transformers) (3.4.1)\n",
            "Requirement already satisfied: typing-extensions>=3.6.4; python_version < \"3.8\" in /usr/local/lib/python3.7/dist-packages (from importlib-metadata; python_version < \"3.8\"->transformers) (3.7.4.3)\n",
            "Requirement already satisfied: pyparsing>=2.0.2 in /usr/local/lib/python3.7/dist-packages (from packaging->transformers) (2.4.7)\n",
            "Requirement already satisfied: urllib3!=1.25.0,!=1.25.1,<1.26,>=1.21.1 in /usr/local/lib/python3.7/dist-packages (from requests->transformers) (1.24.3)\n",
            "Requirement already satisfied: certifi>=2017.4.17 in /usr/local/lib/python3.7/dist-packages (from requests->transformers) (2020.12.5)\n",
            "Requirement already satisfied: idna<3,>=2.5 in /usr/local/lib/python3.7/dist-packages (from requests->transformers) (2.10)\n",
            "Requirement already satisfied: chardet<4,>=3.0.2 in /usr/local/lib/python3.7/dist-packages (from requests->transformers) (3.0.4)\n",
            "Installing collected packages: sacremoses, tokenizers, transformers\n",
            "Successfully installed sacremoses-0.0.45 tokenizers-0.10.2 transformers-4.5.1\n"
          ],
          "name": "stdout"
        }
      ]
    },
    {
      "cell_type": "markdown",
      "metadata": {
        "id": "JxgzcpHMvERG"
      },
      "source": [
        "Import Data"
      ]
    },
    {
      "cell_type": "code",
      "metadata": {
        "colab": {
          "base_uri": "https://localhost:8080/",
          "height": 1000
        },
        "id": "HcwmSRUUyYuI",
        "outputId": "e7423bf2-8438-4603-a4c9-d3e83099e2df"
      },
      "source": [
        "hope_list = pd.read_csv('https://raw.githubusercontent.com/jpc45/Amazon/main/hope_list.txt', header = None)\n",
        "\n",
        "tweets= pd.read_csv('https://raw.githubusercontent.com/jpc45/Amazon/main/dataset1.csv')\n",
        "tweets = tweets.drop(columns = ['Unnamed: 14'])\n",
        "presence = tweets[(tweets['Presence/Absence'] == 1)]\n",
        "extra_sample = presence.sample(n=28, random_state =1234)\n",
        "tweets = tweets.append(extra_sample)\n",
        "\n",
        "test_data = pd.read_csv('https://raw.githubusercontent.com/jpc45/Amazon/main/environmental%20tweets.csv')\n",
        "test_data = test_data.drop(columns = ['Unnamed: 13'])\n",
        "test_data = test_data.sample(n=230, random_state= 1234) #same as labeled\n",
        "test_data['Fake_Label'] = 1\n",
        "test_data.head()\n",
        "\n",
        "prediction_df = pd.read_csv('https://raw.githubusercontent.com/jpc45/DS440_3a/main/environmental20tweets_BERTPredictions.csv')\n",
        "prediction_df"
      ],
      "execution_count": 2,
      "outputs": [
        {
          "output_type": "execute_result",
          "data": {
            "text/html": [
              "<div>\n",
              "<style scoped>\n",
              "    .dataframe tbody tr th:only-of-type {\n",
              "        vertical-align: middle;\n",
              "    }\n",
              "\n",
              "    .dataframe tbody tr th {\n",
              "        vertical-align: top;\n",
              "    }\n",
              "\n",
              "    .dataframe thead th {\n",
              "        text-align: right;\n",
              "    }\n",
              "</style>\n",
              "<table border=\"1\" class=\"dataframe\">\n",
              "  <thead>\n",
              "    <tr style=\"text-align: right;\">\n",
              "      <th></th>\n",
              "      <th>Unnamed: 0</th>\n",
              "      <th>Org name</th>\n",
              "      <th>Org type</th>\n",
              "      <th>Forbes rank</th>\n",
              "      <th>CSR rank</th>\n",
              "      <th>Sector</th>\n",
              "      <th>Text</th>\n",
              "      <th>tweet_type</th>\n",
              "      <th>CODED_hashtags</th>\n",
              "      <th>CODED_media</th>\n",
              "      <th>CODED_urls</th>\n",
              "      <th>favorite_count</th>\n",
              "      <th>retweet_count</th>\n",
              "      <th>Date</th>\n",
              "      <th>Fake_Label</th>\n",
              "      <th>Presence/Absence</th>\n",
              "      <th>Manual</th>\n",
              "    </tr>\n",
              "  </thead>\n",
              "  <tbody>\n",
              "    <tr>\n",
              "      <th>0</th>\n",
              "      <td>25457</td>\n",
              "      <td>Viacom</td>\n",
              "      <td>profit</td>\n",
              "      <td>248</td>\n",
              "      <td>53</td>\n",
              "      <td>Media</td>\n",
              "      <td>.@VirtualTedS showcases ViacomXR and @awesomen...</td>\n",
              "      <td>original</td>\n",
              "      <td>1</td>\n",
              "      <td>1</td>\n",
              "      <td>0</td>\n",
              "      <td>19</td>\n",
              "      <td>11</td>\n",
              "      <td>7/11/19</td>\n",
              "      <td>1</td>\n",
              "      <td>0</td>\n",
              "      <td>0</td>\n",
              "    </tr>\n",
              "    <tr>\n",
              "      <th>1</th>\n",
              "      <td>52414</td>\n",
              "      <td>AbbVie</td>\n",
              "      <td>profit</td>\n",
              "      <td>96</td>\n",
              "      <td>61</td>\n",
              "      <td>Healthcare</td>\n",
              "      <td>We continue to invest in our pipeline to devel...</td>\n",
              "      <td>original</td>\n",
              "      <td>0</td>\n",
              "      <td>1</td>\n",
              "      <td>1</td>\n",
              "      <td>3</td>\n",
              "      <td>2</td>\n",
              "      <td>7/26/19</td>\n",
              "      <td>1</td>\n",
              "      <td>0</td>\n",
              "      <td>1</td>\n",
              "    </tr>\n",
              "    <tr>\n",
              "      <th>2</th>\n",
              "      <td>27378</td>\n",
              "      <td>Huntsman</td>\n",
              "      <td>profit</td>\n",
              "      <td>276</td>\n",
              "      <td>51</td>\n",
              "      <td>Chemicals</td>\n",
              "      <td>#Huntsman unveiled Araldite¬Æ 2050 and Araldit...</td>\n",
              "      <td>original</td>\n",
              "      <td>1</td>\n",
              "      <td>1</td>\n",
              "      <td>0</td>\n",
              "      <td>9</td>\n",
              "      <td>3</td>\n",
              "      <td>4/17/19</td>\n",
              "      <td>1</td>\n",
              "      <td>0</td>\n",
              "      <td>1</td>\n",
              "    </tr>\n",
              "    <tr>\n",
              "      <th>3</th>\n",
              "      <td>42166</td>\n",
              "      <td>Alleghany</td>\n",
              "      <td>profit</td>\n",
              "      <td>437</td>\n",
              "      <td>46</td>\n",
              "      <td>Financials</td>\n",
              "      <td>The eastbound lane of Pineview Drive in Elizab...</td>\n",
              "      <td>original</td>\n",
              "      <td>0</td>\n",
              "      <td>1</td>\n",
              "      <td>1</td>\n",
              "      <td>3</td>\n",
              "      <td>1</td>\n",
              "      <td>4/24/19</td>\n",
              "      <td>1</td>\n",
              "      <td>0</td>\n",
              "      <td>0</td>\n",
              "    </tr>\n",
              "    <tr>\n",
              "      <th>4</th>\n",
              "      <td>14326</td>\n",
              "      <td>Qualcomm</td>\n",
              "      <td>profit</td>\n",
              "      <td>137</td>\n",
              "      <td>57</td>\n",
              "      <td>Technology</td>\n",
              "      <td>The #Snapdragon 855-powered #GalaxyS10 5G from...</td>\n",
              "      <td>original</td>\n",
              "      <td>1</td>\n",
              "      <td>1</td>\n",
              "      <td>1</td>\n",
              "      <td>52</td>\n",
              "      <td>11</td>\n",
              "      <td>3/5/19</td>\n",
              "      <td>1</td>\n",
              "      <td>0</td>\n",
              "      <td>0</td>\n",
              "    </tr>\n",
              "    <tr>\n",
              "      <th>...</th>\n",
              "      <td>...</td>\n",
              "      <td>...</td>\n",
              "      <td>...</td>\n",
              "      <td>...</td>\n",
              "      <td>...</td>\n",
              "      <td>...</td>\n",
              "      <td>...</td>\n",
              "      <td>...</td>\n",
              "      <td>...</td>\n",
              "      <td>...</td>\n",
              "      <td>...</td>\n",
              "      <td>...</td>\n",
              "      <td>...</td>\n",
              "      <td>...</td>\n",
              "      <td>...</td>\n",
              "      <td>...</td>\n",
              "      <td>...</td>\n",
              "    </tr>\n",
              "    <tr>\n",
              "      <th>225</th>\n",
              "      <td>15265</td>\n",
              "      <td>Broadcom</td>\n",
              "      <td>profit</td>\n",
              "      <td>150</td>\n",
              "      <td>47</td>\n",
              "      <td>Technology</td>\n",
              "      <td>The Broadcom¬Æ BCM15000 (BCM15K) knowledge-bas...</td>\n",
              "      <td>original</td>\n",
              "      <td>0</td>\n",
              "      <td>0</td>\n",
              "      <td>1</td>\n",
              "      <td>5</td>\n",
              "      <td>1</td>\n",
              "      <td>3/27/19</td>\n",
              "      <td>1</td>\n",
              "      <td>0</td>\n",
              "      <td>0</td>\n",
              "    </tr>\n",
              "    <tr>\n",
              "      <th>226</th>\n",
              "      <td>11342</td>\n",
              "      <td>Northwestern Mutual</td>\n",
              "      <td>profit</td>\n",
              "      <td>111</td>\n",
              "      <td>61</td>\n",
              "      <td>Financials</td>\n",
              "      <td>This Women‚Äôs History Month, we asked a few o...</td>\n",
              "      <td>original</td>\n",
              "      <td>0</td>\n",
              "      <td>0</td>\n",
              "      <td>1</td>\n",
              "      <td>2</td>\n",
              "      <td>0</td>\n",
              "      <td>3/29/19</td>\n",
              "      <td>1</td>\n",
              "      <td>0</td>\n",
              "      <td>1</td>\n",
              "    </tr>\n",
              "    <tr>\n",
              "      <th>227</th>\n",
              "      <td>28727</td>\n",
              "      <td>Lam Research</td>\n",
              "      <td>profit</td>\n",
              "      <td>287</td>\n",
              "      <td>54</td>\n",
              "      <td>Technology</td>\n",
              "      <td>Ensuring everyone feels comfortable at work is...</td>\n",
              "      <td>original</td>\n",
              "      <td>1</td>\n",
              "      <td>1</td>\n",
              "      <td>0</td>\n",
              "      <td>4</td>\n",
              "      <td>2</td>\n",
              "      <td>7/9/19</td>\n",
              "      <td>1</td>\n",
              "      <td>0</td>\n",
              "      <td>0</td>\n",
              "    </tr>\n",
              "    <tr>\n",
              "      <th>228</th>\n",
              "      <td>18158</td>\n",
              "      <td>American Electric Power</td>\n",
              "      <td>profit</td>\n",
              "      <td>192</td>\n",
              "      <td>55</td>\n",
              "      <td>Energy</td>\n",
              "      <td>A strong weather system blew across our Va and...</td>\n",
              "      <td>original</td>\n",
              "      <td>0</td>\n",
              "      <td>1</td>\n",
              "      <td>0</td>\n",
              "      <td>0</td>\n",
              "      <td>0</td>\n",
              "      <td>11/1/19</td>\n",
              "      <td>1</td>\n",
              "      <td>0</td>\n",
              "      <td>0</td>\n",
              "    </tr>\n",
              "    <tr>\n",
              "      <th>229</th>\n",
              "      <td>32270</td>\n",
              "      <td>Citigroup</td>\n",
              "      <td>profit</td>\n",
              "      <td>30</td>\n",
              "      <td>61</td>\n",
              "      <td>Financials</td>\n",
              "      <td>The holiday season kicks off on Thursday, Nove...</td>\n",
              "      <td>original</td>\n",
              "      <td>1</td>\n",
              "      <td>1</td>\n",
              "      <td>1</td>\n",
              "      <td>10</td>\n",
              "      <td>1</td>\n",
              "      <td>11/15/19</td>\n",
              "      <td>1</td>\n",
              "      <td>0</td>\n",
              "      <td>0</td>\n",
              "    </tr>\n",
              "  </tbody>\n",
              "</table>\n",
              "<p>230 rows × 17 columns</p>\n",
              "</div>"
            ],
            "text/plain": [
              "     Unnamed: 0                 Org name  ... Presence/Absence  Manual\n",
              "0         25457                   Viacom  ...                0       0\n",
              "1         52414                   AbbVie  ...                0       1\n",
              "2         27378                 Huntsman  ...                0       1\n",
              "3         42166                Alleghany  ...                0       0\n",
              "4         14326                 Qualcomm  ...                0       0\n",
              "..          ...                      ...  ...              ...     ...\n",
              "225       15265                 Broadcom  ...                0       0\n",
              "226       11342      Northwestern Mutual  ...                0       1\n",
              "227       28727             Lam Research  ...                0       0\n",
              "228       18158  American Electric Power  ...                0       0\n",
              "229       32270                Citigroup  ...                0       0\n",
              "\n",
              "[230 rows x 17 columns]"
            ]
          },
          "metadata": {
            "tags": []
          },
          "execution_count": 2
        }
      ]
    },
    {
      "cell_type": "markdown",
      "metadata": {
        "id": "7ijS0PfFvGDI"
      },
      "source": [
        "Hope Count Feature"
      ]
    },
    {
      "cell_type": "code",
      "metadata": {
        "colab": {
          "base_uri": "https://localhost:8080/"
        },
        "id": "IqqpYj_d_q3R",
        "outputId": "12f9c904-d3e2-4884-e2af-307e0097a7d8"
      },
      "source": [
        "h_list = hope_list[0].tolist()\n",
        "print(h_list)\n",
        "text = ['tweet']\n",
        "def hope_count(csv,h_list):\n",
        "  csv['Hope_Count'] = 0\n",
        "  for x in range(0,len(csv)):\n",
        "    counter = 0\n",
        "    split = csv['Text'].iloc[x].split()\n",
        "    for y in split:\n",
        "      for z in h_list:\n",
        "        if(y == z):\n",
        "          counter+=1\n",
        "    csv['Hope_Count'].iloc[x] = counter"
      ],
      "execution_count": null,
      "outputs": [
        {
          "output_type": "stream",
          "text": [
            "['achievement', 'ambition', 'anticipation', 'aspiration', 'belief', 'concern', 'confidence', 'desire', 'expectation', 'faith', 'goal', 'optimism', 'promise', 'prospect', 'wish', 'assumption', 'buoyancy', 'daydream', 'dependence', 'endurance', 'expectancy', 'fancy', 'fortune', 'gain', 'hopefulness', 'reliance', 'reverie', 'reward', 'rosiness', 'sanguineness', 'security', 'stock', 'utopia', 'largest', 'biggest', 'best', 'better', 'power', 'capability', 'capacity', 'function', 'influence', 'potential', 'skill', 'talent', 'advance', 'age', 'become', 'breed', 'build', 'come', 'cultivate', 'develop', 'expand', 'flourish', 'gain', 'increase', 'mature', 'multiply', 'produce', 'raise', 'rise', 'spread', 'sprout', 'swell', 'thrive', 'turn', 'widen']\n"
          ],
          "name": "stdout"
        }
      ]
    },
    {
      "cell_type": "markdown",
      "metadata": {
        "id": "CaIZEiRxvBDf"
      },
      "source": [
        "Text Processing"
      ]
    },
    {
      "cell_type": "code",
      "metadata": {
        "id": "V8SSeXrJPGgq"
      },
      "source": [
        "import re\n",
        "\n",
        "# remove special characters and empty spaces in order to have a clean dataset\n",
        "def processing(tweet, length):\n",
        "  processed_tweets = []\n",
        "  for x in range(0, length):  \n",
        "      # Remove all the special characters\n",
        "      processed_tweet = re.sub(r'\\W', ' ', str(tweet.iloc[x]))\n",
        "  \n",
        "      # remove all single characters\n",
        "      processed_tweet = re.sub(r'\\s+[a-zA-Z]\\s+', ' ', processed_tweet)\n",
        "  \n",
        "      # Remove single characters from the start\n",
        "      processed_tweet = re.sub(r'\\^[a-zA-Z]\\s+', ' ', processed_tweet) \n",
        "  \n",
        "      # Substituting multiple spaces with single space\n",
        "      processed_tweet= re.sub(r'\\s+', ' ', processed_tweet, flags=re.I)\n",
        "  \n",
        "      # Removing prefixed 'b'\n",
        "      processed_tweet = re.sub(r'^b\\s+', '', processed_tweet)\n",
        "  \n",
        "      # Converting to Lowercase\n",
        "      processed_tweet = processed_tweet.lower()\n",
        "  \n",
        "      processed_tweets.append(processed_tweet)\n",
        "  return processed_tweets"
      ],
      "execution_count": null,
      "outputs": []
    },
    {
      "cell_type": "code",
      "metadata": {
        "colab": {
          "base_uri": "https://localhost:8080/"
        },
        "id": "bZvggGf7PkuS",
        "outputId": "90b63599-b508-4d42-d6f6-6ac5d029139d"
      },
      "source": [
        "import nltk\n",
        "nltk.download('stopwords')\n",
        "from nltk.corpus import stopwords\n",
        "stopwords=stopwords.words('english')\n",
        "print(stopwords)"
      ],
      "execution_count": null,
      "outputs": [
        {
          "output_type": "stream",
          "text": [
            "[nltk_data] Downloading package stopwords to /root/nltk_data...\n",
            "[nltk_data]   Unzipping corpora/stopwords.zip.\n",
            "['i', 'me', 'my', 'myself', 'we', 'our', 'ours', 'ourselves', 'you', \"you're\", \"you've\", \"you'll\", \"you'd\", 'your', 'yours', 'yourself', 'yourselves', 'he', 'him', 'his', 'himself', 'she', \"she's\", 'her', 'hers', 'herself', 'it', \"it's\", 'its', 'itself', 'they', 'them', 'their', 'theirs', 'themselves', 'what', 'which', 'who', 'whom', 'this', 'that', \"that'll\", 'these', 'those', 'am', 'is', 'are', 'was', 'were', 'be', 'been', 'being', 'have', 'has', 'had', 'having', 'do', 'does', 'did', 'doing', 'a', 'an', 'the', 'and', 'but', 'if', 'or', 'because', 'as', 'until', 'while', 'of', 'at', 'by', 'for', 'with', 'about', 'against', 'between', 'into', 'through', 'during', 'before', 'after', 'above', 'below', 'to', 'from', 'up', 'down', 'in', 'out', 'on', 'off', 'over', 'under', 'again', 'further', 'then', 'once', 'here', 'there', 'when', 'where', 'why', 'how', 'all', 'any', 'both', 'each', 'few', 'more', 'most', 'other', 'some', 'such', 'no', 'nor', 'not', 'only', 'own', 'same', 'so', 'than', 'too', 'very', 's', 't', 'can', 'will', 'just', 'don', \"don't\", 'should', \"should've\", 'now', 'd', 'll', 'm', 'o', 're', 've', 'y', 'ain', 'aren', \"aren't\", 'couldn', \"couldn't\", 'didn', \"didn't\", 'doesn', \"doesn't\", 'hadn', \"hadn't\", 'hasn', \"hasn't\", 'haven', \"haven't\", 'isn', \"isn't\", 'ma', 'mightn', \"mightn't\", 'mustn', \"mustn't\", 'needn', \"needn't\", 'shan', \"shan't\", 'shouldn', \"shouldn't\", 'wasn', \"wasn't\", 'weren', \"weren't\", 'won', \"won't\", 'wouldn', \"wouldn't\"]\n"
          ],
          "name": "stdout"
        }
      ]
    },
    {
      "cell_type": "markdown",
      "metadata": {
        "id": "qI7vrRolu80z"
      },
      "source": [
        "Bert"
      ]
    },
    {
      "cell_type": "code",
      "metadata": {
        "colab": {
          "base_uri": "https://localhost:8080/",
          "height": 296,
          "referenced_widgets": [
            "ffec5717d1904f6e892d7f0b865ebcb6",
            "b6ae4dcdc11b4f5fa5a2c20f5d90a89d",
            "5d5df06cb3fa488392b227e890d3d618",
            "75162c0cc044447d862219a26d6b46f4",
            "3e565cf3904b44c5a3c2bfb9e49b0bf3",
            "d984be3ef9b842cb81ec72d82da40e91",
            "3300eaed70cb48138f95fe3bcb0816cb",
            "18995f724d0d47c79c3852795869cb9f",
            "a3112e68f7d94b2fb3dabfb35db2105a",
            "49cff1f814004a91a3b875eb96d68c95",
            "da617bb4b65d48c99137725084696346",
            "7174765b40eb411ebf7a468d9e5708ec",
            "8b7ce6af9dbf4b6889d4cc06e3767dcd",
            "a4f440f1e3484db6a47a8d10ba57eaab",
            "8dbb4bbf5c8446f99284f16e7aacda70",
            "711e0f640841499bb4e6956a24aa1dc9",
            "2db3be53d9e044c3a3fd91283d2e500b",
            "c06d2a828b2e479fa2ea9c650cf4ae1d",
            "6e514289f92f4f999f776661445707de",
            "c7f6e4b73ec543e99c70f44add8468fa",
            "eda79dd3eec449aaa6a6df744fe1dcd9",
            "d44ab38261d34cd3bf6ef6082725ca19",
            "7e35136b321242a4b4b9f6b684b5f5c2",
            "a1ddd3bc4668401f81ff4bc478674e8f",
            "9de6d71cc2f84068a9802f84b08af687",
            "a80bea9737434953be87a68ff68394c0",
            "ac309a4e55644907b0d604ae5b5cffee",
            "a98ac81a70c04b7b9a9cd93bfa69824d",
            "e33ebc82a60047c8a95210e391873b1b",
            "956cd61a212041b8a6ab7f4017cc9726",
            "8fc0d32db26d4033a4a8a9060baeeac5",
            "16bb34d51199435583c30ffca7a7466d",
            "de9e6c796cfc4719a34ac37f99b3c575",
            "d8e610f8d6854cb78277b0ff6661c32e",
            "4f299f6fdf714f8cb498d5dd7a889e3b",
            "4065fde658b743fe8c39c0af3acc8b60",
            "ea3ce00a7f204ff6884c225a053b6593",
            "831d6f1b550a48a694c698569a9c01b3",
            "d590b489de96491ca13eb845a00c4cb5",
            "3fc15d5b8fba4736a967e5dde311a90a"
          ]
        },
        "id": "6XfJi3IionWc",
        "outputId": "5e02908d-4f4c-435a-9e00-aede686c16a1"
      },
      "source": [
        "tokenizer = BertTokenizer.from_pretrained('bert-base-uncased')\n",
        "model = BertForPreTraining.from_pretrained('bert-base-uncased')\n",
        "embeddings = []\n",
        "test_embeddings = []\n",
        "for x in range(0,230):\n",
        "  inputs = tokenizer(str(tweets['Text'].iloc[x]), return_tensors=\"pt\")\n",
        "  test_inputs = tokenizer(str(test_data['Text'].iloc[x]), return_tensors=\"pt\")\n",
        "  outputs = model(**inputs)\n",
        "  test_outputs = model(**test_inputs)\n",
        "  embeddings.append(outputs[0][:,0,:].detach().numpy().tolist()[0])\n",
        "  test_embeddings.append(test_outputs[0][:,0,:].detach().numpy().tolist()[0])"
      ],
      "execution_count": null,
      "outputs": [
        {
          "output_type": "display_data",
          "data": {
            "application/vnd.jupyter.widget-view+json": {
              "model_id": "ffec5717d1904f6e892d7f0b865ebcb6",
              "version_minor": 0,
              "version_major": 2
            },
            "text/plain": [
              "HBox(children=(FloatProgress(value=0.0, description='Downloading', max=231508.0, style=ProgressStyle(descripti…"
            ]
          },
          "metadata": {
            "tags": []
          }
        },
        {
          "output_type": "stream",
          "text": [
            "\n"
          ],
          "name": "stdout"
        },
        {
          "output_type": "display_data",
          "data": {
            "application/vnd.jupyter.widget-view+json": {
              "model_id": "a3112e68f7d94b2fb3dabfb35db2105a",
              "version_minor": 0,
              "version_major": 2
            },
            "text/plain": [
              "HBox(children=(FloatProgress(value=0.0, description='Downloading', max=28.0, style=ProgressStyle(description_w…"
            ]
          },
          "metadata": {
            "tags": []
          }
        },
        {
          "output_type": "stream",
          "text": [
            "\n"
          ],
          "name": "stdout"
        },
        {
          "output_type": "display_data",
          "data": {
            "application/vnd.jupyter.widget-view+json": {
              "model_id": "2db3be53d9e044c3a3fd91283d2e500b",
              "version_minor": 0,
              "version_major": 2
            },
            "text/plain": [
              "HBox(children=(FloatProgress(value=0.0, description='Downloading', max=466062.0, style=ProgressStyle(descripti…"
            ]
          },
          "metadata": {
            "tags": []
          }
        },
        {
          "output_type": "stream",
          "text": [
            "\n"
          ],
          "name": "stdout"
        },
        {
          "output_type": "display_data",
          "data": {
            "application/vnd.jupyter.widget-view+json": {
              "model_id": "9de6d71cc2f84068a9802f84b08af687",
              "version_minor": 0,
              "version_major": 2
            },
            "text/plain": [
              "HBox(children=(FloatProgress(value=0.0, description='Downloading', max=570.0, style=ProgressStyle(description_…"
            ]
          },
          "metadata": {
            "tags": []
          }
        },
        {
          "output_type": "stream",
          "text": [
            "\n"
          ],
          "name": "stdout"
        },
        {
          "output_type": "display_data",
          "data": {
            "application/vnd.jupyter.widget-view+json": {
              "model_id": "de9e6c796cfc4719a34ac37f99b3c575",
              "version_minor": 0,
              "version_major": 2
            },
            "text/plain": [
              "HBox(children=(FloatProgress(value=0.0, description='Downloading', max=440473133.0, style=ProgressStyle(descri…"
            ]
          },
          "metadata": {
            "tags": []
          }
        },
        {
          "output_type": "stream",
          "text": [
            "\n"
          ],
          "name": "stdout"
        },
        {
          "output_type": "stream",
          "text": [
            "Some weights of BertForPreTraining were not initialized from the model checkpoint at bert-base-uncased and are newly initialized: ['cls.predictions.decoder.bias']\n",
            "You should probably TRAIN this model on a down-stream task to be able to use it for predictions and inference.\n"
          ],
          "name": "stderr"
        }
      ]
    },
    {
      "cell_type": "code",
      "metadata": {
        "id": "gZW-Ro2Zrk8V"
      },
      "source": [
        "tokenizer = BertTokenizer.from_pretrained('bert-base-uncased')\n",
        "model = BertForPreTraining.from_pretrained('bert-base-uncased')\n",
        "pred_embeddings = []\n",
        "test_embeddings = []\n",
        "for x in range(0,230):\n",
        "  inputs = tokenizer(str(tweets['Text'].iloc[x]), return_tensors=\"pt\")\n",
        "  test_inputs = tokenizer(str(test_data['Text'].iloc[x]), return_tensors=\"pt\")\n",
        "  outputs = model(**inputs)\n",
        "  test_outputs = model(**test_inputs)\n",
        "  embeddings.append(outputs[0][:,0,:].detach().numpy().tolist()[0])\n",
        "  test_embeddings.append(test_outputs[0][:,0,:].detach().numpy().tolist()[0])"
      ],
      "execution_count": null,
      "outputs": []
    },
    {
      "cell_type": "code",
      "metadata": {
        "colab": {
          "base_uri": "https://localhost:8080/"
        },
        "id": "ZMcPp9lAruWw",
        "outputId": "7228e790-22fd-4dac-c49a-681bc5962026"
      },
      "source": [
        "print(accuracy_score(prediction_df['Presence/Absence'],prediction_df['Manual']))"
      ],
      "execution_count": null,
      "outputs": [
        {
          "output_type": "stream",
          "text": [
            "0.6565217391304348\n"
          ],
          "name": "stdout"
        }
      ]
    },
    {
      "cell_type": "code",
      "metadata": {
        "colab": {
          "base_uri": "https://localhost:8080/"
        },
        "id": "V3jbZAuByWNt",
        "outputId": "bd61a5e9-0255-4467-d2f9-daab684f9c96"
      },
      "source": [
        "#'''\n",
        "tfidfconverter = TfidfVectorizer(max_features=1200, min_df=5, max_df= 0.7,  stop_words=stopwords)  \n",
        "X1 = processing(tweets['Text'], len(tweets['Text']))\n",
        "Y1 = tweets['Presence/Absence'].to_numpy()\n",
        "X1 = tfidfconverter.fit_transform(X1).toarray()\n",
        "\n",
        "X2 = processing(test_data['Text'],len(test_data['Text']))\n",
        "X2 = tfidfconverter.fit_transform(X2).toarray()\n",
        "\n",
        "\n",
        "'''\n",
        "X1 = pd.DataFrame(embeddings).to_numpy()\n",
        "Y1 = tweets['Presence/Absence'].to_numpy()\n",
        "X2 = pd.DataFrame(test_embeddings).to_numpy()\n",
        "'''\n",
        "f1 = []\n",
        "ascore = []\n",
        "tp = 0\n",
        "fp = 0\n",
        "tn = 0\n",
        "fn = 0\n",
        "predictions = []\n",
        "kf = KFold(n_splits=230)\n",
        "kf.get_n_splits(X1)\n",
        "for train_index, test_index in kf.split(X1):\n",
        "  X_train, X_test = X1[train_index], X1[test_index]\n",
        "  y_train, y_test = Y1[train_index], Y1[test_index]\n",
        "#  X_pred, X_pred2 = X2[train_index], X2[test_index]\n",
        "  classifier_RandomForestClassifier = RandomForestClassifier(n_estimators=100, random_state=0)  \n",
        "  classifier_RandomForestClassifier.fit(X_train, y_train)\n",
        "  pred = classifier_RandomForestClassifier.predict(X_test)\n",
        "  f1.append(f1_score(y_test,pred, average = 'micro'))\n",
        "  ascore.append(accuracy_score(y_test,pred))\n",
        "  if(y_test[0] == 1 and pred[0] == 1):\n",
        "    tp+=1\n",
        "  elif(y_test[0] == 0 and pred[0] == 1):\n",
        "    fp+=1\n",
        "  elif(y_test[0] == 0 and pred[0] == 0):\n",
        "    tn+=1\n",
        "  else:\n",
        "    fn+=1 \n",
        "#  predictions.append(classifier_RandomForestClassifier.predict(X2))\n",
        "print('F1 average', sum(f1)/230)\n",
        "print('Accuracy Score', sum(ascore)/230)\n",
        "print(\"True Positive: \", tp)\n",
        "print(\"False Positive: \", fp)\n",
        "print(\"True Negative: \", tn)\n",
        "print(\"False Negative: \", fn)"
      ],
      "execution_count": null,
      "outputs": [
        {
          "output_type": "stream",
          "text": [
            "F1 average 0.8478260869565217\n",
            "Accuracy Score 0.8478260869565217\n",
            "True Positive:  93\n",
            "False Positive:  13\n",
            "True Negative:  102\n",
            "False Negative:  22\n"
          ],
          "name": "stdout"
        }
      ]
    },
    {
      "cell_type": "code",
      "metadata": {
        "colab": {
          "base_uri": "https://localhost:8080/"
        },
        "id": "4not5qnaT6I2",
        "outputId": "07c8cdc5-6d97-44f0-876e-7907a9042230"
      },
      "source": [
        "results_float = sum(predictions)/230\n",
        "results_binary = list(map(int, results_float))\n",
        "print(sum(results_binary))"
      ],
      "execution_count": null,
      "outputs": [
        {
          "output_type": "stream",
          "text": [
            "11\n"
          ],
          "name": "stdout"
        }
      ]
    },
    {
      "cell_type": "code",
      "metadata": {
        "colab": {
          "base_uri": "https://localhost:8080/"
        },
        "id": "eP1A-3CLV9j1",
        "outputId": "694c6543-e665-4a25-b52c-c55c7a3b8155"
      },
      "source": [
        "test_data['Presence/Absence'] = results_binary\n",
        "print(sum(test_data['Presence/Absence']))"
      ],
      "execution_count": null,
      "outputs": [
        {
          "output_type": "stream",
          "text": [
            "11\n"
          ],
          "name": "stdout"
        }
      ]
    },
    {
      "cell_type": "code",
      "metadata": {
        "colab": {
          "base_uri": "https://localhost:8080/",
          "height": 17
        },
        "id": "mQXnBStpXZSy",
        "outputId": "75f7f71a-a97e-4425-8def-85e1582b0c98"
      },
      "source": [
        "#test_data.to_csv('/content/drive/My Drive/Colab Notebooks/environmental20tweets_BERTPredictions.csv', index=False)\n",
        "from google.colab import files\n",
        "test_data.to_csv('environmental20tweets_BERTPredictions.csv') \n",
        "files.download('environmental20tweets_BERTPredictions.csv')"
      ],
      "execution_count": null,
      "outputs": [
        {
          "output_type": "display_data",
          "data": {
            "application/javascript": [
              "\n",
              "    async function download(id, filename, size) {\n",
              "      if (!google.colab.kernel.accessAllowed) {\n",
              "        return;\n",
              "      }\n",
              "      const div = document.createElement('div');\n",
              "      const label = document.createElement('label');\n",
              "      label.textContent = `Downloading \"${filename}\": `;\n",
              "      div.appendChild(label);\n",
              "      const progress = document.createElement('progress');\n",
              "      progress.max = size;\n",
              "      div.appendChild(progress);\n",
              "      document.body.appendChild(div);\n",
              "\n",
              "      const buffers = [];\n",
              "      let downloaded = 0;\n",
              "\n",
              "      const channel = await google.colab.kernel.comms.open(id);\n",
              "      // Send a message to notify the kernel that we're ready.\n",
              "      channel.send({})\n",
              "\n",
              "      for await (const message of channel.messages) {\n",
              "        // Send a message to notify the kernel that we're ready.\n",
              "        channel.send({})\n",
              "        if (message.buffers) {\n",
              "          for (const buffer of message.buffers) {\n",
              "            buffers.push(buffer);\n",
              "            downloaded += buffer.byteLength;\n",
              "            progress.value = downloaded;\n",
              "          }\n",
              "        }\n",
              "      }\n",
              "      const blob = new Blob(buffers, {type: 'application/binary'});\n",
              "      const a = document.createElement('a');\n",
              "      a.href = window.URL.createObjectURL(blob);\n",
              "      a.download = filename;\n",
              "      div.appendChild(a);\n",
              "      a.click();\n",
              "      div.remove();\n",
              "    }\n",
              "  "
            ],
            "text/plain": [
              "<IPython.core.display.Javascript object>"
            ]
          },
          "metadata": {
            "tags": []
          }
        },
        {
          "output_type": "display_data",
          "data": {
            "application/javascript": [
              "download(\"download_c921ecc8-b520-40cc-9957-f04e24c3570e\", \"environmental20tweets_BERTPredictions.csv\", 72753)"
            ],
            "text/plain": [
              "<IPython.core.display.Javascript object>"
            ]
          },
          "metadata": {
            "tags": []
          }
        }
      ]
    },
    {
      "cell_type": "code",
      "metadata": {
        "colab": {
          "base_uri": "https://localhost:8080/"
        },
        "id": "nw02uxrVJwuS",
        "outputId": "e5325e71-8d49-4b41-adbd-800f4abd6b75"
      },
      "source": [
        "hope_count(tweets,h_list)\n",
        "hope_count(test_data,h_list)\n",
        "\n",
        "X3 = tweets[['Hope_Count','CODED_hashtags']]\n",
        "Y3 = tweets['Presence/Absence']\n",
        "X_train3, X_test3, y_train3, y_test3 = train_test_split(X3, Y3, test_size=0.2, random_state=0)\n",
        "X4 = test_data[['Hope_Count','CODED_hashtags']]\n",
        "Y4 = test_data['Fake_Label']\n",
        "\n",
        "\n",
        "classifier_RandomForestClassifier = RandomForestClassifier(n_estimators=100, random_state=0)  \n",
        "classifier_RandomForestClassifier.fit(X_train3, y_train3)\n",
        "pred2 = classifier_RandomForestClassifier.predict(X_test3)\n",
        "print(roc_auc_score(y_test3,pred2))\n",
        "print(accuracy_score(y_test3,pred2))\n",
        "\n",
        "test_predictions = classifier_RandomForestClassifier.predict(X4)\n",
        "print(test_predictions)\n",
        "print(sum(tweets['Presence/Absence']))\n",
        "print(sum(test_predictions))"
      ],
      "execution_count": null,
      "outputs": [
        {
          "output_type": "stream",
          "text": [
            "/usr/local/lib/python3.7/dist-packages/pandas/core/indexing.py:670: SettingWithCopyWarning: \n",
            "A value is trying to be set on a copy of a slice from a DataFrame\n",
            "\n",
            "See the caveats in the documentation: https://pandas.pydata.org/pandas-docs/stable/user_guide/indexing.html#returning-a-view-versus-a-copy\n",
            "  iloc._setitem_with_indexer(indexer, value)\n"
          ],
          "name": "stderr"
        },
        {
          "output_type": "stream",
          "text": [
            "0.6430020283975659\n",
            "0.5652173913043478\n",
            "[0 0 0 0 0 0 0 0 0 0 0 0 0 0 1 0 0 0 0 0 1 0 0 0 1 0 0 0 0 0 0 0 0 0 0 0 0\n",
            " 0 0 0 0 0 0 0 0 0 1 0 0 0 0 0 0 0 0 0 0 0 1 1 0 0 0 0 0 0 0 0 0 0 0 0 0 0\n",
            " 0 0 0 0 0 0 0 0 0 0 0 0 0 0 0 0 0 0 1 1 0 0 0 0 1 0 1 1 0 0 0 0 0 0 0 0 0\n",
            " 0 0 0 0 1 1 0 1 0 0 1 0 0 0 0 0 0 0 0 0 0 0 0 0 0 1 0 0 0 1 0 0 0 0 0 0 0\n",
            " 0 0 0 1 0 0 0 0 0 0 0 1 0 0 0 0 0 0 0 0 0 1 0 0 0 0 0 0 0 0 0 1 0 0 0 0 1\n",
            " 0 0 0 0 0 0 0 0 0 0 1 0 0 1 0 0 0]\n",
            "115\n",
            "24\n"
          ],
          "name": "stdout"
        }
      ]
    },
    {
      "cell_type": "code",
      "metadata": {
        "id": "H04mkypAPlb8"
      },
      "source": [
        "tfidfconverter = TfidfVectorizer(max_features=1200, min_df=5, max_df= 0.7,  stop_words=stopwords)  \n",
        "\n",
        "X1 = processing(tweets['Text'], len(tweets['Text']))\n",
        "Y1 = tweets['Presence/Absence']\n",
        "dataset1 = tfidfconverter.fit_transform(X1).toarray()\n",
        "X_train1, X_test1, y_train1, y_test1 = train_test_split(dataset1, Y1, test_size=0.2, random_state=0)\n",
        "\n",
        "X2 = processing(test_data['Text'],len(test_data['Text']))\n",
        "Y2 = test_data['Fake_Label']\n",
        "dataset2 = tfidfconverter.fit_transform(X2).toarray()\n",
        "X_train2, X_test2, y_train2, y_test2 = train_test_split(dataset2, Y2, test_size=0.2, random_state=0)"
      ],
      "execution_count": null,
      "outputs": []
    },
    {
      "cell_type": "code",
      "metadata": {
        "colab": {
          "base_uri": "https://localhost:8080/"
        },
        "id": "wWaa0r08TVj0",
        "outputId": "680b073c-b68d-4546-9c61-f660ee9d7306"
      },
      "source": [
        "classifier_RandomForestClassifier = RandomForestClassifier(n_estimators=100, random_state=0)  \n",
        "classifier_RandomForestClassifier.fit(X_train1, y_train1)\n",
        "predictions_RandomForestClassifier = classifier_RandomForestClassifier.predict(X_test1)\n",
        "print(predictions_RandomForestClassifier)\n",
        "print(f1_score(y_test1,predictions_RandomForestClassifier, average = 'micro'))\n",
        "print(confusion_matrix(y_test1,predictions_RandomForestClassifier))\n",
        "print(accuracy_score(y_test1, predictions_RandomForestClassifier))"
      ],
      "execution_count": null,
      "outputs": [
        {
          "output_type": "stream",
          "text": [
            "[0 0 1 0 1 0 1 0 1 0 1 0 0 1 0 0 0 1 0 0 1 0 1 1 1 1 1 0 1 1 1 1 0 1 0 1 1\n",
            " 1 1 0 1 1 0 0 1 1]\n",
            "0.8913043478260869\n",
            "[[16  1]\n",
            " [ 4 25]]\n",
            "0.8913043478260869\n"
          ],
          "name": "stdout"
        }
      ]
    },
    {
      "cell_type": "code",
      "metadata": {
        "colab": {
          "base_uri": "https://localhost:8080/"
        },
        "id": "Zq3FiGewf-E_",
        "outputId": "f852d239-5f9c-4157-b7b7-e8b245b02ed5"
      },
      "source": [
        "X_test2.shape"
      ],
      "execution_count": null,
      "outputs": [
        {
          "output_type": "execute_result",
          "data": {
            "text/plain": [
              "(46, 107)"
            ]
          },
          "metadata": {
            "tags": []
          },
          "execution_count": 47
        }
      ]
    },
    {
      "cell_type": "code",
      "metadata": {
        "colab": {
          "base_uri": "https://localhost:8080/"
        },
        "id": "iQgfvmuVdyq6",
        "outputId": "eb9ae7c7-9cc7-46b3-ff7c-1e3352e47595"
      },
      "source": [
        "from sklearn.tree import DecisionTreeClassifier\n",
        "from sklearn.model_selection import cross_val_score\n",
        "clf = DecisionTreeClassifier(random_state=0)\n",
        "Classification = clf.fit(X_train1, y_train1)\n",
        "pred = clf.predict(X_test1)\n",
        "print(pred)\n",
        "#cross_val_score(clf, iris.data, iris.target, cv=10)"
      ],
      "execution_count": null,
      "outputs": [
        {
          "output_type": "stream",
          "text": [
            "[1 1 1 1 1 1 1 1 1 1 1 1 1 1 1 1 1 1 1 1 1 1 1 1 1 1 1 1 1 1 1 1 1 1 1 1 1\n",
            " 1 1 1 1]\n"
          ],
          "name": "stdout"
        }
      ]
    }
  ]
}