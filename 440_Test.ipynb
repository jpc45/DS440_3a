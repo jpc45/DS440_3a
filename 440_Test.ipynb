{
  "nbformat": 4,
  "nbformat_minor": 0,
  "metadata": {
    "colab": {
      "name": "440_Test.ipynb",
      "provenance": [],
      "collapsed_sections": [],
      "machine_shape": "hm"
    },
    "kernelspec": {
      "display_name": "Python 3",
      "name": "python3"
    },
    "language_info": {
      "name": "python"
    },
    "widgets": {
      "application/vnd.jupyter.widget-state+json": {
        "4de2c8f075724ee79435a611764c0ebb": {
          "model_module": "@jupyter-widgets/controls",
          "model_name": "HBoxModel",
          "state": {
            "_dom_classes": [],
            "_model_module": "@jupyter-widgets/controls",
            "_model_module_version": "1.5.0",
            "_model_name": "HBoxModel",
            "_view_count": null,
            "_view_module": "@jupyter-widgets/controls",
            "_view_module_version": "1.5.0",
            "_view_name": "HBoxView",
            "box_style": "",
            "children": [
              "IPY_MODEL_da197d57cdb347ac930fc339d1746ea3",
              "IPY_MODEL_250285d109634750b2c6f807ef9c73be"
            ],
            "layout": "IPY_MODEL_b0bb7ba5d78043bb9df811c898d083bc"
          }
        },
        "da197d57cdb347ac930fc339d1746ea3": {
          "model_module": "@jupyter-widgets/controls",
          "model_name": "FloatProgressModel",
          "state": {
            "_dom_classes": [],
            "_model_module": "@jupyter-widgets/controls",
            "_model_module_version": "1.5.0",
            "_model_name": "FloatProgressModel",
            "_view_count": null,
            "_view_module": "@jupyter-widgets/controls",
            "_view_module_version": "1.5.0",
            "_view_name": "ProgressView",
            "bar_style": "success",
            "description": "Downloading: 100%",
            "description_tooltip": null,
            "layout": "IPY_MODEL_59df23aa884d441db9cfee3cc99a4e41",
            "max": 231508,
            "min": 0,
            "orientation": "horizontal",
            "style": "IPY_MODEL_fbcc1c4b170b4142a2ca9050887f5dfc",
            "value": 231508
          }
        },
        "250285d109634750b2c6f807ef9c73be": {
          "model_module": "@jupyter-widgets/controls",
          "model_name": "HTMLModel",
          "state": {
            "_dom_classes": [],
            "_model_module": "@jupyter-widgets/controls",
            "_model_module_version": "1.5.0",
            "_model_name": "HTMLModel",
            "_view_count": null,
            "_view_module": "@jupyter-widgets/controls",
            "_view_module_version": "1.5.0",
            "_view_name": "HTMLView",
            "description": "",
            "description_tooltip": null,
            "layout": "IPY_MODEL_e50e97ea3eec49e09cd1bffd00d8694d",
            "placeholder": "​",
            "style": "IPY_MODEL_840ca6b804074fe2ba50065393fb531a",
            "value": " 232k/232k [00:00&lt;00:00, 314kB/s]"
          }
        },
        "b0bb7ba5d78043bb9df811c898d083bc": {
          "model_module": "@jupyter-widgets/base",
          "model_name": "LayoutModel",
          "state": {
            "_model_module": "@jupyter-widgets/base",
            "_model_module_version": "1.2.0",
            "_model_name": "LayoutModel",
            "_view_count": null,
            "_view_module": "@jupyter-widgets/base",
            "_view_module_version": "1.2.0",
            "_view_name": "LayoutView",
            "align_content": null,
            "align_items": null,
            "align_self": null,
            "border": null,
            "bottom": null,
            "display": null,
            "flex": null,
            "flex_flow": null,
            "grid_area": null,
            "grid_auto_columns": null,
            "grid_auto_flow": null,
            "grid_auto_rows": null,
            "grid_column": null,
            "grid_gap": null,
            "grid_row": null,
            "grid_template_areas": null,
            "grid_template_columns": null,
            "grid_template_rows": null,
            "height": null,
            "justify_content": null,
            "justify_items": null,
            "left": null,
            "margin": null,
            "max_height": null,
            "max_width": null,
            "min_height": null,
            "min_width": null,
            "object_fit": null,
            "object_position": null,
            "order": null,
            "overflow": null,
            "overflow_x": null,
            "overflow_y": null,
            "padding": null,
            "right": null,
            "top": null,
            "visibility": null,
            "width": null
          }
        },
        "59df23aa884d441db9cfee3cc99a4e41": {
          "model_module": "@jupyter-widgets/base",
          "model_name": "LayoutModel",
          "state": {
            "_model_module": "@jupyter-widgets/base",
            "_model_module_version": "1.2.0",
            "_model_name": "LayoutModel",
            "_view_count": null,
            "_view_module": "@jupyter-widgets/base",
            "_view_module_version": "1.2.0",
            "_view_name": "LayoutView",
            "align_content": null,
            "align_items": null,
            "align_self": null,
            "border": null,
            "bottom": null,
            "display": null,
            "flex": null,
            "flex_flow": null,
            "grid_area": null,
            "grid_auto_columns": null,
            "grid_auto_flow": null,
            "grid_auto_rows": null,
            "grid_column": null,
            "grid_gap": null,
            "grid_row": null,
            "grid_template_areas": null,
            "grid_template_columns": null,
            "grid_template_rows": null,
            "height": null,
            "justify_content": null,
            "justify_items": null,
            "left": null,
            "margin": null,
            "max_height": null,
            "max_width": null,
            "min_height": null,
            "min_width": null,
            "object_fit": null,
            "object_position": null,
            "order": null,
            "overflow": null,
            "overflow_x": null,
            "overflow_y": null,
            "padding": null,
            "right": null,
            "top": null,
            "visibility": null,
            "width": null
          }
        },
        "fbcc1c4b170b4142a2ca9050887f5dfc": {
          "model_module": "@jupyter-widgets/controls",
          "model_name": "ProgressStyleModel",
          "state": {
            "_model_module": "@jupyter-widgets/controls",
            "_model_module_version": "1.5.0",
            "_model_name": "ProgressStyleModel",
            "_view_count": null,
            "_view_module": "@jupyter-widgets/base",
            "_view_module_version": "1.2.0",
            "_view_name": "StyleView",
            "bar_color": null,
            "description_width": "initial"
          }
        },
        "e50e97ea3eec49e09cd1bffd00d8694d": {
          "model_module": "@jupyter-widgets/base",
          "model_name": "LayoutModel",
          "state": {
            "_model_module": "@jupyter-widgets/base",
            "_model_module_version": "1.2.0",
            "_model_name": "LayoutModel",
            "_view_count": null,
            "_view_module": "@jupyter-widgets/base",
            "_view_module_version": "1.2.0",
            "_view_name": "LayoutView",
            "align_content": null,
            "align_items": null,
            "align_self": null,
            "border": null,
            "bottom": null,
            "display": null,
            "flex": null,
            "flex_flow": null,
            "grid_area": null,
            "grid_auto_columns": null,
            "grid_auto_flow": null,
            "grid_auto_rows": null,
            "grid_column": null,
            "grid_gap": null,
            "grid_row": null,
            "grid_template_areas": null,
            "grid_template_columns": null,
            "grid_template_rows": null,
            "height": null,
            "justify_content": null,
            "justify_items": null,
            "left": null,
            "margin": null,
            "max_height": null,
            "max_width": null,
            "min_height": null,
            "min_width": null,
            "object_fit": null,
            "object_position": null,
            "order": null,
            "overflow": null,
            "overflow_x": null,
            "overflow_y": null,
            "padding": null,
            "right": null,
            "top": null,
            "visibility": null,
            "width": null
          }
        },
        "840ca6b804074fe2ba50065393fb531a": {
          "model_module": "@jupyter-widgets/controls",
          "model_name": "DescriptionStyleModel",
          "state": {
            "_model_module": "@jupyter-widgets/controls",
            "_model_module_version": "1.5.0",
            "_model_name": "DescriptionStyleModel",
            "_view_count": null,
            "_view_module": "@jupyter-widgets/base",
            "_view_module_version": "1.2.0",
            "_view_name": "StyleView",
            "description_width": ""
          }
        },
        "8619ca22d5e4437bafec1bb1247070ea": {
          "model_module": "@jupyter-widgets/controls",
          "model_name": "HBoxModel",
          "state": {
            "_dom_classes": [],
            "_model_module": "@jupyter-widgets/controls",
            "_model_module_version": "1.5.0",
            "_model_name": "HBoxModel",
            "_view_count": null,
            "_view_module": "@jupyter-widgets/controls",
            "_view_module_version": "1.5.0",
            "_view_name": "HBoxView",
            "box_style": "",
            "children": [
              "IPY_MODEL_8e4fd1518e864d748a122af4d507898f",
              "IPY_MODEL_2206e82e24af41e9946b34044da33417"
            ],
            "layout": "IPY_MODEL_15ba4cbbbbec4e04bbb7cf1ab03fecd3"
          }
        },
        "8e4fd1518e864d748a122af4d507898f": {
          "model_module": "@jupyter-widgets/controls",
          "model_name": "FloatProgressModel",
          "state": {
            "_dom_classes": [],
            "_model_module": "@jupyter-widgets/controls",
            "_model_module_version": "1.5.0",
            "_model_name": "FloatProgressModel",
            "_view_count": null,
            "_view_module": "@jupyter-widgets/controls",
            "_view_module_version": "1.5.0",
            "_view_name": "ProgressView",
            "bar_style": "success",
            "description": "Downloading: 100%",
            "description_tooltip": null,
            "layout": "IPY_MODEL_224ac5ff16f448e3934723fed11e1640",
            "max": 28,
            "min": 0,
            "orientation": "horizontal",
            "style": "IPY_MODEL_33660ed48e0d45ceb1c7a8f3f6d3c391",
            "value": 28
          }
        },
        "2206e82e24af41e9946b34044da33417": {
          "model_module": "@jupyter-widgets/controls",
          "model_name": "HTMLModel",
          "state": {
            "_dom_classes": [],
            "_model_module": "@jupyter-widgets/controls",
            "_model_module_version": "1.5.0",
            "_model_name": "HTMLModel",
            "_view_count": null,
            "_view_module": "@jupyter-widgets/controls",
            "_view_module_version": "1.5.0",
            "_view_name": "HTMLView",
            "description": "",
            "description_tooltip": null,
            "layout": "IPY_MODEL_958e7fb01e314ba9bf355c1b0dc36caf",
            "placeholder": "​",
            "style": "IPY_MODEL_4f08dc66865c46b2bc0d0e0cef412508",
            "value": " 28.0/28.0 [00:00&lt;00:00, 82.6B/s]"
          }
        },
        "15ba4cbbbbec4e04bbb7cf1ab03fecd3": {
          "model_module": "@jupyter-widgets/base",
          "model_name": "LayoutModel",
          "state": {
            "_model_module": "@jupyter-widgets/base",
            "_model_module_version": "1.2.0",
            "_model_name": "LayoutModel",
            "_view_count": null,
            "_view_module": "@jupyter-widgets/base",
            "_view_module_version": "1.2.0",
            "_view_name": "LayoutView",
            "align_content": null,
            "align_items": null,
            "align_self": null,
            "border": null,
            "bottom": null,
            "display": null,
            "flex": null,
            "flex_flow": null,
            "grid_area": null,
            "grid_auto_columns": null,
            "grid_auto_flow": null,
            "grid_auto_rows": null,
            "grid_column": null,
            "grid_gap": null,
            "grid_row": null,
            "grid_template_areas": null,
            "grid_template_columns": null,
            "grid_template_rows": null,
            "height": null,
            "justify_content": null,
            "justify_items": null,
            "left": null,
            "margin": null,
            "max_height": null,
            "max_width": null,
            "min_height": null,
            "min_width": null,
            "object_fit": null,
            "object_position": null,
            "order": null,
            "overflow": null,
            "overflow_x": null,
            "overflow_y": null,
            "padding": null,
            "right": null,
            "top": null,
            "visibility": null,
            "width": null
          }
        },
        "224ac5ff16f448e3934723fed11e1640": {
          "model_module": "@jupyter-widgets/base",
          "model_name": "LayoutModel",
          "state": {
            "_model_module": "@jupyter-widgets/base",
            "_model_module_version": "1.2.0",
            "_model_name": "LayoutModel",
            "_view_count": null,
            "_view_module": "@jupyter-widgets/base",
            "_view_module_version": "1.2.0",
            "_view_name": "LayoutView",
            "align_content": null,
            "align_items": null,
            "align_self": null,
            "border": null,
            "bottom": null,
            "display": null,
            "flex": null,
            "flex_flow": null,
            "grid_area": null,
            "grid_auto_columns": null,
            "grid_auto_flow": null,
            "grid_auto_rows": null,
            "grid_column": null,
            "grid_gap": null,
            "grid_row": null,
            "grid_template_areas": null,
            "grid_template_columns": null,
            "grid_template_rows": null,
            "height": null,
            "justify_content": null,
            "justify_items": null,
            "left": null,
            "margin": null,
            "max_height": null,
            "max_width": null,
            "min_height": null,
            "min_width": null,
            "object_fit": null,
            "object_position": null,
            "order": null,
            "overflow": null,
            "overflow_x": null,
            "overflow_y": null,
            "padding": null,
            "right": null,
            "top": null,
            "visibility": null,
            "width": null
          }
        },
        "33660ed48e0d45ceb1c7a8f3f6d3c391": {
          "model_module": "@jupyter-widgets/controls",
          "model_name": "ProgressStyleModel",
          "state": {
            "_model_module": "@jupyter-widgets/controls",
            "_model_module_version": "1.5.0",
            "_model_name": "ProgressStyleModel",
            "_view_count": null,
            "_view_module": "@jupyter-widgets/base",
            "_view_module_version": "1.2.0",
            "_view_name": "StyleView",
            "bar_color": null,
            "description_width": "initial"
          }
        },
        "958e7fb01e314ba9bf355c1b0dc36caf": {
          "model_module": "@jupyter-widgets/base",
          "model_name": "LayoutModel",
          "state": {
            "_model_module": "@jupyter-widgets/base",
            "_model_module_version": "1.2.0",
            "_model_name": "LayoutModel",
            "_view_count": null,
            "_view_module": "@jupyter-widgets/base",
            "_view_module_version": "1.2.0",
            "_view_name": "LayoutView",
            "align_content": null,
            "align_items": null,
            "align_self": null,
            "border": null,
            "bottom": null,
            "display": null,
            "flex": null,
            "flex_flow": null,
            "grid_area": null,
            "grid_auto_columns": null,
            "grid_auto_flow": null,
            "grid_auto_rows": null,
            "grid_column": null,
            "grid_gap": null,
            "grid_row": null,
            "grid_template_areas": null,
            "grid_template_columns": null,
            "grid_template_rows": null,
            "height": null,
            "justify_content": null,
            "justify_items": null,
            "left": null,
            "margin": null,
            "max_height": null,
            "max_width": null,
            "min_height": null,
            "min_width": null,
            "object_fit": null,
            "object_position": null,
            "order": null,
            "overflow": null,
            "overflow_x": null,
            "overflow_y": null,
            "padding": null,
            "right": null,
            "top": null,
            "visibility": null,
            "width": null
          }
        },
        "4f08dc66865c46b2bc0d0e0cef412508": {
          "model_module": "@jupyter-widgets/controls",
          "model_name": "DescriptionStyleModel",
          "state": {
            "_model_module": "@jupyter-widgets/controls",
            "_model_module_version": "1.5.0",
            "_model_name": "DescriptionStyleModel",
            "_view_count": null,
            "_view_module": "@jupyter-widgets/base",
            "_view_module_version": "1.2.0",
            "_view_name": "StyleView",
            "description_width": ""
          }
        },
        "2e72aac4084a4dfcab355b9793187392": {
          "model_module": "@jupyter-widgets/controls",
          "model_name": "HBoxModel",
          "state": {
            "_dom_classes": [],
            "_model_module": "@jupyter-widgets/controls",
            "_model_module_version": "1.5.0",
            "_model_name": "HBoxModel",
            "_view_count": null,
            "_view_module": "@jupyter-widgets/controls",
            "_view_module_version": "1.5.0",
            "_view_name": "HBoxView",
            "box_style": "",
            "children": [
              "IPY_MODEL_03588e34f1384d418eaff50749e60a20",
              "IPY_MODEL_d51aa0307e7943ecb38924238cd10741"
            ],
            "layout": "IPY_MODEL_4f8ea760c7c8445c93dafdbb782a05a7"
          }
        },
        "03588e34f1384d418eaff50749e60a20": {
          "model_module": "@jupyter-widgets/controls",
          "model_name": "FloatProgressModel",
          "state": {
            "_dom_classes": [],
            "_model_module": "@jupyter-widgets/controls",
            "_model_module_version": "1.5.0",
            "_model_name": "FloatProgressModel",
            "_view_count": null,
            "_view_module": "@jupyter-widgets/controls",
            "_view_module_version": "1.5.0",
            "_view_name": "ProgressView",
            "bar_style": "success",
            "description": "Downloading: 100%",
            "description_tooltip": null,
            "layout": "IPY_MODEL_5a3acedb230f4eedb212d894651011d1",
            "max": 466062,
            "min": 0,
            "orientation": "horizontal",
            "style": "IPY_MODEL_2887a1952f05485eb55fffa3c30dfc8d",
            "value": 466062
          }
        },
        "d51aa0307e7943ecb38924238cd10741": {
          "model_module": "@jupyter-widgets/controls",
          "model_name": "HTMLModel",
          "state": {
            "_dom_classes": [],
            "_model_module": "@jupyter-widgets/controls",
            "_model_module_version": "1.5.0",
            "_model_name": "HTMLModel",
            "_view_count": null,
            "_view_module": "@jupyter-widgets/controls",
            "_view_module_version": "1.5.0",
            "_view_name": "HTMLView",
            "description": "",
            "description_tooltip": null,
            "layout": "IPY_MODEL_3d3c839abb984011930f0126000ad7e8",
            "placeholder": "​",
            "style": "IPY_MODEL_a5c25b9800f1489ab78bb982e8ca0fd3",
            "value": " 466k/466k [00:00&lt;00:00, 3.15MB/s]"
          }
        },
        "4f8ea760c7c8445c93dafdbb782a05a7": {
          "model_module": "@jupyter-widgets/base",
          "model_name": "LayoutModel",
          "state": {
            "_model_module": "@jupyter-widgets/base",
            "_model_module_version": "1.2.0",
            "_model_name": "LayoutModel",
            "_view_count": null,
            "_view_module": "@jupyter-widgets/base",
            "_view_module_version": "1.2.0",
            "_view_name": "LayoutView",
            "align_content": null,
            "align_items": null,
            "align_self": null,
            "border": null,
            "bottom": null,
            "display": null,
            "flex": null,
            "flex_flow": null,
            "grid_area": null,
            "grid_auto_columns": null,
            "grid_auto_flow": null,
            "grid_auto_rows": null,
            "grid_column": null,
            "grid_gap": null,
            "grid_row": null,
            "grid_template_areas": null,
            "grid_template_columns": null,
            "grid_template_rows": null,
            "height": null,
            "justify_content": null,
            "justify_items": null,
            "left": null,
            "margin": null,
            "max_height": null,
            "max_width": null,
            "min_height": null,
            "min_width": null,
            "object_fit": null,
            "object_position": null,
            "order": null,
            "overflow": null,
            "overflow_x": null,
            "overflow_y": null,
            "padding": null,
            "right": null,
            "top": null,
            "visibility": null,
            "width": null
          }
        },
        "5a3acedb230f4eedb212d894651011d1": {
          "model_module": "@jupyter-widgets/base",
          "model_name": "LayoutModel",
          "state": {
            "_model_module": "@jupyter-widgets/base",
            "_model_module_version": "1.2.0",
            "_model_name": "LayoutModel",
            "_view_count": null,
            "_view_module": "@jupyter-widgets/base",
            "_view_module_version": "1.2.0",
            "_view_name": "LayoutView",
            "align_content": null,
            "align_items": null,
            "align_self": null,
            "border": null,
            "bottom": null,
            "display": null,
            "flex": null,
            "flex_flow": null,
            "grid_area": null,
            "grid_auto_columns": null,
            "grid_auto_flow": null,
            "grid_auto_rows": null,
            "grid_column": null,
            "grid_gap": null,
            "grid_row": null,
            "grid_template_areas": null,
            "grid_template_columns": null,
            "grid_template_rows": null,
            "height": null,
            "justify_content": null,
            "justify_items": null,
            "left": null,
            "margin": null,
            "max_height": null,
            "max_width": null,
            "min_height": null,
            "min_width": null,
            "object_fit": null,
            "object_position": null,
            "order": null,
            "overflow": null,
            "overflow_x": null,
            "overflow_y": null,
            "padding": null,
            "right": null,
            "top": null,
            "visibility": null,
            "width": null
          }
        },
        "2887a1952f05485eb55fffa3c30dfc8d": {
          "model_module": "@jupyter-widgets/controls",
          "model_name": "ProgressStyleModel",
          "state": {
            "_model_module": "@jupyter-widgets/controls",
            "_model_module_version": "1.5.0",
            "_model_name": "ProgressStyleModel",
            "_view_count": null,
            "_view_module": "@jupyter-widgets/base",
            "_view_module_version": "1.2.0",
            "_view_name": "StyleView",
            "bar_color": null,
            "description_width": "initial"
          }
        },
        "3d3c839abb984011930f0126000ad7e8": {
          "model_module": "@jupyter-widgets/base",
          "model_name": "LayoutModel",
          "state": {
            "_model_module": "@jupyter-widgets/base",
            "_model_module_version": "1.2.0",
            "_model_name": "LayoutModel",
            "_view_count": null,
            "_view_module": "@jupyter-widgets/base",
            "_view_module_version": "1.2.0",
            "_view_name": "LayoutView",
            "align_content": null,
            "align_items": null,
            "align_self": null,
            "border": null,
            "bottom": null,
            "display": null,
            "flex": null,
            "flex_flow": null,
            "grid_area": null,
            "grid_auto_columns": null,
            "grid_auto_flow": null,
            "grid_auto_rows": null,
            "grid_column": null,
            "grid_gap": null,
            "grid_row": null,
            "grid_template_areas": null,
            "grid_template_columns": null,
            "grid_template_rows": null,
            "height": null,
            "justify_content": null,
            "justify_items": null,
            "left": null,
            "margin": null,
            "max_height": null,
            "max_width": null,
            "min_height": null,
            "min_width": null,
            "object_fit": null,
            "object_position": null,
            "order": null,
            "overflow": null,
            "overflow_x": null,
            "overflow_y": null,
            "padding": null,
            "right": null,
            "top": null,
            "visibility": null,
            "width": null
          }
        },
        "a5c25b9800f1489ab78bb982e8ca0fd3": {
          "model_module": "@jupyter-widgets/controls",
          "model_name": "DescriptionStyleModel",
          "state": {
            "_model_module": "@jupyter-widgets/controls",
            "_model_module_version": "1.5.0",
            "_model_name": "DescriptionStyleModel",
            "_view_count": null,
            "_view_module": "@jupyter-widgets/base",
            "_view_module_version": "1.2.0",
            "_view_name": "StyleView",
            "description_width": ""
          }
        },
        "3e1fd7ff6046419499fd1abc0565b86e": {
          "model_module": "@jupyter-widgets/controls",
          "model_name": "HBoxModel",
          "state": {
            "_dom_classes": [],
            "_model_module": "@jupyter-widgets/controls",
            "_model_module_version": "1.5.0",
            "_model_name": "HBoxModel",
            "_view_count": null,
            "_view_module": "@jupyter-widgets/controls",
            "_view_module_version": "1.5.0",
            "_view_name": "HBoxView",
            "box_style": "",
            "children": [
              "IPY_MODEL_abcef653eaa04a8aaa9e30a858894340",
              "IPY_MODEL_c7758aef66b844edb45330e8fa530e01"
            ],
            "layout": "IPY_MODEL_2f56e2292cfb4b86abd9999e739bc5f8"
          }
        },
        "abcef653eaa04a8aaa9e30a858894340": {
          "model_module": "@jupyter-widgets/controls",
          "model_name": "FloatProgressModel",
          "state": {
            "_dom_classes": [],
            "_model_module": "@jupyter-widgets/controls",
            "_model_module_version": "1.5.0",
            "_model_name": "FloatProgressModel",
            "_view_count": null,
            "_view_module": "@jupyter-widgets/controls",
            "_view_module_version": "1.5.0",
            "_view_name": "ProgressView",
            "bar_style": "success",
            "description": "Downloading: 100%",
            "description_tooltip": null,
            "layout": "IPY_MODEL_64ae7230aa9549fa91b127ed541bdfee",
            "max": 570,
            "min": 0,
            "orientation": "horizontal",
            "style": "IPY_MODEL_0f7b9ede86414e9d835b148040cca324",
            "value": 570
          }
        },
        "c7758aef66b844edb45330e8fa530e01": {
          "model_module": "@jupyter-widgets/controls",
          "model_name": "HTMLModel",
          "state": {
            "_dom_classes": [],
            "_model_module": "@jupyter-widgets/controls",
            "_model_module_version": "1.5.0",
            "_model_name": "HTMLModel",
            "_view_count": null,
            "_view_module": "@jupyter-widgets/controls",
            "_view_module_version": "1.5.0",
            "_view_name": "HTMLView",
            "description": "",
            "description_tooltip": null,
            "layout": "IPY_MODEL_baaf7ba5459447d0918313e5492323ea",
            "placeholder": "​",
            "style": "IPY_MODEL_952b1709eea04ff39f679b75ceaf7a1f",
            "value": " 570/570 [00:00&lt;00:00, 5.50kB/s]"
          }
        },
        "2f56e2292cfb4b86abd9999e739bc5f8": {
          "model_module": "@jupyter-widgets/base",
          "model_name": "LayoutModel",
          "state": {
            "_model_module": "@jupyter-widgets/base",
            "_model_module_version": "1.2.0",
            "_model_name": "LayoutModel",
            "_view_count": null,
            "_view_module": "@jupyter-widgets/base",
            "_view_module_version": "1.2.0",
            "_view_name": "LayoutView",
            "align_content": null,
            "align_items": null,
            "align_self": null,
            "border": null,
            "bottom": null,
            "display": null,
            "flex": null,
            "flex_flow": null,
            "grid_area": null,
            "grid_auto_columns": null,
            "grid_auto_flow": null,
            "grid_auto_rows": null,
            "grid_column": null,
            "grid_gap": null,
            "grid_row": null,
            "grid_template_areas": null,
            "grid_template_columns": null,
            "grid_template_rows": null,
            "height": null,
            "justify_content": null,
            "justify_items": null,
            "left": null,
            "margin": null,
            "max_height": null,
            "max_width": null,
            "min_height": null,
            "min_width": null,
            "object_fit": null,
            "object_position": null,
            "order": null,
            "overflow": null,
            "overflow_x": null,
            "overflow_y": null,
            "padding": null,
            "right": null,
            "top": null,
            "visibility": null,
            "width": null
          }
        },
        "64ae7230aa9549fa91b127ed541bdfee": {
          "model_module": "@jupyter-widgets/base",
          "model_name": "LayoutModel",
          "state": {
            "_model_module": "@jupyter-widgets/base",
            "_model_module_version": "1.2.0",
            "_model_name": "LayoutModel",
            "_view_count": null,
            "_view_module": "@jupyter-widgets/base",
            "_view_module_version": "1.2.0",
            "_view_name": "LayoutView",
            "align_content": null,
            "align_items": null,
            "align_self": null,
            "border": null,
            "bottom": null,
            "display": null,
            "flex": null,
            "flex_flow": null,
            "grid_area": null,
            "grid_auto_columns": null,
            "grid_auto_flow": null,
            "grid_auto_rows": null,
            "grid_column": null,
            "grid_gap": null,
            "grid_row": null,
            "grid_template_areas": null,
            "grid_template_columns": null,
            "grid_template_rows": null,
            "height": null,
            "justify_content": null,
            "justify_items": null,
            "left": null,
            "margin": null,
            "max_height": null,
            "max_width": null,
            "min_height": null,
            "min_width": null,
            "object_fit": null,
            "object_position": null,
            "order": null,
            "overflow": null,
            "overflow_x": null,
            "overflow_y": null,
            "padding": null,
            "right": null,
            "top": null,
            "visibility": null,
            "width": null
          }
        },
        "0f7b9ede86414e9d835b148040cca324": {
          "model_module": "@jupyter-widgets/controls",
          "model_name": "ProgressStyleModel",
          "state": {
            "_model_module": "@jupyter-widgets/controls",
            "_model_module_version": "1.5.0",
            "_model_name": "ProgressStyleModel",
            "_view_count": null,
            "_view_module": "@jupyter-widgets/base",
            "_view_module_version": "1.2.0",
            "_view_name": "StyleView",
            "bar_color": null,
            "description_width": "initial"
          }
        },
        "baaf7ba5459447d0918313e5492323ea": {
          "model_module": "@jupyter-widgets/base",
          "model_name": "LayoutModel",
          "state": {
            "_model_module": "@jupyter-widgets/base",
            "_model_module_version": "1.2.0",
            "_model_name": "LayoutModel",
            "_view_count": null,
            "_view_module": "@jupyter-widgets/base",
            "_view_module_version": "1.2.0",
            "_view_name": "LayoutView",
            "align_content": null,
            "align_items": null,
            "align_self": null,
            "border": null,
            "bottom": null,
            "display": null,
            "flex": null,
            "flex_flow": null,
            "grid_area": null,
            "grid_auto_columns": null,
            "grid_auto_flow": null,
            "grid_auto_rows": null,
            "grid_column": null,
            "grid_gap": null,
            "grid_row": null,
            "grid_template_areas": null,
            "grid_template_columns": null,
            "grid_template_rows": null,
            "height": null,
            "justify_content": null,
            "justify_items": null,
            "left": null,
            "margin": null,
            "max_height": null,
            "max_width": null,
            "min_height": null,
            "min_width": null,
            "object_fit": null,
            "object_position": null,
            "order": null,
            "overflow": null,
            "overflow_x": null,
            "overflow_y": null,
            "padding": null,
            "right": null,
            "top": null,
            "visibility": null,
            "width": null
          }
        },
        "952b1709eea04ff39f679b75ceaf7a1f": {
          "model_module": "@jupyter-widgets/controls",
          "model_name": "DescriptionStyleModel",
          "state": {
            "_model_module": "@jupyter-widgets/controls",
            "_model_module_version": "1.5.0",
            "_model_name": "DescriptionStyleModel",
            "_view_count": null,
            "_view_module": "@jupyter-widgets/base",
            "_view_module_version": "1.2.0",
            "_view_name": "StyleView",
            "description_width": ""
          }
        },
        "cc6a3e3f672248f8a724956531e819ea": {
          "model_module": "@jupyter-widgets/controls",
          "model_name": "HBoxModel",
          "state": {
            "_dom_classes": [],
            "_model_module": "@jupyter-widgets/controls",
            "_model_module_version": "1.5.0",
            "_model_name": "HBoxModel",
            "_view_count": null,
            "_view_module": "@jupyter-widgets/controls",
            "_view_module_version": "1.5.0",
            "_view_name": "HBoxView",
            "box_style": "",
            "children": [
              "IPY_MODEL_a917973d2b3d49a08c42e34620ff3232",
              "IPY_MODEL_d7922bf21b004ec4a5562feaf76efb62"
            ],
            "layout": "IPY_MODEL_98386165e3eb4f8d924e7f57b79cfa01"
          }
        },
        "a917973d2b3d49a08c42e34620ff3232": {
          "model_module": "@jupyter-widgets/controls",
          "model_name": "FloatProgressModel",
          "state": {
            "_dom_classes": [],
            "_model_module": "@jupyter-widgets/controls",
            "_model_module_version": "1.5.0",
            "_model_name": "FloatProgressModel",
            "_view_count": null,
            "_view_module": "@jupyter-widgets/controls",
            "_view_module_version": "1.5.0",
            "_view_name": "ProgressView",
            "bar_style": "success",
            "description": "Downloading: 100%",
            "description_tooltip": null,
            "layout": "IPY_MODEL_1666b1d2508d4a13a7f9677f2489273f",
            "max": 440473133,
            "min": 0,
            "orientation": "horizontal",
            "style": "IPY_MODEL_6825e607869a43faaf8dd31f5881c3b7",
            "value": 440473133
          }
        },
        "d7922bf21b004ec4a5562feaf76efb62": {
          "model_module": "@jupyter-widgets/controls",
          "model_name": "HTMLModel",
          "state": {
            "_dom_classes": [],
            "_model_module": "@jupyter-widgets/controls",
            "_model_module_version": "1.5.0",
            "_model_name": "HTMLModel",
            "_view_count": null,
            "_view_module": "@jupyter-widgets/controls",
            "_view_module_version": "1.5.0",
            "_view_name": "HTMLView",
            "description": "",
            "description_tooltip": null,
            "layout": "IPY_MODEL_7c88c87c01b54c78a476dc6a046a0cf8",
            "placeholder": "​",
            "style": "IPY_MODEL_d2050a86ad244cb58448ecc0bedfa00e",
            "value": " 440M/440M [00:14&lt;00:00, 29.9MB/s]"
          }
        },
        "98386165e3eb4f8d924e7f57b79cfa01": {
          "model_module": "@jupyter-widgets/base",
          "model_name": "LayoutModel",
          "state": {
            "_model_module": "@jupyter-widgets/base",
            "_model_module_version": "1.2.0",
            "_model_name": "LayoutModel",
            "_view_count": null,
            "_view_module": "@jupyter-widgets/base",
            "_view_module_version": "1.2.0",
            "_view_name": "LayoutView",
            "align_content": null,
            "align_items": null,
            "align_self": null,
            "border": null,
            "bottom": null,
            "display": null,
            "flex": null,
            "flex_flow": null,
            "grid_area": null,
            "grid_auto_columns": null,
            "grid_auto_flow": null,
            "grid_auto_rows": null,
            "grid_column": null,
            "grid_gap": null,
            "grid_row": null,
            "grid_template_areas": null,
            "grid_template_columns": null,
            "grid_template_rows": null,
            "height": null,
            "justify_content": null,
            "justify_items": null,
            "left": null,
            "margin": null,
            "max_height": null,
            "max_width": null,
            "min_height": null,
            "min_width": null,
            "object_fit": null,
            "object_position": null,
            "order": null,
            "overflow": null,
            "overflow_x": null,
            "overflow_y": null,
            "padding": null,
            "right": null,
            "top": null,
            "visibility": null,
            "width": null
          }
        },
        "1666b1d2508d4a13a7f9677f2489273f": {
          "model_module": "@jupyter-widgets/base",
          "model_name": "LayoutModel",
          "state": {
            "_model_module": "@jupyter-widgets/base",
            "_model_module_version": "1.2.0",
            "_model_name": "LayoutModel",
            "_view_count": null,
            "_view_module": "@jupyter-widgets/base",
            "_view_module_version": "1.2.0",
            "_view_name": "LayoutView",
            "align_content": null,
            "align_items": null,
            "align_self": null,
            "border": null,
            "bottom": null,
            "display": null,
            "flex": null,
            "flex_flow": null,
            "grid_area": null,
            "grid_auto_columns": null,
            "grid_auto_flow": null,
            "grid_auto_rows": null,
            "grid_column": null,
            "grid_gap": null,
            "grid_row": null,
            "grid_template_areas": null,
            "grid_template_columns": null,
            "grid_template_rows": null,
            "height": null,
            "justify_content": null,
            "justify_items": null,
            "left": null,
            "margin": null,
            "max_height": null,
            "max_width": null,
            "min_height": null,
            "min_width": null,
            "object_fit": null,
            "object_position": null,
            "order": null,
            "overflow": null,
            "overflow_x": null,
            "overflow_y": null,
            "padding": null,
            "right": null,
            "top": null,
            "visibility": null,
            "width": null
          }
        },
        "6825e607869a43faaf8dd31f5881c3b7": {
          "model_module": "@jupyter-widgets/controls",
          "model_name": "ProgressStyleModel",
          "state": {
            "_model_module": "@jupyter-widgets/controls",
            "_model_module_version": "1.5.0",
            "_model_name": "ProgressStyleModel",
            "_view_count": null,
            "_view_module": "@jupyter-widgets/base",
            "_view_module_version": "1.2.0",
            "_view_name": "StyleView",
            "bar_color": null,
            "description_width": "initial"
          }
        },
        "7c88c87c01b54c78a476dc6a046a0cf8": {
          "model_module": "@jupyter-widgets/base",
          "model_name": "LayoutModel",
          "state": {
            "_model_module": "@jupyter-widgets/base",
            "_model_module_version": "1.2.0",
            "_model_name": "LayoutModel",
            "_view_count": null,
            "_view_module": "@jupyter-widgets/base",
            "_view_module_version": "1.2.0",
            "_view_name": "LayoutView",
            "align_content": null,
            "align_items": null,
            "align_self": null,
            "border": null,
            "bottom": null,
            "display": null,
            "flex": null,
            "flex_flow": null,
            "grid_area": null,
            "grid_auto_columns": null,
            "grid_auto_flow": null,
            "grid_auto_rows": null,
            "grid_column": null,
            "grid_gap": null,
            "grid_row": null,
            "grid_template_areas": null,
            "grid_template_columns": null,
            "grid_template_rows": null,
            "height": null,
            "justify_content": null,
            "justify_items": null,
            "left": null,
            "margin": null,
            "max_height": null,
            "max_width": null,
            "min_height": null,
            "min_width": null,
            "object_fit": null,
            "object_position": null,
            "order": null,
            "overflow": null,
            "overflow_x": null,
            "overflow_y": null,
            "padding": null,
            "right": null,
            "top": null,
            "visibility": null,
            "width": null
          }
        },
        "d2050a86ad244cb58448ecc0bedfa00e": {
          "model_module": "@jupyter-widgets/controls",
          "model_name": "DescriptionStyleModel",
          "state": {
            "_model_module": "@jupyter-widgets/controls",
            "_model_module_version": "1.5.0",
            "_model_name": "DescriptionStyleModel",
            "_view_count": null,
            "_view_module": "@jupyter-widgets/base",
            "_view_module_version": "1.2.0",
            "_view_name": "StyleView",
            "description_width": ""
          }
        }
      }
    }
  },
  "cells": [
    {
      "cell_type": "code",
      "metadata": {
        "colab": {
          "base_uri": "https://localhost:8080/"
        },
        "id": "u1kKYLC_PA6M",
        "outputId": "95bf920b-427a-491b-ba77-1c8b55fc40e1"
      },
      "source": [
        "import pandas as pd\n",
        "import numpy as np\n",
        "from sklearn.ensemble import RandomForestClassifier\n",
        "from sklearn.datasets import make_classification\n",
        "from sklearn.metrics import accuracy_score\n",
        "from sklearn.model_selection import train_test_split\n",
        "from sklearn.metrics import mean_squared_error\n",
        "from sklearn.feature_extraction.text import CountVectorizer\n",
        "from sklearn.feature_extraction.text import TfidfTransformer\n",
        "from xgboost import XGBClassifier\n",
        "from sklearn.model_selection import train_test_split\n",
        "from sklearn.metrics import accuracy_score\n",
        "from sklearn.feature_extraction.text import TfidfVectorizer\n",
        "from sklearn.metrics import roc_auc_score \n",
        "from sklearn.model_selection import KFold\n",
        "from sklearn.metrics import f1_score\n",
        "from sklearn.metrics import confusion_matrix\n",
        "%pip install transformers\n",
        "from transformers import BertTokenizer, BertModel, BertForPreTraining\n",
        "from sklearn.ensemble import AdaBoostClassifier\n",
        "from sklearn.ensemble import GradientBoostingClassifier"
      ],
      "execution_count": null,
      "outputs": [
        {
          "output_type": "stream",
          "text": [
            "Requirement already satisfied: transformers in /usr/local/lib/python3.7/dist-packages (4.5.1)\n",
            "Requirement already satisfied: requests in /usr/local/lib/python3.7/dist-packages (from transformers) (2.23.0)\n",
            "Requirement already satisfied: tokenizers<0.11,>=0.10.1 in /usr/local/lib/python3.7/dist-packages (from transformers) (0.10.2)\n",
            "Requirement already satisfied: regex!=2019.12.17 in /usr/local/lib/python3.7/dist-packages (from transformers) (2019.12.20)\n",
            "Requirement already satisfied: numpy>=1.17 in /usr/local/lib/python3.7/dist-packages (from transformers) (1.19.5)\n",
            "Requirement already satisfied: importlib-metadata; python_version < \"3.8\" in /usr/local/lib/python3.7/dist-packages (from transformers) (3.10.1)\n",
            "Requirement already satisfied: sacremoses in /usr/local/lib/python3.7/dist-packages (from transformers) (0.0.45)\n",
            "Requirement already satisfied: packaging in /usr/local/lib/python3.7/dist-packages (from transformers) (20.9)\n",
            "Requirement already satisfied: filelock in /usr/local/lib/python3.7/dist-packages (from transformers) (3.0.12)\n",
            "Requirement already satisfied: tqdm>=4.27 in /usr/local/lib/python3.7/dist-packages (from transformers) (4.41.1)\n",
            "Requirement already satisfied: chardet<4,>=3.0.2 in /usr/local/lib/python3.7/dist-packages (from requests->transformers) (3.0.4)\n",
            "Requirement already satisfied: certifi>=2017.4.17 in /usr/local/lib/python3.7/dist-packages (from requests->transformers) (2020.12.5)\n",
            "Requirement already satisfied: idna<3,>=2.5 in /usr/local/lib/python3.7/dist-packages (from requests->transformers) (2.10)\n",
            "Requirement already satisfied: urllib3!=1.25.0,!=1.25.1,<1.26,>=1.21.1 in /usr/local/lib/python3.7/dist-packages (from requests->transformers) (1.24.3)\n",
            "Requirement already satisfied: typing-extensions>=3.6.4; python_version < \"3.8\" in /usr/local/lib/python3.7/dist-packages (from importlib-metadata; python_version < \"3.8\"->transformers) (3.7.4.3)\n",
            "Requirement already satisfied: zipp>=0.5 in /usr/local/lib/python3.7/dist-packages (from importlib-metadata; python_version < \"3.8\"->transformers) (3.4.1)\n",
            "Requirement already satisfied: joblib in /usr/local/lib/python3.7/dist-packages (from sacremoses->transformers) (1.0.1)\n",
            "Requirement already satisfied: click in /usr/local/lib/python3.7/dist-packages (from sacremoses->transformers) (7.1.2)\n",
            "Requirement already satisfied: six in /usr/local/lib/python3.7/dist-packages (from sacremoses->transformers) (1.15.0)\n",
            "Requirement already satisfied: pyparsing>=2.0.2 in /usr/local/lib/python3.7/dist-packages (from packaging->transformers) (2.4.7)\n"
          ],
          "name": "stdout"
        }
      ]
    },
    {
      "cell_type": "markdown",
      "metadata": {
        "id": "JxgzcpHMvERG"
      },
      "source": [
        "Import Data"
      ]
    },
    {
      "cell_type": "code",
      "metadata": {
        "colab": {
          "base_uri": "https://localhost:8080/",
          "height": 1000
        },
        "id": "HcwmSRUUyYuI",
        "outputId": "fb492b9d-9e77-434c-f56b-c237410ae45c"
      },
      "source": [
        "hope_list = pd.read_csv('https://raw.githubusercontent.com/jpc45/Amazon/main/hope_list.txt', header = None)\n",
        "\n",
        "tweets= pd.read_csv('https://raw.githubusercontent.com/jpc45/Amazon/main/dataset1.csv')\n",
        "tweets = tweets.drop(columns = ['Unnamed: 14'])\n",
        "presence = tweets[(tweets['Presence/Absence'] == 1)]\n",
        "extra_sample = presence.sample(n=28, random_state =1234)\n",
        "tweets = tweets.append(extra_sample)\n",
        "\n",
        "test_data = pd.read_csv('https://raw.githubusercontent.com/jpc45/Amazon/main/environmental%20tweets.csv')\n",
        "test_data = test_data.drop(columns = ['Unnamed: 13'])\n",
        "test_data = test_data.sample(n=230, random_state= 1234) #same as labeled\n",
        "test_data['Fake_Label'] = 1\n",
        "test_data.head()\n",
        "\n",
        "prediction_df = pd.read_csv('https://raw.githubusercontent.com/jpc45/DS440_3a/main/environmental20tweets_BERTPredictions.csv')\n",
        "prediction_df"
      ],
      "execution_count": null,
      "outputs": [
        {
          "output_type": "execute_result",
          "data": {
            "text/html": [
              "<div>\n",
              "<style scoped>\n",
              "    .dataframe tbody tr th:only-of-type {\n",
              "        vertical-align: middle;\n",
              "    }\n",
              "\n",
              "    .dataframe tbody tr th {\n",
              "        vertical-align: top;\n",
              "    }\n",
              "\n",
              "    .dataframe thead th {\n",
              "        text-align: right;\n",
              "    }\n",
              "</style>\n",
              "<table border=\"1\" class=\"dataframe\">\n",
              "  <thead>\n",
              "    <tr style=\"text-align: right;\">\n",
              "      <th></th>\n",
              "      <th>Unnamed: 0</th>\n",
              "      <th>Org name</th>\n",
              "      <th>Org type</th>\n",
              "      <th>Forbes rank</th>\n",
              "      <th>CSR rank</th>\n",
              "      <th>Sector</th>\n",
              "      <th>Text</th>\n",
              "      <th>tweet_type</th>\n",
              "      <th>CODED_hashtags</th>\n",
              "      <th>CODED_media</th>\n",
              "      <th>CODED_urls</th>\n",
              "      <th>favorite_count</th>\n",
              "      <th>retweet_count</th>\n",
              "      <th>Date</th>\n",
              "      <th>Fake_Label</th>\n",
              "      <th>Presence/Absence</th>\n",
              "      <th>Manual</th>\n",
              "    </tr>\n",
              "  </thead>\n",
              "  <tbody>\n",
              "    <tr>\n",
              "      <th>0</th>\n",
              "      <td>25457</td>\n",
              "      <td>Viacom</td>\n",
              "      <td>profit</td>\n",
              "      <td>248</td>\n",
              "      <td>53</td>\n",
              "      <td>Media</td>\n",
              "      <td>.@VirtualTedS showcases ViacomXR and @awesomen...</td>\n",
              "      <td>original</td>\n",
              "      <td>1</td>\n",
              "      <td>1</td>\n",
              "      <td>0</td>\n",
              "      <td>19</td>\n",
              "      <td>11</td>\n",
              "      <td>7/11/19</td>\n",
              "      <td>1</td>\n",
              "      <td>0</td>\n",
              "      <td>0</td>\n",
              "    </tr>\n",
              "    <tr>\n",
              "      <th>1</th>\n",
              "      <td>52414</td>\n",
              "      <td>AbbVie</td>\n",
              "      <td>profit</td>\n",
              "      <td>96</td>\n",
              "      <td>61</td>\n",
              "      <td>Healthcare</td>\n",
              "      <td>We continue to invest in our pipeline to devel...</td>\n",
              "      <td>original</td>\n",
              "      <td>0</td>\n",
              "      <td>1</td>\n",
              "      <td>1</td>\n",
              "      <td>3</td>\n",
              "      <td>2</td>\n",
              "      <td>7/26/19</td>\n",
              "      <td>1</td>\n",
              "      <td>0</td>\n",
              "      <td>1</td>\n",
              "    </tr>\n",
              "    <tr>\n",
              "      <th>2</th>\n",
              "      <td>27378</td>\n",
              "      <td>Huntsman</td>\n",
              "      <td>profit</td>\n",
              "      <td>276</td>\n",
              "      <td>51</td>\n",
              "      <td>Chemicals</td>\n",
              "      <td>#Huntsman unveiled Araldite¬Æ 2050 and Araldit...</td>\n",
              "      <td>original</td>\n",
              "      <td>1</td>\n",
              "      <td>1</td>\n",
              "      <td>0</td>\n",
              "      <td>9</td>\n",
              "      <td>3</td>\n",
              "      <td>4/17/19</td>\n",
              "      <td>1</td>\n",
              "      <td>0</td>\n",
              "      <td>1</td>\n",
              "    </tr>\n",
              "    <tr>\n",
              "      <th>3</th>\n",
              "      <td>42166</td>\n",
              "      <td>Alleghany</td>\n",
              "      <td>profit</td>\n",
              "      <td>437</td>\n",
              "      <td>46</td>\n",
              "      <td>Financials</td>\n",
              "      <td>The eastbound lane of Pineview Drive in Elizab...</td>\n",
              "      <td>original</td>\n",
              "      <td>0</td>\n",
              "      <td>1</td>\n",
              "      <td>1</td>\n",
              "      <td>3</td>\n",
              "      <td>1</td>\n",
              "      <td>4/24/19</td>\n",
              "      <td>1</td>\n",
              "      <td>0</td>\n",
              "      <td>0</td>\n",
              "    </tr>\n",
              "    <tr>\n",
              "      <th>4</th>\n",
              "      <td>14326</td>\n",
              "      <td>Qualcomm</td>\n",
              "      <td>profit</td>\n",
              "      <td>137</td>\n",
              "      <td>57</td>\n",
              "      <td>Technology</td>\n",
              "      <td>The #Snapdragon 855-powered #GalaxyS10 5G from...</td>\n",
              "      <td>original</td>\n",
              "      <td>1</td>\n",
              "      <td>1</td>\n",
              "      <td>1</td>\n",
              "      <td>52</td>\n",
              "      <td>11</td>\n",
              "      <td>3/5/19</td>\n",
              "      <td>1</td>\n",
              "      <td>0</td>\n",
              "      <td>0</td>\n",
              "    </tr>\n",
              "    <tr>\n",
              "      <th>...</th>\n",
              "      <td>...</td>\n",
              "      <td>...</td>\n",
              "      <td>...</td>\n",
              "      <td>...</td>\n",
              "      <td>...</td>\n",
              "      <td>...</td>\n",
              "      <td>...</td>\n",
              "      <td>...</td>\n",
              "      <td>...</td>\n",
              "      <td>...</td>\n",
              "      <td>...</td>\n",
              "      <td>...</td>\n",
              "      <td>...</td>\n",
              "      <td>...</td>\n",
              "      <td>...</td>\n",
              "      <td>...</td>\n",
              "      <td>...</td>\n",
              "    </tr>\n",
              "    <tr>\n",
              "      <th>225</th>\n",
              "      <td>15265</td>\n",
              "      <td>Broadcom</td>\n",
              "      <td>profit</td>\n",
              "      <td>150</td>\n",
              "      <td>47</td>\n",
              "      <td>Technology</td>\n",
              "      <td>The Broadcom¬Æ BCM15000 (BCM15K) knowledge-bas...</td>\n",
              "      <td>original</td>\n",
              "      <td>0</td>\n",
              "      <td>0</td>\n",
              "      <td>1</td>\n",
              "      <td>5</td>\n",
              "      <td>1</td>\n",
              "      <td>3/27/19</td>\n",
              "      <td>1</td>\n",
              "      <td>0</td>\n",
              "      <td>0</td>\n",
              "    </tr>\n",
              "    <tr>\n",
              "      <th>226</th>\n",
              "      <td>11342</td>\n",
              "      <td>Northwestern Mutual</td>\n",
              "      <td>profit</td>\n",
              "      <td>111</td>\n",
              "      <td>61</td>\n",
              "      <td>Financials</td>\n",
              "      <td>This Women‚Äôs History Month, we asked a few o...</td>\n",
              "      <td>original</td>\n",
              "      <td>0</td>\n",
              "      <td>0</td>\n",
              "      <td>1</td>\n",
              "      <td>2</td>\n",
              "      <td>0</td>\n",
              "      <td>3/29/19</td>\n",
              "      <td>1</td>\n",
              "      <td>0</td>\n",
              "      <td>1</td>\n",
              "    </tr>\n",
              "    <tr>\n",
              "      <th>227</th>\n",
              "      <td>28727</td>\n",
              "      <td>Lam Research</td>\n",
              "      <td>profit</td>\n",
              "      <td>287</td>\n",
              "      <td>54</td>\n",
              "      <td>Technology</td>\n",
              "      <td>Ensuring everyone feels comfortable at work is...</td>\n",
              "      <td>original</td>\n",
              "      <td>1</td>\n",
              "      <td>1</td>\n",
              "      <td>0</td>\n",
              "      <td>4</td>\n",
              "      <td>2</td>\n",
              "      <td>7/9/19</td>\n",
              "      <td>1</td>\n",
              "      <td>0</td>\n",
              "      <td>0</td>\n",
              "    </tr>\n",
              "    <tr>\n",
              "      <th>228</th>\n",
              "      <td>18158</td>\n",
              "      <td>American Electric Power</td>\n",
              "      <td>profit</td>\n",
              "      <td>192</td>\n",
              "      <td>55</td>\n",
              "      <td>Energy</td>\n",
              "      <td>A strong weather system blew across our Va and...</td>\n",
              "      <td>original</td>\n",
              "      <td>0</td>\n",
              "      <td>1</td>\n",
              "      <td>0</td>\n",
              "      <td>0</td>\n",
              "      <td>0</td>\n",
              "      <td>11/1/19</td>\n",
              "      <td>1</td>\n",
              "      <td>0</td>\n",
              "      <td>0</td>\n",
              "    </tr>\n",
              "    <tr>\n",
              "      <th>229</th>\n",
              "      <td>32270</td>\n",
              "      <td>Citigroup</td>\n",
              "      <td>profit</td>\n",
              "      <td>30</td>\n",
              "      <td>61</td>\n",
              "      <td>Financials</td>\n",
              "      <td>The holiday season kicks off on Thursday, Nove...</td>\n",
              "      <td>original</td>\n",
              "      <td>1</td>\n",
              "      <td>1</td>\n",
              "      <td>1</td>\n",
              "      <td>10</td>\n",
              "      <td>1</td>\n",
              "      <td>11/15/19</td>\n",
              "      <td>1</td>\n",
              "      <td>0</td>\n",
              "      <td>0</td>\n",
              "    </tr>\n",
              "  </tbody>\n",
              "</table>\n",
              "<p>230 rows × 17 columns</p>\n",
              "</div>"
            ],
            "text/plain": [
              "     Unnamed: 0                 Org name  ... Presence/Absence  Manual\n",
              "0         25457                   Viacom  ...                0       0\n",
              "1         52414                   AbbVie  ...                0       1\n",
              "2         27378                 Huntsman  ...                0       1\n",
              "3         42166                Alleghany  ...                0       0\n",
              "4         14326                 Qualcomm  ...                0       0\n",
              "..          ...                      ...  ...              ...     ...\n",
              "225       15265                 Broadcom  ...                0       0\n",
              "226       11342      Northwestern Mutual  ...                0       1\n",
              "227       28727             Lam Research  ...                0       0\n",
              "228       18158  American Electric Power  ...                0       0\n",
              "229       32270                Citigroup  ...                0       0\n",
              "\n",
              "[230 rows x 17 columns]"
            ]
          },
          "metadata": {
            "tags": []
          },
          "execution_count": 3
        }
      ]
    },
    {
      "cell_type": "markdown",
      "metadata": {
        "id": "7ijS0PfFvGDI"
      },
      "source": [
        "Hope Count Feature"
      ]
    },
    {
      "cell_type": "code",
      "metadata": {
        "colab": {
          "base_uri": "https://localhost:8080/"
        },
        "id": "IqqpYj_d_q3R",
        "outputId": "12f9c904-d3e2-4884-e2af-307e0097a7d8"
      },
      "source": [
        "h_list = hope_list[0].tolist()\n",
        "print(h_list)\n",
        "text = ['tweet']\n",
        "def hope_count(csv,h_list):\n",
        "  csv['Hope_Count'] = 0\n",
        "  for x in range(0,len(csv)):\n",
        "    counter = 0\n",
        "    split = csv['Text'].iloc[x].split()\n",
        "    for y in split:\n",
        "      for z in h_list:\n",
        "        if(y == z):\n",
        "          counter+=1\n",
        "    csv['Hope_Count'].iloc[x] = counter"
      ],
      "execution_count": null,
      "outputs": [
        {
          "output_type": "stream",
          "text": [
            "['achievement', 'ambition', 'anticipation', 'aspiration', 'belief', 'concern', 'confidence', 'desire', 'expectation', 'faith', 'goal', 'optimism', 'promise', 'prospect', 'wish', 'assumption', 'buoyancy', 'daydream', 'dependence', 'endurance', 'expectancy', 'fancy', 'fortune', 'gain', 'hopefulness', 'reliance', 'reverie', 'reward', 'rosiness', 'sanguineness', 'security', 'stock', 'utopia', 'largest', 'biggest', 'best', 'better', 'power', 'capability', 'capacity', 'function', 'influence', 'potential', 'skill', 'talent', 'advance', 'age', 'become', 'breed', 'build', 'come', 'cultivate', 'develop', 'expand', 'flourish', 'gain', 'increase', 'mature', 'multiply', 'produce', 'raise', 'rise', 'spread', 'sprout', 'swell', 'thrive', 'turn', 'widen']\n"
          ],
          "name": "stdout"
        }
      ]
    },
    {
      "cell_type": "markdown",
      "metadata": {
        "id": "CaIZEiRxvBDf"
      },
      "source": [
        "Text Processing"
      ]
    },
    {
      "cell_type": "code",
      "metadata": {
        "id": "V8SSeXrJPGgq"
      },
      "source": [
        "import re\n",
        "\n",
        "# remove special characters and empty spaces in order to have a clean dataset\n",
        "def processing(tweet, length):\n",
        "  processed_tweets = []\n",
        "  for x in range(0, length):  \n",
        "      # Remove all the special characters\n",
        "      processed_tweet = re.sub(r'\\W', ' ', str(tweet.iloc[x]))\n",
        "  \n",
        "      # remove all single characters\n",
        "      processed_tweet = re.sub(r'\\s+[a-zA-Z]\\s+', ' ', processed_tweet)\n",
        "  \n",
        "      # Remove single characters from the start\n",
        "      processed_tweet = re.sub(r'\\^[a-zA-Z]\\s+', ' ', processed_tweet) \n",
        "  \n",
        "      # Substituting multiple spaces with single space\n",
        "      processed_tweet= re.sub(r'\\s+', ' ', processed_tweet, flags=re.I)\n",
        "  \n",
        "      # Removing prefixed 'b'\n",
        "      processed_tweet = re.sub(r'^b\\s+', '', processed_tweet)\n",
        "  \n",
        "      # Converting to Lowercase\n",
        "      processed_tweet = processed_tweet.lower()\n",
        "  \n",
        "      processed_tweets.append(processed_tweet)\n",
        "  return processed_tweets"
      ],
      "execution_count": null,
      "outputs": []
    },
    {
      "cell_type": "code",
      "metadata": {
        "colab": {
          "base_uri": "https://localhost:8080/"
        },
        "id": "bZvggGf7PkuS",
        "outputId": "4e455f12-d41b-4122-c7b9-08aeedda19e6"
      },
      "source": [
        "import nltk\n",
        "nltk.download('stopwords')\n",
        "from nltk.corpus import stopwords\n",
        "stopwords=stopwords.words('english')\n",
        "print(stopwords)"
      ],
      "execution_count": null,
      "outputs": [
        {
          "output_type": "stream",
          "text": [
            "[nltk_data] Downloading package stopwords to /root/nltk_data...\n",
            "[nltk_data]   Unzipping corpora/stopwords.zip.\n",
            "['i', 'me', 'my', 'myself', 'we', 'our', 'ours', 'ourselves', 'you', \"you're\", \"you've\", \"you'll\", \"you'd\", 'your', 'yours', 'yourself', 'yourselves', 'he', 'him', 'his', 'himself', 'she', \"she's\", 'her', 'hers', 'herself', 'it', \"it's\", 'its', 'itself', 'they', 'them', 'their', 'theirs', 'themselves', 'what', 'which', 'who', 'whom', 'this', 'that', \"that'll\", 'these', 'those', 'am', 'is', 'are', 'was', 'were', 'be', 'been', 'being', 'have', 'has', 'had', 'having', 'do', 'does', 'did', 'doing', 'a', 'an', 'the', 'and', 'but', 'if', 'or', 'because', 'as', 'until', 'while', 'of', 'at', 'by', 'for', 'with', 'about', 'against', 'between', 'into', 'through', 'during', 'before', 'after', 'above', 'below', 'to', 'from', 'up', 'down', 'in', 'out', 'on', 'off', 'over', 'under', 'again', 'further', 'then', 'once', 'here', 'there', 'when', 'where', 'why', 'how', 'all', 'any', 'both', 'each', 'few', 'more', 'most', 'other', 'some', 'such', 'no', 'nor', 'not', 'only', 'own', 'same', 'so', 'than', 'too', 'very', 's', 't', 'can', 'will', 'just', 'don', \"don't\", 'should', \"should've\", 'now', 'd', 'll', 'm', 'o', 're', 've', 'y', 'ain', 'aren', \"aren't\", 'couldn', \"couldn't\", 'didn', \"didn't\", 'doesn', \"doesn't\", 'hadn', \"hadn't\", 'hasn', \"hasn't\", 'haven', \"haven't\", 'isn', \"isn't\", 'ma', 'mightn', \"mightn't\", 'mustn', \"mustn't\", 'needn', \"needn't\", 'shan', \"shan't\", 'shouldn', \"shouldn't\", 'wasn', \"wasn't\", 'weren', \"weren't\", 'won', \"won't\", 'wouldn', \"wouldn't\"]\n"
          ],
          "name": "stdout"
        }
      ]
    },
    {
      "cell_type": "markdown",
      "metadata": {
        "id": "qI7vrRolu80z"
      },
      "source": [
        "Bert"
      ]
    },
    {
      "cell_type": "code",
      "metadata": {
        "colab": {
          "base_uri": "https://localhost:8080/",
          "height": 296,
          "referenced_widgets": [
            "4de2c8f075724ee79435a611764c0ebb",
            "da197d57cdb347ac930fc339d1746ea3",
            "250285d109634750b2c6f807ef9c73be",
            "b0bb7ba5d78043bb9df811c898d083bc",
            "59df23aa884d441db9cfee3cc99a4e41",
            "fbcc1c4b170b4142a2ca9050887f5dfc",
            "e50e97ea3eec49e09cd1bffd00d8694d",
            "840ca6b804074fe2ba50065393fb531a",
            "8619ca22d5e4437bafec1bb1247070ea",
            "8e4fd1518e864d748a122af4d507898f",
            "2206e82e24af41e9946b34044da33417",
            "15ba4cbbbbec4e04bbb7cf1ab03fecd3",
            "224ac5ff16f448e3934723fed11e1640",
            "33660ed48e0d45ceb1c7a8f3f6d3c391",
            "958e7fb01e314ba9bf355c1b0dc36caf",
            "4f08dc66865c46b2bc0d0e0cef412508",
            "2e72aac4084a4dfcab355b9793187392",
            "03588e34f1384d418eaff50749e60a20",
            "d51aa0307e7943ecb38924238cd10741",
            "4f8ea760c7c8445c93dafdbb782a05a7",
            "5a3acedb230f4eedb212d894651011d1",
            "2887a1952f05485eb55fffa3c30dfc8d",
            "3d3c839abb984011930f0126000ad7e8",
            "a5c25b9800f1489ab78bb982e8ca0fd3",
            "3e1fd7ff6046419499fd1abc0565b86e",
            "abcef653eaa04a8aaa9e30a858894340",
            "c7758aef66b844edb45330e8fa530e01",
            "2f56e2292cfb4b86abd9999e739bc5f8",
            "64ae7230aa9549fa91b127ed541bdfee",
            "0f7b9ede86414e9d835b148040cca324",
            "baaf7ba5459447d0918313e5492323ea",
            "952b1709eea04ff39f679b75ceaf7a1f",
            "cc6a3e3f672248f8a724956531e819ea",
            "a917973d2b3d49a08c42e34620ff3232",
            "d7922bf21b004ec4a5562feaf76efb62",
            "98386165e3eb4f8d924e7f57b79cfa01",
            "1666b1d2508d4a13a7f9677f2489273f",
            "6825e607869a43faaf8dd31f5881c3b7",
            "7c88c87c01b54c78a476dc6a046a0cf8",
            "d2050a86ad244cb58448ecc0bedfa00e"
          ]
        },
        "id": "6XfJi3IionWc",
        "outputId": "d553a43c-cc5a-4850-e1de-4a9f4d0bd411"
      },
      "source": [
        "tokenizer = BertTokenizer.from_pretrained('bert-base-uncased')\n",
        "model = BertForPreTraining.from_pretrained('bert-base-uncased')\n",
        "embeddings = []\n",
        "test_embeddings = []\n",
        "for x in range(0,230):\n",
        "  inputs = tokenizer(str(tweets['Text'].iloc[x]), return_tensors=\"pt\")\n",
        "  test_inputs = tokenizer(str(test_data['Text'].iloc[x]), return_tensors=\"pt\")\n",
        "  outputs = model(**inputs)\n",
        "  test_outputs = model(**test_inputs)\n",
        "  embeddings.append(outputs[0][:,0,:].detach().numpy().tolist()[0])\n",
        "  test_embeddings.append(test_outputs[0][:,0,:].detach().numpy().tolist()[0])"
      ],
      "execution_count": null,
      "outputs": [
        {
          "output_type": "display_data",
          "data": {
            "application/vnd.jupyter.widget-view+json": {
              "model_id": "4de2c8f075724ee79435a611764c0ebb",
              "version_major": 2,
              "version_minor": 0
            },
            "text/plain": [
              "HBox(children=(FloatProgress(value=0.0, description='Downloading', max=231508.0, style=ProgressStyle(descripti…"
            ]
          },
          "metadata": {
            "tags": []
          }
        },
        {
          "output_type": "stream",
          "text": [
            "\n"
          ],
          "name": "stdout"
        },
        {
          "output_type": "display_data",
          "data": {
            "application/vnd.jupyter.widget-view+json": {
              "model_id": "8619ca22d5e4437bafec1bb1247070ea",
              "version_major": 2,
              "version_minor": 0
            },
            "text/plain": [
              "HBox(children=(FloatProgress(value=0.0, description='Downloading', max=28.0, style=ProgressStyle(description_w…"
            ]
          },
          "metadata": {
            "tags": []
          }
        },
        {
          "output_type": "stream",
          "text": [
            "\n"
          ],
          "name": "stdout"
        },
        {
          "output_type": "display_data",
          "data": {
            "application/vnd.jupyter.widget-view+json": {
              "model_id": "2e72aac4084a4dfcab355b9793187392",
              "version_major": 2,
              "version_minor": 0
            },
            "text/plain": [
              "HBox(children=(FloatProgress(value=0.0, description='Downloading', max=466062.0, style=ProgressStyle(descripti…"
            ]
          },
          "metadata": {
            "tags": []
          }
        },
        {
          "output_type": "stream",
          "text": [
            "\n"
          ],
          "name": "stdout"
        },
        {
          "output_type": "display_data",
          "data": {
            "application/vnd.jupyter.widget-view+json": {
              "model_id": "3e1fd7ff6046419499fd1abc0565b86e",
              "version_major": 2,
              "version_minor": 0
            },
            "text/plain": [
              "HBox(children=(FloatProgress(value=0.0, description='Downloading', max=570.0, style=ProgressStyle(description_…"
            ]
          },
          "metadata": {
            "tags": []
          }
        },
        {
          "output_type": "stream",
          "text": [
            "\n"
          ],
          "name": "stdout"
        },
        {
          "output_type": "display_data",
          "data": {
            "application/vnd.jupyter.widget-view+json": {
              "model_id": "cc6a3e3f672248f8a724956531e819ea",
              "version_major": 2,
              "version_minor": 0
            },
            "text/plain": [
              "HBox(children=(FloatProgress(value=0.0, description='Downloading', max=440473133.0, style=ProgressStyle(descri…"
            ]
          },
          "metadata": {
            "tags": []
          }
        },
        {
          "output_type": "stream",
          "text": [
            "\n"
          ],
          "name": "stdout"
        },
        {
          "output_type": "stream",
          "text": [
            "Some weights of BertForPreTraining were not initialized from the model checkpoint at bert-base-uncased and are newly initialized: ['cls.predictions.decoder.bias']\n",
            "You should probably TRAIN this model on a down-stream task to be able to use it for predictions and inference.\n"
          ],
          "name": "stderr"
        }
      ]
    },
    {
      "cell_type": "code",
      "metadata": {
        "id": "gZW-Ro2Zrk8V"
      },
      "source": [
        "tokenizer = BertTokenizer.from_pretrained('bert-base-uncased')\n",
        "model = BertForPreTraining.from_pretrained('bert-base-uncased')\n",
        "pred_embeddings = []\n",
        "test_embeddings = []\n",
        "for x in range(0,230):\n",
        "  inputs = tokenizer(str(tweets['Text'].iloc[x]), return_tensors=\"pt\")\n",
        "  test_inputs = tokenizer(str(test_data['Text'].iloc[x]), return_tensors=\"pt\")\n",
        "  outputs = model(**inputs)\n",
        "  test_outputs = model(**test_inputs)\n",
        "  embeddings.append(outputs[0][:,0,:].detach().numpy().tolist()[0])\n",
        "  test_embeddings.append(test_outputs[0][:,0,:].detach().numpy().tolist()[0])"
      ],
      "execution_count": null,
      "outputs": []
    },
    {
      "cell_type": "code",
      "metadata": {
        "colab": {
          "base_uri": "https://localhost:8080/"
        },
        "id": "ZMcPp9lAruWw",
        "outputId": "7228e790-22fd-4dac-c49a-681bc5962026"
      },
      "source": [
        "print(accuracy_score(prediction_df['Presence/Absence'],prediction_df['Manual']))"
      ],
      "execution_count": null,
      "outputs": [
        {
          "output_type": "stream",
          "text": [
            "0.6565217391304348\n"
          ],
          "name": "stdout"
        }
      ]
    },
    {
      "cell_type": "code",
      "metadata": {
        "colab": {
          "base_uri": "https://localhost:8080/"
        },
        "id": "V3jbZAuByWNt",
        "outputId": "bd61a5e9-0255-4467-d2f9-daab684f9c96"
      },
      "source": [
        "#'''\n",
        "tfidfconverter = TfidfVectorizer(max_features=1200, min_df=5, max_df= 0.7,  stop_words=stopwords)  \n",
        "X1 = processing(tweets['Text'], len(tweets['Text']))\n",
        "Y1 = tweets['Presence/Absence'].to_numpy()\n",
        "X1 = tfidfconverter.fit_transform(X1).toarray()\n",
        "\n",
        "X2 = processing(test_data['Text'],len(test_data['Text']))\n",
        "X2 = tfidfconverter.fit_transform(X2).toarray()\n",
        "\n",
        "\n",
        "'''\n",
        "X1 = pd.DataFrame(embeddings).to_numpy()\n",
        "Y1 = tweets['Presence/Absence'].to_numpy()\n",
        "X2 = pd.DataFrame(test_embeddings).to_numpy()\n",
        "'''\n",
        "f1 = []\n",
        "ascore = []\n",
        "tp = 0\n",
        "fp = 0\n",
        "tn = 0\n",
        "fn = 0\n",
        "predictions = []\n",
        "kf = KFold(n_splits=230)\n",
        "kf.get_n_splits(X1)\n",
        "for train_index, test_index in kf.split(X1):\n",
        "  X_train, X_test = X1[train_index], X1[test_index]\n",
        "  y_train, y_test = Y1[train_index], Y1[test_index]\n",
        "#  X_pred, X_pred2 = X2[train_index], X2[test_index]\n",
        "  classifier_RandomForestClassifier = RandomForestClassifier(n_estimators=100, random_state=0)  \n",
        "  classifier_RandomForestClassifier.fit(X_train, y_train)\n",
        "  pred = classifier_RandomForestClassifier.predict(X_test)\n",
        "  f1.append(f1_score(y_test,pred, average = 'micro'))\n",
        "  ascore.append(accuracy_score(y_test,pred))\n",
        "  if(y_test[0] == 1 and pred[0] == 1):\n",
        "    tp+=1\n",
        "  elif(y_test[0] == 0 and pred[0] == 1):\n",
        "    fp+=1\n",
        "  elif(y_test[0] == 0 and pred[0] == 0):\n",
        "    tn+=1\n",
        "  else:\n",
        "    fn+=1 \n",
        "#  predictions.append(classifier_RandomForestClassifier.predict(X2))\n",
        "print('F1 average', sum(f1)/230)\n",
        "print('Accuracy Score', sum(ascore)/230)\n",
        "print(\"True Positive: \", tp)\n",
        "print(\"False Positive: \", fp)\n",
        "print(\"True Negative: \", tn)\n",
        "print(\"False Negative: \", fn)"
      ],
      "execution_count": null,
      "outputs": [
        {
          "output_type": "stream",
          "text": [
            "F1 average 0.8478260869565217\n",
            "Accuracy Score 0.8478260869565217\n",
            "True Positive:  93\n",
            "False Positive:  13\n",
            "True Negative:  102\n",
            "False Negative:  22\n"
          ],
          "name": "stdout"
        }
      ]
    },
    {
      "cell_type": "code",
      "metadata": {
        "colab": {
          "background_save": true,
          "base_uri": "https://localhost:8080/"
        },
        "id": "vN_SzBuF071t",
        "outputId": "62e59fdc-ecaa-43e7-c4f4-dc4b026159b4"
      },
      "source": [
        "X1 = pd.DataFrame(embeddings).to_numpy()\n",
        "Y1 = tweets['Presence/Absence'].to_numpy()\n",
        "X2 = pd.DataFrame(test_embeddings).to_numpy()\n",
        "\n",
        "f1 = []\n",
        "ascore = []\n",
        "tp = 0\n",
        "fp = 0\n",
        "tn = 0\n",
        "fn = 0\n",
        "counter = 0\n",
        "predictions = []\n",
        "kf = KFold(n_splits=230)\n",
        "kf.get_n_splits(X1)\n",
        "for train_index, test_index in kf.split(X1):\n",
        "  X_train, X_test = X1[train_index], X1[test_index]\n",
        "  y_train, y_test = Y1[train_index], Y1[test_index]\n",
        "#  X_pred, X_pred2 = X2[train_index], X2[test_index]\n",
        "  clf = AdaBoostClassifier(n_estimators=100, random_state=0)\n",
        "  clf.fit(X_train, y_train)\n",
        "  pred = clf.predict(X_test)\n",
        "  f1.append(f1_score(y_test,pred, average = 'micro'))\n",
        "  ascore.append(accuracy_score(y_test,pred))\n",
        "  if(y_test[0] == 1 and pred[0] == 1):\n",
        "    tp+=1\n",
        "  elif(y_test[0] == 0 and pred[0] == 1):\n",
        "    fp+=1\n",
        "  elif(y_test[0] == 0 and pred[0] == 0):\n",
        "    tn+=1\n",
        "  else:\n",
        "    fn+=1 \n",
        "  counter+=1\n",
        "  if(counter%10 == 0):\n",
        "    print(counter)\n",
        "print('F1 average', sum(f1)/230)\n",
        "print('Accuracy Score', sum(ascore)/230)\n",
        "print(\"True Positive: \", tp)\n",
        "print(\"False Positive: \", fp)\n",
        "print(\"True Negative: \", tn)\n",
        "print(\"False Negative: \", fn)"
      ],
      "execution_count": null,
      "outputs": [
        {
          "output_type": "stream",
          "text": [
            "10\n",
            "20\n",
            "30\n",
            "40\n",
            "50\n",
            "60\n",
            "70\n",
            "80\n",
            "90\n",
            "100\n",
            "110\n",
            "120\n",
            "130\n",
            "140\n",
            "150\n",
            "160\n",
            "170\n",
            "180\n",
            "190\n",
            "200\n",
            "210\n",
            "220\n",
            "230\n",
            "F1 average 0.808695652173913\n",
            "Accuracy Score 0.808695652173913\n",
            "True Positive:  94\n",
            "False Positive:  23\n",
            "True Negative:  92\n",
            "False Negative:  21\n"
          ],
          "name": "stdout"
        }
      ]
    },
    {
      "cell_type": "code",
      "metadata": {
        "id": "Fo4gSvtqd1Cf"
      },
      "source": [
        "X1 = pd.DataFrame(embeddings).to_numpy()\n",
        "Y1 = tweets['Presence/Absence'].to_numpy()\n",
        "X2 = pd.DataFrame(test_embeddings).to_numpy()\n",
        "\n",
        "f1 = []\n",
        "ascore = []\n",
        "tp = 0\n",
        "fp = 0\n",
        "tn = 0\n",
        "fn = 0\n",
        "counter = 0\n",
        "predictions = []\n",
        "kf = KFold(n_splits=230)\n",
        "kf.get_n_splits(X1)\n",
        "for train_index, test_index in kf.split(X1):\n",
        "  X_train, X_test = X1[train_index], X1[test_index]\n",
        "  y_train, y_test = Y1[train_index], Y1[test_index]\n",
        "#  X_pred, X_pred2 = X2[train_index], X2[test_index]\n",
        "  clf = GradientBoostingClassifier(n_estimators=100, learning_rate=1.0, max_depth=1, random_state=0)\n",
        "  clf.fit(X_train, y_train)\n",
        "  pred = clf.predict(X_test)\n",
        "  f1.append(f1_score(y_test,pred, average = 'micro'))\n",
        "  ascore.append(accuracy_score(y_test,pred))\n",
        "  if(y_test[0] == 1 and pred[0] == 1):\n",
        "    tp+=1\n",
        "  elif(y_test[0] == 0 and pred[0] == 1):\n",
        "    fp+=1\n",
        "  elif(y_test[0] == 0 and pred[0] == 0):\n",
        "    tn+=1\n",
        "  else:\n",
        "    fn+=1 \n",
        "  counter+=1\n",
        "  if(counter%10 == 0):\n",
        "    print(counter)\n",
        "print('F1 average', sum(f1)/230)\n",
        "print('Accuracy Score', sum(ascore)/230)\n",
        "print(\"True Positive: \", tp)\n",
        "print(\"False Positive: \", fp)\n",
        "print(\"True Negative: \", tn)\n",
        "print(\"False Negative: \", fn)"
      ],
      "execution_count": null,
      "outputs": []
    },
    {
      "cell_type": "code",
      "metadata": {
        "colab": {
          "base_uri": "https://localhost:8080/"
        },
        "id": "4not5qnaT6I2",
        "outputId": "07c8cdc5-6d97-44f0-876e-7907a9042230"
      },
      "source": [
        "results_float = sum(predictions)/230\n",
        "results_binary = list(map(int, results_float))\n",
        "print(sum(results_binary))"
      ],
      "execution_count": null,
      "outputs": [
        {
          "output_type": "stream",
          "text": [
            "11\n"
          ],
          "name": "stdout"
        }
      ]
    },
    {
      "cell_type": "code",
      "metadata": {
        "colab": {
          "base_uri": "https://localhost:8080/"
        },
        "id": "eP1A-3CLV9j1",
        "outputId": "694c6543-e665-4a25-b52c-c55c7a3b8155"
      },
      "source": [
        "test_data['Presence/Absence'] = results_binary\n",
        "print(sum(test_data['Presence/Absence']))"
      ],
      "execution_count": null,
      "outputs": [
        {
          "output_type": "stream",
          "text": [
            "11\n"
          ],
          "name": "stdout"
        }
      ]
    },
    {
      "cell_type": "code",
      "metadata": {
        "colab": {
          "base_uri": "https://localhost:8080/",
          "height": 17
        },
        "id": "mQXnBStpXZSy",
        "outputId": "75f7f71a-a97e-4425-8def-85e1582b0c98"
      },
      "source": [
        "#test_data.to_csv('/content/drive/My Drive/Colab Notebooks/environmental20tweets_BERTPredictions.csv', index=False)\n",
        "from google.colab import files\n",
        "test_data.to_csv('environmental20tweets_BERTPredictions.csv') \n",
        "files.download('environmental20tweets_BERTPredictions.csv')"
      ],
      "execution_count": null,
      "outputs": [
        {
          "output_type": "display_data",
          "data": {
            "application/javascript": [
              "\n",
              "    async function download(id, filename, size) {\n",
              "      if (!google.colab.kernel.accessAllowed) {\n",
              "        return;\n",
              "      }\n",
              "      const div = document.createElement('div');\n",
              "      const label = document.createElement('label');\n",
              "      label.textContent = `Downloading \"${filename}\": `;\n",
              "      div.appendChild(label);\n",
              "      const progress = document.createElement('progress');\n",
              "      progress.max = size;\n",
              "      div.appendChild(progress);\n",
              "      document.body.appendChild(div);\n",
              "\n",
              "      const buffers = [];\n",
              "      let downloaded = 0;\n",
              "\n",
              "      const channel = await google.colab.kernel.comms.open(id);\n",
              "      // Send a message to notify the kernel that we're ready.\n",
              "      channel.send({})\n",
              "\n",
              "      for await (const message of channel.messages) {\n",
              "        // Send a message to notify the kernel that we're ready.\n",
              "        channel.send({})\n",
              "        if (message.buffers) {\n",
              "          for (const buffer of message.buffers) {\n",
              "            buffers.push(buffer);\n",
              "            downloaded += buffer.byteLength;\n",
              "            progress.value = downloaded;\n",
              "          }\n",
              "        }\n",
              "      }\n",
              "      const blob = new Blob(buffers, {type: 'application/binary'});\n",
              "      const a = document.createElement('a');\n",
              "      a.href = window.URL.createObjectURL(blob);\n",
              "      a.download = filename;\n",
              "      div.appendChild(a);\n",
              "      a.click();\n",
              "      div.remove();\n",
              "    }\n",
              "  "
            ],
            "text/plain": [
              "<IPython.core.display.Javascript object>"
            ]
          },
          "metadata": {
            "tags": []
          }
        },
        {
          "output_type": "display_data",
          "data": {
            "application/javascript": [
              "download(\"download_c921ecc8-b520-40cc-9957-f04e24c3570e\", \"environmental20tweets_BERTPredictions.csv\", 72753)"
            ],
            "text/plain": [
              "<IPython.core.display.Javascript object>"
            ]
          },
          "metadata": {
            "tags": []
          }
        }
      ]
    },
    {
      "cell_type": "code",
      "metadata": {
        "colab": {
          "base_uri": "https://localhost:8080/"
        },
        "id": "nw02uxrVJwuS",
        "outputId": "e5325e71-8d49-4b41-adbd-800f4abd6b75"
      },
      "source": [
        "hope_count(tweets,h_list)\n",
        "hope_count(test_data,h_list)\n",
        "\n",
        "X3 = tweets[['Hope_Count','CODED_hashtags']]\n",
        "Y3 = tweets['Presence/Absence']\n",
        "X_train3, X_test3, y_train3, y_test3 = train_test_split(X3, Y3, test_size=0.2, random_state=0)\n",
        "X4 = test_data[['Hope_Count','CODED_hashtags']]\n",
        "Y4 = test_data['Fake_Label']\n",
        "\n",
        "\n",
        "classifier_RandomForestClassifier = RandomForestClassifier(n_estimators=100, random_state=0)  \n",
        "classifier_RandomForestClassifier.fit(X_train3, y_train3)\n",
        "pred2 = classifier_RandomForestClassifier.predict(X_test3)\n",
        "print(roc_auc_score(y_test3,pred2))\n",
        "print(accuracy_score(y_test3,pred2))\n",
        "\n",
        "test_predictions = classifier_RandomForestClassifier.predict(X4)\n",
        "print(test_predictions)\n",
        "print(sum(tweets['Presence/Absence']))\n",
        "print(sum(test_predictions))"
      ],
      "execution_count": null,
      "outputs": [
        {
          "output_type": "stream",
          "text": [
            "/usr/local/lib/python3.7/dist-packages/pandas/core/indexing.py:670: SettingWithCopyWarning: \n",
            "A value is trying to be set on a copy of a slice from a DataFrame\n",
            "\n",
            "See the caveats in the documentation: https://pandas.pydata.org/pandas-docs/stable/user_guide/indexing.html#returning-a-view-versus-a-copy\n",
            "  iloc._setitem_with_indexer(indexer, value)\n"
          ],
          "name": "stderr"
        },
        {
          "output_type": "stream",
          "text": [
            "0.6430020283975659\n",
            "0.5652173913043478\n",
            "[0 0 0 0 0 0 0 0 0 0 0 0 0 0 1 0 0 0 0 0 1 0 0 0 1 0 0 0 0 0 0 0 0 0 0 0 0\n",
            " 0 0 0 0 0 0 0 0 0 1 0 0 0 0 0 0 0 0 0 0 0 1 1 0 0 0 0 0 0 0 0 0 0 0 0 0 0\n",
            " 0 0 0 0 0 0 0 0 0 0 0 0 0 0 0 0 0 0 1 1 0 0 0 0 1 0 1 1 0 0 0 0 0 0 0 0 0\n",
            " 0 0 0 0 1 1 0 1 0 0 1 0 0 0 0 0 0 0 0 0 0 0 0 0 0 1 0 0 0 1 0 0 0 0 0 0 0\n",
            " 0 0 0 1 0 0 0 0 0 0 0 1 0 0 0 0 0 0 0 0 0 1 0 0 0 0 0 0 0 0 0 1 0 0 0 0 1\n",
            " 0 0 0 0 0 0 0 0 0 0 1 0 0 1 0 0 0]\n",
            "115\n",
            "24\n"
          ],
          "name": "stdout"
        }
      ]
    },
    {
      "cell_type": "code",
      "metadata": {
        "id": "H04mkypAPlb8"
      },
      "source": [
        "tfidfconverter = TfidfVectorizer(max_features=1200, min_df=5, max_df= 0.7,  stop_words=stopwords)  \n",
        "\n",
        "X1 = processing(tweets['Text'], len(tweets['Text']))\n",
        "Y1 = tweets['Presence/Absence']\n",
        "dataset1 = tfidfconverter.fit_transform(X1).toarray()\n",
        "X_train1, X_test1, y_train1, y_test1 = train_test_split(dataset1, Y1, test_size=0.2, random_state=0)\n",
        "\n",
        "X2 = processing(test_data['Text'],len(test_data['Text']))\n",
        "Y2 = test_data['Fake_Label']\n",
        "dataset2 = tfidfconverter.fit_transform(X2).toarray()\n",
        "X_train2, X_test2, y_train2, y_test2 = train_test_split(dataset2, Y2, test_size=0.2, random_state=0)"
      ],
      "execution_count": null,
      "outputs": []
    },
    {
      "cell_type": "code",
      "metadata": {
        "colab": {
          "base_uri": "https://localhost:8080/"
        },
        "id": "wWaa0r08TVj0",
        "outputId": "680b073c-b68d-4546-9c61-f660ee9d7306"
      },
      "source": [
        "classifier_RandomForestClassifier = RandomForestClassifier(n_estimators=100, random_state=0)  \n",
        "classifier_RandomForestClassifier.fit(X_train1, y_train1)\n",
        "predictions_RandomForestClassifier = classifier_RandomForestClassifier.predict(X_test1)\n",
        "print(predictions_RandomForestClassifier)\n",
        "print(f1_score(y_test1,predictions_RandomForestClassifier, average = 'micro'))\n",
        "print(confusion_matrix(y_test1,predictions_RandomForestClassifier))\n",
        "print(accuracy_score(y_test1, predictions_RandomForestClassifier))"
      ],
      "execution_count": null,
      "outputs": [
        {
          "output_type": "stream",
          "text": [
            "[0 0 1 0 1 0 1 0 1 0 1 0 0 1 0 0 0 1 0 0 1 0 1 1 1 1 1 0 1 1 1 1 0 1 0 1 1\n",
            " 1 1 0 1 1 0 0 1 1]\n",
            "0.8913043478260869\n",
            "[[16  1]\n",
            " [ 4 25]]\n",
            "0.8913043478260869\n"
          ],
          "name": "stdout"
        }
      ]
    },
    {
      "cell_type": "code",
      "metadata": {
        "colab": {
          "base_uri": "https://localhost:8080/"
        },
        "id": "Zq3FiGewf-E_",
        "outputId": "f852d239-5f9c-4157-b7b7-e8b245b02ed5"
      },
      "source": [
        "X_test2.shape"
      ],
      "execution_count": null,
      "outputs": [
        {
          "output_type": "execute_result",
          "data": {
            "text/plain": [
              "(46, 107)"
            ]
          },
          "metadata": {
            "tags": []
          },
          "execution_count": 47
        }
      ]
    },
    {
      "cell_type": "code",
      "metadata": {
        "colab": {
          "base_uri": "https://localhost:8080/"
        },
        "id": "iQgfvmuVdyq6",
        "outputId": "eb9ae7c7-9cc7-46b3-ff7c-1e3352e47595"
      },
      "source": [
        "from sklearn.tree import DecisionTreeClassifier\n",
        "from sklearn.model_selection import cross_val_score\n",
        "clf = DecisionTreeClassifier(random_state=0)\n",
        "Classification = clf.fit(X_train1, y_train1)\n",
        "pred = clf.predict(X_test1)\n",
        "print(pred)\n",
        "#cross_val_score(clf, iris.data, iris.target, cv=10)"
      ],
      "execution_count": null,
      "outputs": [
        {
          "output_type": "stream",
          "text": [
            "[1 1 1 1 1 1 1 1 1 1 1 1 1 1 1 1 1 1 1 1 1 1 1 1 1 1 1 1 1 1 1 1 1 1 1 1 1\n",
            " 1 1 1 1]\n"
          ],
          "name": "stdout"
        }
      ]
    }
  ]
}